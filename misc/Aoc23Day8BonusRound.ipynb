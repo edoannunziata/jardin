{
 "cells": [
  {
   "cell_type": "markdown",
   "id": "2da68ad1",
   "metadata": {},
   "source": [
    "# Advent of Code 2023 Day 8 - Bonus Round\n",
    "\n",
    "December 8 is a holiday in Catholic Italy -- the Immaculate Conception if you're wondering -- and I'm in bed with a nasty fever. What better occasion to do some Advent of Code?\n",
    "\n",
    "The text of the problem is this: [Day 8 - Haunted Wasteland](https://adventofcode.com/2023/day/8). The interesting part is the second one. A summary of the problem statement is as follows. You are given as input a directed graph whose edges are labeled with at most two labels, $G = (V, E, L)$ with $L: E \\rightarrow \\{0, 1\\}$. From each node departs exactly one edge for each type of label, and no two out-edges from the same node have the same label. A subset of the nodes $S \\subseteq V$ are starting nodes, and a subset of the nodes $A \\subseteq V$ are accepting nodes. You are furthermore given a finite string $l \\in \\{0, 1\\}^*$. Let $l^*$ be the concatenation of infinitely many copies of $l$.\n",
    "For each node $s$, let $f^n(s)$ be the node reached taking the edge from $s$ labeled with the first character of $l^*$, then the edge outgoing from that node labeled with the second character of $l^*$ and so on for a total of $n$ steps.\n",
    "More formally, let $f^0(s) = s$ and $f^{n+1}(s)$ be the unique $s'$ such that $(f^n(s), s') \\in E$ and $F((f^n(s), s')) = l^*[n+1]$.\n",
    "Determine the least $n$ such that for all $s \\in S$ it holds that $f^n(s) \\in A$.\n",
    "\n",
    "In more intuitive terms, imagine placing a token on each starting node, and for each character of $l^*$ in order, moving simultaneously each token to the node pointed by the edge labeled with that character. The problem asks after how many moves all tokens will be on accepting nodes.\n",
    "\n",
    "The problem is interesting but _I dislike problem statements that don't tell you the hypotheses, all of them and all at once_. As we will see, the intended solutions uses the fact that the input is more constrained that what the problem text describes. So, here comes the _bonus round_. Let's try to solve the problem in full generality!\n",
    "\n",
    "The crucial observation is this: imagine following the transitions from a certain state. They must eventually cycle, with an optional anticycle. To efficiently find the length of the anticycle and cycle, construct a \"long pointer\" from each state to the state it would reach following all edges of the input string, in order. This may be made efficient by computing them on demand and storing the results to avoid computing anything twice.\n",
    "\n",
    "The anticycle and cycle from each node on the \"long pointer\" graph induce an anticycle and cycle in the original state machine.\n",
    "\n",
    "At this point the problem becomes number theory. Let $l$ be the length of the given string, $a$ and $c$ be the lengths of the anticycle and cycle on the long pointer graph respectively, $f(s)$ be node connected to $s$ in the long pointer graph.\n",
    "\n",
    "Furthermore, let $R(s)$ be the set containing all indices $i$ for which following $i$ transitions from $s$ in the original graph (using the prefix of the given string to choose labels) reaches an accepting state.\n",
    "\n",
    "With this notation, it is easy to see that starting from a node $s$, we will be in an accepting state if and only if the number of steps made is in the following set:\n",
    "\n",
    "$$\n",
    "X_s =\n",
    "\\left(\n",
    "\\bigcup_{i=0}^{a} \\{li + j: j \\in R(f^{i}(s)) \\}\n",
    "\\right)\n",
    "\\cup\n",
    "\\left(\n",
    "\\bigcup_{i=0}^{\\infty} \\{la + li + j: j \\in R(f^{a}(s)) \\}\n",
    "\\right)\n",
    "$$\n",
    "\n",
    "The final answer is thus the intersection of $X_s$ for all $s$ that are starting states."
   ]
  },
  {
   "cell_type": "markdown",
   "id": "26ab709d",
   "metadata": {},
   "source": [
    "First, some imports:"
   ]
  },
  {
   "cell_type": "code",
   "execution_count": 1,
   "id": "d5716978",
   "metadata": {},
   "outputs": [],
   "source": [
    "from functools import cache, reduce\n",
    "from collections import defaultdict, Counter\n",
    "from dataclasses import dataclass\n",
    "from itertools import product, count\n",
    "from math import lcm"
   ]
  },
  {
   "cell_type": "markdown",
   "id": "7b30f001",
   "metadata": {},
   "source": [
    "Let's get to work!"
   ]
  },
  {
   "cell_type": "code",
   "execution_count": 2,
   "id": "788a104b",
   "metadata": {},
   "outputs": [],
   "source": [
    "input_8 = open('input/8.txt').read().split('\\n')\n",
    "\n",
    "moves, _, *trans = input_8\n",
    "\n",
    "\n",
    "class StateAutomaton:\n",
    "    def __init__(self, trans):\n",
    "        self.trans = defaultdict(list)\n",
    "        self.all_states = set()\n",
    "        for pre, post, label in trans:\n",
    "            self.trans[pre].append((post, label))\n",
    "            self.all_states |= {pre, post}\n",
    "            \n",
    "    def transition(self, pre, label):\n",
    "        for post, tlabel in self.trans[pre]:\n",
    "            if label == tlabel:\n",
    "                return post\n",
    "            \n",
    "    @classmethod\n",
    "    def from_text(cls, ls):\n",
    "        def gen_trans(ls):\n",
    "            for l in ls:\n",
    "                a, b, c = l.translate(\n",
    "                    str.maketrans('(),=', '    ')\n",
    "                ).split()\n",
    "                yield a, b, 'L'\n",
    "                yield a, c, 'R'\n",
    "        return cls(gen_trans(ls))\n",
    "\n",
    "\n",
    "@cache\n",
    "def fast_ptr(automaton, state, labels):\n",
    "    return reduce(automaton.transition, labels, state)\n",
    "\n",
    "\n",
    "@cache\n",
    "def cycle_length(automaton, state, labels):\n",
    "    visited = {}\n",
    "    for n in count():\n",
    "        if state in visited:\n",
    "            return visited[state], n - visited[state]\n",
    "        visited[state] = n\n",
    "        state = fast_ptr(automaton, state, labels) \n",
    "\n",
    "\n",
    "@cache\n",
    "def accepted_points(automaton, state, labels, cond):\n",
    "    def _trans_automaton(state):\n",
    "        for n, l in enumerate(labels, 1):\n",
    "            state = automaton.transition(state, l)\n",
    "            if cond(state):\n",
    "                yield n, state\n",
    "    return list(_trans_automaton(state))\n",
    "\n",
    "\n",
    "@dataclass\n",
    "class AcceptedPoints:\n",
    "    anticycle_accepted: list[int]\n",
    "    anticycle_length: int\n",
    "    cycle_accepted: list[int]\n",
    "    cycle_length: int\n",
    "        \n",
    "    def gen(self):\n",
    "        yield from iter(self.anticycle_accepted)\n",
    "        for k in count():\n",
    "            yield from (\n",
    "                k * self.cycle_length + self.anticycle_length + x\n",
    "                for x in self.cycle_accepted\n",
    "            )\n",
    "\n",
    "\n",
    "def accepted_points_repeating(automaton, state, labels, cond):\n",
    "    anticycle, cycle = cycle_length(automaton, state, labels)\n",
    "    \n",
    "    anticycle_accepted = []\n",
    "    for i in range(anticycle):\n",
    "        anticycle_accepted += [\n",
    "            i * len(labels) + n for n, _ in\n",
    "            accepted_points(automaton, state, labels, cond)\n",
    "        ]\n",
    "        state = fast_ptr(automaton, state, labels)\n",
    "    \n",
    "    cycle_accepted = []\n",
    "    for j in range(cycle):\n",
    "        cycle_accepted += [\n",
    "            j * len(labels) + n for n, _ in\n",
    "            accepted_points(automaton, state, labels, cond)\n",
    "        ]\n",
    "        state = fast_ptr(automaton, state, labels)\n",
    "        \n",
    "    return AcceptedPoints(\n",
    "        anticycle_accepted,\n",
    "        anticycle * len(labels),\n",
    "        cycle_accepted,\n",
    "        cycle * len(labels)\n",
    "    )\n",
    "\n",
    "\n",
    "S = StateAutomaton.from_text(trans)\n",
    "\n",
    "cond = lambda u: u == 'ZZZ'\n",
    "accepted = accepted_points_repeating(S, 'AAA', moves, cond)\n",
    "A = next(accepted.gen())\n",
    "assert A == 16579\n",
    "\n",
    "\n",
    "cond = lambda u: u.endswith('Z')\n",
    "starting_states = {\n",
    "    a.split()[0] for a in trans\n",
    "    if a.split()[0].endswith('A')\n",
    "}\n",
    "\n",
    "accepted = {\n",
    "    state: accepted_points_repeating(S, state, moves, cond)\n",
    "    for state in starting_states\n",
    "}\n",
    "    \n",
    "    \n",
    "A = lcm(16579, 17141, 14893, 22199, 12083, 19951)\n",
    "assert A == 12927600769609"
   ]
  },
  {
   "cell_type": "markdown",
   "id": "980cec1f",
   "metadata": {},
   "source": [
    "This does not work in general! The input is in fact a special case where the following happens:"
   ]
  },
  {
   "cell_type": "code",
   "execution_count": 3,
   "id": "bca3e104",
   "metadata": {},
   "outputs": [
    {
     "data": {
      "text/plain": [
       "{'LJA': AcceptedPoints(anticycle_accepted=[], anticycle_length=281, cycle_accepted=[21918], cycle_length=22199),\n",
       " 'KTA': AcceptedPoints(anticycle_accepted=[], anticycle_length=281, cycle_accepted=[14612], cycle_length=14893),\n",
       " 'NFA': AcceptedPoints(anticycle_accepted=[], anticycle_length=281, cycle_accepted=[11802], cycle_length=12083),\n",
       " 'JXA': AcceptedPoints(anticycle_accepted=[], anticycle_length=281, cycle_accepted=[16860], cycle_length=17141),\n",
       " 'AAA': AcceptedPoints(anticycle_accepted=[], anticycle_length=281, cycle_accepted=[16298], cycle_length=16579),\n",
       " 'PLA': AcceptedPoints(anticycle_accepted=[], anticycle_length=281, cycle_accepted=[19670], cycle_length=19951)}"
      ]
     },
     "execution_count": 3,
     "metadata": {},
     "output_type": "execute_result"
    }
   ],
   "source": [
    "accepted"
   ]
  },
  {
   "cell_type": "markdown",
   "id": "47b1ff31",
   "metadata": {},
   "source": [
    "By what we have shown before, we would have:\n",
    "\n",
    "$$\n",
    "X_{JXA} = 281 + (16860 + 17141j) = 17141(j+1) \\\\\n",
    "X_{KTA} = 281 + (14612 + 14893j) = 14893(j+1) \\\\\n",
    "\\dots\n",
    "$$\n",
    "\n",
    "and similarly for all other cases, which explains why *in this particular case* taking the least common multiple works."
   ]
  },
  {
   "cell_type": "markdown",
   "id": "766c886c",
   "metadata": {},
   "source": [
    "### Day 8 - Bonus Round\n",
    "\n",
    "But what if we were to _really_ solve the problem? What would it take? It would take a lemma.\n",
    "\n",
    "### Lemma\n",
    "\n",
    "Given a system of congruences in the form\n",
    "\n",
    "$$\n",
    "f(x) = \\left\\{\n",
    "    \\begin{array}{ll}\n",
    "        x \\equiv a_1 & \\mod m_1 \\\\\n",
    "        x \\equiv a_2 & \\mod m_2 \\\\\n",
    "        \\dots \\\\\n",
    "        x \\equiv a_n & \\mod m_n\n",
    "    \\end{array}\n",
    "\\right.\n",
    "$$\n",
    "\n",
    "for _arbitrary_ $m_1, m_2, \\dots m_n$ we can compute the set of solutions modulo some integer $M$, and we can do so efficiently. The solution may not be unique, and there might be no solutions.\n",
    "\n",
    "Consider the following example:"
   ]
  },
  {
   "cell_type": "code",
   "execution_count": 4,
   "id": "360b2532",
   "metadata": {},
   "outputs": [
    {
     "data": {
      "text/plain": [
       "{(1, 55), (4, 12), (4, 14), (34, 121)}"
      ]
     },
     "execution_count": 4,
     "metadata": {},
     "output_type": "execute_result"
    }
   ],
   "source": [
    "system = {(4, 12), (4, 14), (1, 55), (34, 121)}\n",
    "system"
   ]
  },
  {
   "cell_type": "markdown",
   "id": "ed3a131d",
   "metadata": {},
   "source": [
    "representing:\n",
    "\n",
    "$$\n",
    "f(x) = \\left\\{\n",
    "    \\begin{array}{ll}\n",
    "        x \\equiv 1 & \\mod 55 \\\\\n",
    "        x \\equiv 4 & \\mod 12 \\\\\n",
    "        x \\equiv 34 & \\mod 121 \\\\\n",
    "        x \\equiv 4 & \\mod 14\n",
    "    \\end{array}\n",
    "\\right.\n",
    "$$\n",
    "\n",
    "\n",
    "#### Step 1: Divide\n",
    "Consider the equations one at a time. For each equation, if the modulo $m_i$ is a prime or a power of a prime, do not do anything. If $m_i$ contains two or more distinct primes in its factorization, use the chinese remainder theorem _in reverse_ to replace it with two or more equations whose moduli are powers of primes and whose set of solutions is identical.\n",
    "\n",
    "For example, consider:\n",
    "\n",
    "$$\n",
    "x \\equiv a \\mod p_1^{\\alpha_1}p_2^{\\alpha_2} \\dots p_n^{\\alpha_n}\n",
    "$$\n",
    "\n",
    "If $p$ is a prime, then by definition for all integers $a, b$ it holds that $p|ab \\rightarrow p|a \\vee p|b$. This means that if the above equation holds, then the following also all hold:\n",
    "\n",
    "$$\n",
    "f(x) = \\left\\{\n",
    "    \\begin{array}{ll}\n",
    "        x \\equiv a \\mod p_1^{\\alpha_1} \\\\\n",
    "        x \\equiv a \\mod p_2^{\\alpha_2} \\\\\n",
    "        \\dots \\\\\n",
    "        x \\equiv a \\mod p_n^{\\alpha_n} \\\\\n",
    "    \\end{array}\n",
    "\\right.\n",
    "$$\n",
    "\n",
    "Additionally, by the chinese remainder theorem, the intersection of all those equations has the same solutions as the original equation (powers of distinct primes are trivially coprime). This means that we can effectively _replace_ the former equation with the latter system, yielding a system of equations with the same set of solutions.\n",
    "\n",
    "Applying this reasoning to all equations, we are left with a system of equations where all modules are powers of primes."
   ]
  },
  {
   "cell_type": "code",
   "execution_count": 5,
   "id": "9c17a749",
   "metadata": {},
   "outputs": [
    {
     "data": {
      "text/plain": [
       "{(0, 2, 1),\n",
       " (0, 2, 2),\n",
       " (1, 3, 1),\n",
       " (1, 5, 1),\n",
       " (1, 11, 1),\n",
       " (4, 7, 1),\n",
       " (34, 11, 2)}"
      ]
     },
     "execution_count": 5,
     "metadata": {},
     "output_type": "execute_result"
    }
   ],
   "source": [
    "def primes():\n",
    "    ps = defaultdict(list)\n",
    "    for i in count(2):\n",
    "        if i in ps:\n",
    "            for n in ps[i]:\n",
    "                ps[i + (n if n == 2 else 2*n)].append(n)\n",
    "            del ps[i]\n",
    "        else:\n",
    "            yield i\n",
    "            ps[i**2].append(i)\n",
    "\n",
    "            \n",
    "def factorize(n):\n",
    "    fs = Counter()\n",
    "    gen = primes()\n",
    "    while n > 1:\n",
    "        p = next(gen)\n",
    "        while n % p == 0:\n",
    "            n //= p\n",
    "            fs[p] += 1\n",
    "\n",
    "    return fs\n",
    "\n",
    "\n",
    "def split_equation(a, m):\n",
    "    for prime, power in factorize(m).items():\n",
    "        yield a % (prime ** power), prime, power\n",
    "        \n",
    "\n",
    "system_split = {\n",
    "    x\n",
    "    for a, m in system\n",
    "    for x in split_equation(a, m)\n",
    "}\n",
    "\n",
    "system_split"
   ]
  },
  {
   "cell_type": "markdown",
   "id": "66298bde",
   "metadata": {},
   "source": [
    "representing:\n",
    "    \n",
    "$$\n",
    "f(x) = \\left\\{\n",
    "    \\begin{array}{ll}\n",
    "        x \\equiv 0 & \\mod 2^1 \\\\\n",
    "        x \\equiv 0 & \\mod 2^2 \\\\\n",
    "        x \\equiv 1 & \\mod 3^1 \\\\\n",
    "        x \\equiv 1 & \\mod 5^1 \\\\\n",
    "        x \\equiv 1 & \\mod 11^1 \\\\\n",
    "        x \\equiv 4 & \\mod 7^1 \\\\\n",
    "        x \\equiv 34 & \\mod 11^2\n",
    "    \\end{array}\n",
    "\\right.\n",
    "$$  \n",
    "    \n",
    "#### Step 2: Merge\n",
    "\n",
    "Now, consider the equations two at a time, without loss of generality\n",
    "\n",
    "$$\n",
    "f(x) = \\left\\{\n",
    "    \\begin{array}{ll}\n",
    "        x \\equiv a_1 \\mod p_1^{\\alpha_1} \\\\\n",
    "        x \\equiv a_2 \\mod p_2^{\\alpha_2} \\\\\n",
    "    \\end{array}\n",
    "\\right.\n",
    "$$\n",
    "\n",
    "There are two cases. If $p_1 \\neq p_2$, then they are coprime, and the two equations may be replaced with their solution modulo $p_1^{\\alpha_1}p_2^{\\alpha_2}$."
   ]
  },
  {
   "cell_type": "code",
   "execution_count": 6,
   "id": "2c87f3c5",
   "metadata": {},
   "outputs": [],
   "source": [
    "def solve_crt(a1, m1, a2, m2):\n",
    "    k = (a2 - a1) * pow(m1, -1, m2)\n",
    "    return m1 * k + a1"
   ]
  },
  {
   "cell_type": "markdown",
   "id": "47010b2f",
   "metadata": {},
   "source": [
    "The function `merge_eq` solves the following system:\n",
    "\n",
    "$$\n",
    "f(x) = \\left\\{\n",
    "    \\begin{array}{ll}\n",
    "        x \\equiv a_1 & \\mod m_1 \\\\\n",
    "        x \\equiv a_2 & \\mod m_2 \\\\\n",
    "    \\end{array}\n",
    "\\right.\n",
    "$$\n",
    "\n",
    "where $m_1$, $m_2$ are coprimes.\n",
    "\n",
    "If we rewrite the first equation as $x = m_1 k + a_1$, the second becomes $m_1 k + a_1 \\equiv a_2 \\mod m_2$. Subtracting $a_1$ from both sides and multiplying both sides by $m_1^{-1}$ yields the answer, which exists and is unique.\n",
    "\n",
    "If instead $p_1 = p_2$, there is either a contradiction or one of the two equations is superfluous and may be removed."
   ]
  },
  {
   "cell_type": "code",
   "execution_count": 7,
   "id": "094525e5",
   "metadata": {},
   "outputs": [],
   "source": [
    "class Contradiction(BaseException):\n",
    "    ...\n",
    "    \n",
    "\n",
    "def handle_same_prime(a1, a2, p, alpha1, alpha2):\n",
    "    if alpha1 == alpha2:\n",
    "        if a1 == a2:\n",
    "            return (a1, p, alpha1)\n",
    "        else:\n",
    "            raise Contradiction()\n",
    "    elif alpha1 > alpha2:\n",
    "        if (a1 % p ** alpha2) == (a2):\n",
    "            return (a1, p, alpha1)\n",
    "        else:\n",
    "            raise Contradiction()\n",
    "    else:\n",
    "        handle_same_prime(a2, a1, p, alpha2, alpha1)"
   ]
  },
  {
   "cell_type": "markdown",
   "id": "ea1a1f17",
   "metadata": {},
   "source": [
    "Putting it all together:"
   ]
  },
  {
   "cell_type": "code",
   "execution_count": 8,
   "id": "23c66797",
   "metadata": {},
   "outputs": [
    {
     "data": {
      "text/plain": [
       "(41416, 50820)"
      ]
     },
     "execution_count": 8,
     "metadata": {},
     "output_type": "execute_result"
    }
   ],
   "source": [
    "def solve_system(system):\n",
    "    system_split = {\n",
    "        x\n",
    "        for a, m in system\n",
    "        for x in split_equation(a, m)\n",
    "    }\n",
    "    \n",
    "    eqn = defaultdict(list)\n",
    "    for a, p, alpha in system_split:\n",
    "        eqn[p].append((a, p, alpha))\n",
    "        \n",
    "    reduced = []\n",
    "    try:\n",
    "        for l in eqn.values():\n",
    "            acc = l[0]\n",
    "            for a, p, alpha in l[1:]:\n",
    "                acc = handle_same_prime(a, acc[0], p, alpha, acc[2])\n",
    "            reduced.append((acc[0], acc[1] ** acc[2]))\n",
    "    except:\n",
    "        return []\n",
    "    \n",
    "    acc = reduced[0]\n",
    "    for a, m in reduced[1:]:\n",
    "        acc = solve_crt(acc[0], acc[1], a, m) % (m * acc[1]), m * acc[1]\n",
    "    \n",
    "    return acc\n",
    "\n",
    "\n",
    "solve_system(system)"
   ]
  },
  {
   "cell_type": "markdown",
   "id": "0ec84359",
   "metadata": {},
   "source": [
    "Representing the unique solution of the original system $x \\equiv 41416 \\mod 50820$.\n",
    "\n",
    "### Back to the original problem\n",
    "\n",
    "We now have a way to solve systems of linear congruencies:"
   ]
  },
  {
   "cell_type": "code",
   "execution_count": 9,
   "id": "53fc505c",
   "metadata": {},
   "outputs": [
    {
     "data": {
      "text/plain": [
       "<function __main__.solve_system(system)>"
      ]
     },
     "execution_count": 9,
     "metadata": {},
     "output_type": "execute_result"
    }
   ],
   "source": [
    "solve_system"
   ]
  },
  {
   "cell_type": "markdown",
   "id": "2860ef1c",
   "metadata": {},
   "source": [
    "...and a representation of accepted points for each initial state:"
   ]
  },
  {
   "cell_type": "code",
   "execution_count": 10,
   "id": "dc52ea50",
   "metadata": {},
   "outputs": [
    {
     "data": {
      "text/plain": [
       "{'LJA': AcceptedPoints(anticycle_accepted=[], anticycle_length=281, cycle_accepted=[21918], cycle_length=22199),\n",
       " 'KTA': AcceptedPoints(anticycle_accepted=[], anticycle_length=281, cycle_accepted=[14612], cycle_length=14893),\n",
       " 'NFA': AcceptedPoints(anticycle_accepted=[], anticycle_length=281, cycle_accepted=[11802], cycle_length=12083),\n",
       " 'JXA': AcceptedPoints(anticycle_accepted=[], anticycle_length=281, cycle_accepted=[16860], cycle_length=17141),\n",
       " 'AAA': AcceptedPoints(anticycle_accepted=[], anticycle_length=281, cycle_accepted=[16298], cycle_length=16579),\n",
       " 'PLA': AcceptedPoints(anticycle_accepted=[], anticycle_length=281, cycle_accepted=[19670], cycle_length=19951)}"
      ]
     },
     "execution_count": 10,
     "metadata": {},
     "output_type": "execute_result"
    }
   ],
   "source": [
    "accepted"
   ]
  },
  {
   "cell_type": "markdown",
   "id": "ccffad41",
   "metadata": {},
   "source": [
    "How do we find all intersections?\n",
    "\n",
    "They may happen at two places: before the anticycle of some starting state is over, or when all initial states are cycling. The first may be found by merge-joining the lists as iterators, the second by solving a system of linear congruences with the above method.\n",
    "\n",
    "Let's define a more interesting example:"
   ]
  },
  {
   "cell_type": "code",
   "execution_count": 11,
   "id": "d63d57fe",
   "metadata": {},
   "outputs": [
    {
     "data": {
      "text/plain": [
       "{'AAA': AcceptedPoints(anticycle_accepted=[1, 4, 11], anticycle_length=32, cycle_accepted=[30, 31], cycle_length=40),\n",
       " 'BBB': AcceptedPoints(anticycle_accepted=[1, 2, 4, 11, 20], anticycle_length=32, cycle_accepted=[30, 31], cycle_length=40),\n",
       " 'CCC': AcceptedPoints(anticycle_accepted=[3, 4, 7, 11, 15], anticycle_length=58, cycle_accepted=[4], cycle_length=40)}"
      ]
     },
     "execution_count": 11,
     "metadata": {},
     "output_type": "execute_result"
    }
   ],
   "source": [
    "accepted_bonus = {\n",
    "    'AAA': AcceptedPoints([1, 4, 11], 32, [30, 31], 40),\n",
    "    'BBB': AcceptedPoints([1, 2, 4, 11, 20], 32, [30, 31], 40),\n",
    "    'CCC': AcceptedPoints([3, 4, 7, 11, 15], 58, [4], 40)\n",
    "}\n",
    "\n",
    "accepted_bonus"
   ]
  },
  {
   "cell_type": "code",
   "execution_count": 12,
   "id": "4ad1c46d",
   "metadata": {},
   "outputs": [
    {
     "data": {
      "text/plain": [
       "{PointSolution(x=11),\n",
       " PointSolution(x=4),\n",
       " PositiveLinearSpanSolution(a=62, b=40)}"
      ]
     },
     "execution_count": 12,
     "metadata": {},
     "output_type": "execute_result"
    }
   ],
   "source": [
    "@dataclass\n",
    "class PointSolution:\n",
    "    # Represents a single solution\n",
    "    x: int\n",
    "    \n",
    "    __hash__ = lambda s: s.x\n",
    "    \n",
    "@dataclass\n",
    "class PositiveLinearSpanSolution:\n",
    "    # Represents a set of solutions\n",
    "    # in the form a + kb for k >= 0\n",
    "    a: int\n",
    "    b: int\n",
    "        \n",
    "    __hash__ = lambda s: hash((s.a, s.b))\n",
    "\n",
    "\n",
    "def all_intersections(accepted):\n",
    "    intersections = set()\n",
    "    limit = max(c.anticycle_length for c in accepted.values())\n",
    "    \n",
    "    gen = {\n",
    "        s: [0, c.gen()]\n",
    "        for s, c in accepted.items()\n",
    "    }\n",
    "    \n",
    "    def _stop():\n",
    "        s = list(c[0] for c in gen.values())\n",
    "        return any(s) and all(x == s[0] for x in s)\n",
    "    \n",
    "    while True:\n",
    "        s = list(c[0] for c in gen.values())\n",
    "        if any(s) and all(x == s[0] for x in s):\n",
    "            intersections.add(PointSolution(s[0]))\n",
    "\n",
    "        lo = min(gen, key=lambda u: gen[u][0])\n",
    "        val = next(gen[lo][1])\n",
    "        if val <= limit:\n",
    "            gen[lo][0] = val\n",
    "        else:\n",
    "            break\n",
    "\n",
    "    \n",
    "    cycle_intersections = set()\n",
    "    anti_length = []\n",
    "    cycle_accepted = []\n",
    "    cycle_length = []\n",
    "    for k, v in accepted.items():\n",
    "        anti_length.append(v.anticycle_length)\n",
    "        cycle_accepted.append(v.cycle_accepted)\n",
    "        cycle_length.append(v.cycle_length)\n",
    "        \n",
    "    for its in product(*cycle_accepted):\n",
    "        eqn = [\n",
    "            (-(its[i] + anti_length[i]) % cycle_length[i], cycle_length[i])\n",
    "            for i in range(len(its))\n",
    "        ]\n",
    "                            \n",
    "        if t := solve_system(eqn):\n",
    "            res_mod = -t[0] % t[1]\n",
    "            if res_mod <= limit:\n",
    "                res_mod += t[1] * (1 + (limit - res_mod) // t[1])\n",
    "            intersections.add(PositiveLinearSpanSolution(\n",
    "                res_mod, t[1]\n",
    "            ))\n",
    "            \n",
    "    return intersections\n",
    "\n",
    "    \n",
    "all_intersections(accepted_bonus)"
   ]
  },
  {
   "cell_type": "markdown",
   "id": "37a1fe84",
   "metadata": {},
   "source": [
    "With, naturally, the same solution on the original input:"
   ]
  },
  {
   "cell_type": "code",
   "execution_count": 13,
   "id": "5f8cc5e0",
   "metadata": {},
   "outputs": [
    {
     "data": {
      "text/plain": [
       "{PositiveLinearSpanSolution(a=12927600769609, b=12927600769609)}"
      ]
     },
     "execution_count": 13,
     "metadata": {},
     "output_type": "execute_result"
    }
   ],
   "source": [
    "all_intersections(accepted)"
   ]
  },
  {
   "cell_type": "markdown",
   "id": "81a6c1d7",
   "metadata": {},
   "source": [
    "These observations and pieces of code (should) be a complete solution of the fully-general case of the problem."
   ]
  }
 ],
 "metadata": {
  "kernelspec": {
   "display_name": "Python 3 (ipykernel)",
   "language": "python",
   "name": "python3"
  },
  "language_info": {
   "codemirror_mode": {
    "name": "ipython",
    "version": 3
   },
   "file_extension": ".py",
   "mimetype": "text/x-python",
   "name": "python",
   "nbconvert_exporter": "python",
   "pygments_lexer": "ipython3",
   "version": "3.11.0"
  }
 },
 "nbformat": 4,
 "nbformat_minor": 5
}
