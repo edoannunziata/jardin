{
 "cells": [
  {
   "cell_type": "markdown",
   "id": "d3e8c7a4",
   "metadata": {
    "jupyter": {
     "source_hidden": false
    }
   },
   "source": [
    "# Digits\n",
    "\n",
    "[_Digits_](https://www.nytimes.com/games/digits) is a daily numbers puzzle game from The New York Times.\n",
    "\n",
    "You start with six nonnegative integers, and you are given a _target_, another nonnegative integer.\n",
    "\n",
    "At each turn, you may replace any two numbers with their sum, difference, product or ratio. You may not subtract a greater number from a smaller one, nor divide a number by another that is not one of its divisors. In other words, you may only perform an operation if it results in a nonnegative integer.\n",
    "\n",
    "You may perform any number of operations, and you may reuse the results of previous operations, but each operation \"consumes\" its operands. For example, if you start with $\\{1, 2, 3\\}$, you may replace $1$ and $2$ with $2 - 1 = 1$ and you would be left with $\\{1, 3\\}$. You may have multiple copies of the same number at the same time.\n",
    "\n",
    "The goal of the game is to perform an operation which result is as close as possible to the target. Your score is the difference in absolute value between the target and the result of any operation you performed. The best possible score is zero, which you achieve when you hit the target exactly.\n",
    "\n",
    "If you're thinking a computer should do this, you're not alone."
   ]
  },
  {
   "cell_type": "code",
   "execution_count": 1,
   "id": "e5497b28",
   "metadata": {
    "jupyter": {
     "outputs_hidden": false,
     "source_hidden": false
    }
   },
   "outputs": [],
   "source": [
    "from itertools import combinations, product\n",
    "from operator import add, sub, mul, floordiv\n",
    "from dataclasses import dataclass\n",
    "from typing import Iterable, List, Tuple, Callable\n",
    "\n",
    "\n",
    "@dataclass\n",
    "class operation:\n",
    "    op: Callable[[int, int], int]\n",
    "    valid: Callable[[int, int], bool]\n",
    "    r: str\n",
    "    \n",
    "    def __call__(self, a, b):\n",
    "        return self.op(a, b)\n",
    "    \n",
    "    def __repr__(self):\n",
    "        return self.r\n",
    "    \n",
    "    def is_valid(self, a, b):\n",
    "        return self.valid(a, b)\n",
    "    \n",
    "\n",
    "operations = [\n",
    "    operation(add, lambda a, b: True, '+'),\n",
    "    operation(sub, lambda a, b: a >= b, '-'),\n",
    "    operation(mul, lambda a, b: True, '*'),\n",
    "    operation(floordiv, lambda a, b: b != 0 and a % b == 0, '/')\n",
    "]\n",
    "\n",
    "\n",
    "def results(s: Iterable[int], target: int, o = operations) -> List[Tuple[int, str]]:\n",
    "    state = [[(x, str(x)) for x in s]]\n",
    "    off = set()\n",
    "    while state:\n",
    "        x = state.pop()\n",
    "        for ((a, ax), (b, bx)), op in product(combinations(x, 2), o):\n",
    "            if op.is_valid(a, b):\n",
    "                t = op(a, b), f'({ax} {repr(op)} {bx})'\n",
    "                l = x.copy()\n",
    "                l.remove((a, ax))\n",
    "                l.remove((b, bx))\n",
    "                l.append(t)\n",
    "                state.append(l)\n",
    "                off.add(t)\n",
    "                \n",
    "    return sorted(off, key=lambda u: abs(target - u[0]))"
   ]
  },
  {
   "cell_type": "markdown",
   "id": "fb255edf",
   "metadata": {},
   "source": [
    "Some examples:"
   ]
  },
  {
   "cell_type": "code",
   "execution_count": 2,
   "id": "ab87649d",
   "metadata": {},
   "outputs": [
    {
     "data": {
      "text/plain": [
       "(90736,\n",
       " [(234, '(6 * (4 + (11 + (3 * 8))))'),\n",
       "  (234, '(9 * ((4 * 11) - (3 * 6)))'),\n",
       "  (234, '((6 * 11) + (8 * (9 + (3 * 4))))'),\n",
       "  (234, '((9 + (4 * (6 * 8))) + (3 * 11))'),\n",
       "  (234, '(6 + (3 * (4 + (8 * 9))))')])"
      ]
     },
     "execution_count": 2,
     "metadata": {},
     "output_type": "execute_result"
    }
   ],
   "source": [
    "R = results((3, 4, 6, 8, 9, 11), 234)\n",
    "\n",
    "for n, expr in R:\n",
    "    assert n == eval(expr)\n",
    "\n",
    "len(R), R[:5]"
   ]
  },
  {
   "cell_type": "code",
   "execution_count": 3,
   "id": "1418fe07",
   "metadata": {},
   "outputs": [
    {
     "data": {
      "text/plain": [
       "(157548,\n",
       " [(476, '(((23 * 7) + (20 * 11)) + (19 * 5))'),\n",
       "  (476, '((7 * (19 + (23 * 11))) / (20 / 5))'),\n",
       "  (476, '(7 * ((20 - 5) + (19 + (23 + 11))))'),\n",
       "  (476, '((19 - (20 - (7 + 11))) * (5 + 23))'),\n",
       "  (476, '(7 * ((20 - 5) + (23 + (19 + 11))))')])"
      ]
     },
     "execution_count": 3,
     "metadata": {},
     "output_type": "execute_result"
    }
   ],
   "source": [
    "R = results({5, 7, 11, 19, 20, 23}, 476)\n",
    "\n",
    "for n, expr in R:\n",
    "    assert n == eval(expr)\n",
    "\n",
    "len(R), R[:5]"
   ]
  }
 ],
 "metadata": {
  "kernelspec": {
   "display_name": "Python 3 (ipykernel)",
   "language": "python",
   "name": "python3"
  },
  "language_info": {
   "codemirror_mode": {
    "name": "ipython",
    "version": 3
   },
   "file_extension": ".py",
   "mimetype": "text/x-python",
   "name": "python",
   "nbconvert_exporter": "python",
   "pygments_lexer": "ipython3",
   "version": "3.11.0"
  },
  "widgets": {
   "application/vnd.jupyter.widget-state+json": {
    "state": {},
    "version_major": 2,
    "version_minor": 0
   }
  }
 },
 "nbformat": 4,
 "nbformat_minor": 5
}
