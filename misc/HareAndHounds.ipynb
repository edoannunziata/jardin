{
 "cells": [
  {
   "cell_type": "markdown",
   "id": "3e2073d7-00ea-4a21-8fc5-039274a0b90a",
   "metadata": {},
   "source": [
    "# A study of Hare and Hounds"
   ]
  },
  {
   "cell_type": "markdown",
   "id": "773b6142-b368-4555-8bf2-08568b7de674",
   "metadata": {},
   "source": [
    "Hare and Hounds is a two-player game that recently became popular (again) with its release in the Nintendo Switch _Clubhouse Games_ collection.\n",
    "\n",
    "\n",
    "Hare games were actually popular in medieval Northern Europe, according to [Wikipedia](https://en.wikipedia.org/wiki/Hare_games).\n",
    "\n",
    "This is the game board and initial setup:\n",
    "\n",
    "![Game Board](https://upload.wikimedia.org/wikipedia/commons/8/85/Hare_and_Hounds_board.png)\n",
    "\n",
    "A player controls the hounds, the other controls the hare. Players take turns making a move.\n",
    "Hounds move only from left to right (not backwards), while the hare may move in any direction.\n",
    "Neither side may capture, a move is only legal if the destination square is free.\n",
    "The hare wins if it reaches the leftmost square.\n",
    "Hounds win if the hare is stalemated (i.e. if it is the hare's turn and there are no legal moves).\n",
    "If 30 moves elapse before either player wins the game, the hare wins.\n",
    "\n",
    "There has been a lot of debate on online forums about who has a winning strategy.\n",
    "\n",
    "The game looks simple enough to be exaustively searched, the number of legal positions is only:\n",
    "\n",
    "$$\n",
    "\\binom{11}{3} \\times 8 \\times 2 = 2640\n",
    "$$\n",
    "\n",
    "Where the factors of the left-hand side are, resepectively, the number of ways to place three hounds, the number of ways to place a hare,\n",
    "and two choices for whose turn it is.\n",
    "\n",
    "In our notation, positions are numbered from 1 to 11, where the topmost row is 1-3, left to right, the central row is 4-8, left to right, and the bottom row is 9-11, left to right."
   ]
  },
  {
   "cell_type": "markdown",
   "id": "4466d27b42d0b685",
   "metadata": {},
   "source": [
    "Some imports:"
   ]
  },
  {
   "cell_type": "code",
   "id": "5375122a1f31b5b1",
   "metadata": {
    "ExecuteTime": {
     "end_time": "2024-11-24T15:41:08.359434Z",
     "start_time": "2024-11-24T15:41:08.354940Z"
    }
   },
   "source": [
    "from enum import IntEnum\n",
    "from dataclasses import dataclass, field\n",
    "from functools import cache, total_ordering, reduce"
   ],
   "outputs": [],
   "execution_count": 1
  },
  {
   "cell_type": "markdown",
   "id": "f6070e7704bfad95",
   "metadata": {},
   "source": [
    "First, the board geometry:"
   ]
  },
  {
   "cell_type": "code",
   "id": "4439b020b4515676",
   "metadata": {
    "ExecuteTime": {
     "end_time": "2024-11-24T15:41:08.365046Z",
     "start_time": "2024-11-24T15:41:08.361901Z"
    }
   },
   "source": [
    "connectivity = {\n",
    "    1: [2, 4, 5, 6],\n",
    "    2: [1, 3, 6],\n",
    "    3: [2, 6, 7, 8],\n",
    "    4: [1, 5, 9],\n",
    "    5: [1, 4, 6, 9],\n",
    "    6: [1, 2, 3, 5, 7, 9, 10, 11],\n",
    "    7: [3, 6, 8, 11],\n",
    "    8: [3, 7, 11],\n",
    "    9: [4, 5, 6, 10],\n",
    "    10: [6, 9, 11],\n",
    "    11: [6, 7, 8, 10]\n",
    "}\n",
    "\n",
    "forward_connectivity = {\n",
    "    1: [2, 5, 6],\n",
    "    2: [3, 6],\n",
    "    3: [7, 8],\n",
    "    4: [1, 5, 9],\n",
    "    5: [1, 6, 9],\n",
    "    6: [2, 3, 7, 10, 11],\n",
    "    7: [3, 8, 11],\n",
    "    8: [],\n",
    "    9: [5, 6, 10],\n",
    "    10: [6, 11],\n",
    "    11: [7, 8]\n",
    "}"
   ],
   "outputs": [],
   "execution_count": 2
  },
  {
   "cell_type": "markdown",
   "id": "1b1a12bdfe910ebb",
   "metadata": {},
   "source": [
    "Then, we define a position evaluation. The evaluation is has two parts: who wins, and in how many moves.\n",
    "By convention, the hound will be the minimizing player and the hare the maximizing player.\n",
    "\n",
    "Evaluations are totally ordered. A perfect player prefers:\n",
    "- winning to losing (in any number of moves)\n",
    "- winning in fewer moves to winning in more moves (i.e. winning as fast as possible)\n",
    "- losing in more moves to losing in fewer moves (i.e. surviving as long as possible, playing \"in the most critical way\" as chess players would put it.)"
   ]
  },
  {
   "cell_type": "code",
   "id": "2cce9d339cc79836",
   "metadata": {
    "ExecuteTime": {
     "end_time": "2024-11-24T15:41:08.439165Z",
     "start_time": "2024-11-24T15:41:08.435843Z"
    }
   },
   "source": [
    "class Player(IntEnum):\n",
    "    HOUND = 1\n",
    "    HARE = 2\n",
    "\n",
    "\n",
    "@dataclass(slots=True, frozen=True)\n",
    "@total_ordering\n",
    "class PositionEval:\n",
    "    winner: Player\n",
    "    moves: int = 0\n",
    "    principal_variation: list[tuple[int, int]] = field(default_factory=list)\n",
    "\n",
    "    def __lt__(self, other):\n",
    "        match self.winner, other.winner:\n",
    "            case Player.HOUND, Player.HARE : return True\n",
    "            case Player.HARE , Player.HOUND: return False\n",
    "            case Player.HOUND, Player.HOUND: return self.moves < other.moves\n",
    "            case Player.HARE , Player.HARE : return self.moves > other.moves\n",
    "\n",
    "    __add__ = lambda s, o: PositionEval(s.winner, s.moves + 1, ([o] if o else []) + s.principal_variation)\n",
    "    __radd__ = __add__\n",
    "    __repr__ = lambda s: f'{s.winner.name} wins in {s.moves} moves'"
   ],
   "outputs": [],
   "execution_count": 3
  },
  {
   "cell_type": "markdown",
   "id": "ed39290b96b92d5",
   "metadata": {},
   "source": [
    "Now we define a position and its \"children\", i.e. the position reachable with a legal move from that position.\n",
    "\n",
    "A position is completely defined by the position of the hounds, which we represent as a sorted tuple, the position of the hare, and the player whose turn it is."
   ]
  },
  {
   "cell_type": "code",
   "id": "2111579658dde611",
   "metadata": {
    "ExecuteTime": {
     "end_time": "2024-11-24T15:41:08.445735Z",
     "start_time": "2024-11-24T15:41:08.442939Z"
    }
   },
   "source": [
    "@dataclass(slots=True, frozen=True)\n",
    "class Position:\n",
    "    hounds: tuple[int, int, int]\n",
    "    hare: int\n",
    "    turn: Player\n",
    "\n",
    "    def get_children(self):\n",
    "        if self.turn == Player.HOUND:\n",
    "            for hound in self.hounds:\n",
    "                for v in forward_connectivity[hound]:\n",
    "                    if v not in self.hounds and v != self.hare:\n",
    "                        yield (hound, v), Position(\n",
    "                            tuple(sorted(set(self.hounds) - {hound} | {v})),\n",
    "                            self.hare,\n",
    "                            Player.HARE\n",
    "                        )\n",
    "        elif self.turn == Player.HARE:\n",
    "            for v in connectivity[self.hare]:\n",
    "                if v not in self.hounds:\n",
    "                    yield (self.hare, v), Position(self.hounds, v, Player.HOUND)\n",
    "\n",
    "    def move(self, *args):\n",
    "        def _move_1(s, m):\n",
    "            for move, child in s.get_children():\n",
    "                if m == move:\n",
    "                    return child\n",
    "            raise Exception('Illegal move')\n",
    "        return reduce(_move_1, args, self)"
   ],
   "outputs": [],
   "execution_count": 4
  },
  {
   "cell_type": "markdown",
   "id": "c2cdf7b5fec6a5db",
   "metadata": {},
   "source": [
    "Evaluating who wins is now just the minimax algorithm."
   ]
  },
  {
   "cell_type": "code",
   "id": "e89abd212a0b3559",
   "metadata": {
    "ExecuteTime": {
     "end_time": "2024-11-24T15:41:08.452559Z",
     "start_time": "2024-11-24T15:41:08.450335Z"
    }
   },
   "source": [
    "@cache\n",
    "def eval_position(p: Position, plies: int = 60):\n",
    "    if p.hare == 4 or plies == 0:\n",
    "        return PositionEval(winner=Player.HARE)\n",
    "\n",
    "    children_evals = ((eval_position(child, plies-1), move) for move, child in p.get_children())\n",
    "    if p.turn == Player.HARE:\n",
    "        ev, move = max(children_evals, default=(None, PositionEval(winner=Player.HOUND, moves=-1)))\n",
    "    elif p.turn == Player.HOUND:\n",
    "        ev, move = min(children_evals, default=(None, PositionEval(winner=Player.HARE, moves=-1)))\n",
    "    return ev + move"
   ],
   "outputs": [],
   "execution_count": 5
  },
  {
   "cell_type": "markdown",
   "id": "fb5e812daf1a9a43",
   "metadata": {},
   "source": [
    "## So, who wins?\n",
    "\n",
    "It turns out the hounds win in the starting position regardless of who starts, in 23 plies if the hounds start, and in 24 plies if the hare starts."
   ]
  },
  {
   "cell_type": "code",
   "id": "fb55aa12bb45547",
   "metadata": {
    "ExecuteTime": {
     "end_time": "2024-11-24T15:41:08.910815Z",
     "start_time": "2024-11-24T15:41:08.456246Z"
    }
   },
   "source": "eval_position(Position(hounds=(1, 4, 9), hare=8, turn=Player.HOUND))",
   "outputs": [
    {
     "data": {
      "text/plain": [
       "HOUND wins in 23 moves"
      ]
     },
     "execution_count": 6,
     "metadata": {},
     "output_type": "execute_result"
    }
   ],
   "execution_count": 6
  },
  {
   "cell_type": "code",
   "id": "bd50096e79888331",
   "metadata": {
    "ExecuteTime": {
     "end_time": "2024-11-24T15:41:09.475929Z",
     "start_time": "2024-11-24T15:41:08.920414Z"
    }
   },
   "source": "eval_position(Position(hounds=(1, 4, 9), hare=8, turn=Player.HARE))",
   "outputs": [
    {
     "data": {
      "text/plain": [
       "HOUND wins in 24 moves"
      ]
     },
     "execution_count": 7,
     "metadata": {},
     "output_type": "execute_result"
    }
   ],
   "execution_count": 7
  },
  {
   "cell_type": "markdown",
   "id": "2c5f58e6ce56256",
   "metadata": {},
   "source": [
    "As a matter of fact, the hounds win regardless of where the hare is placed and regardless of who starts:"
   ]
  },
  {
   "cell_type": "code",
   "id": "104e32c259404613",
   "metadata": {
    "ExecuteTime": {
     "end_time": "2024-11-24T15:41:09.487790Z",
     "start_time": "2024-11-24T15:41:09.480751Z"
    }
   },
   "source": [
    "{\n",
    "    (j, k): eval_position(Position(hounds=(1, 4, 9), hare=j, turn=k))\n",
    "    for j in set(range(1, 12)) - {1, 4, 9}\n",
    "    for k in (Player.HOUND, Player.HARE)\n",
    "}"
   ],
   "outputs": [
    {
     "data": {
      "text/plain": [
       "{(2, <Player.HOUND: 1>): HOUND wins in 23 moves,\n",
       " (2, <Player.HARE: 2>): HOUND wins in 24 moves,\n",
       " (3, <Player.HOUND: 1>): HOUND wins in 23 moves,\n",
       " (3, <Player.HARE: 2>): HOUND wins in 24 moves,\n",
       " (5, <Player.HOUND: 1>): HOUND wins in 27 moves,\n",
       " (5, <Player.HARE: 2>): HOUND wins in 24 moves,\n",
       " (6, <Player.HOUND: 1>): HOUND wins in 23 moves,\n",
       " (6, <Player.HARE: 2>): HOUND wins in 28 moves,\n",
       " (7, <Player.HOUND: 1>): HOUND wins in 23 moves,\n",
       " (7, <Player.HARE: 2>): HOUND wins in 24 moves,\n",
       " (8, <Player.HOUND: 1>): HOUND wins in 23 moves,\n",
       " (8, <Player.HARE: 2>): HOUND wins in 24 moves,\n",
       " (10, <Player.HOUND: 1>): HOUND wins in 23 moves,\n",
       " (10, <Player.HARE: 2>): HOUND wins in 24 moves,\n",
       " (11, <Player.HOUND: 1>): HOUND wins in 23 moves,\n",
       " (11, <Player.HARE: 2>): HOUND wins in 24 moves}"
      ]
     },
     "execution_count": 8,
     "metadata": {},
     "output_type": "execute_result"
    }
   ],
   "execution_count": 8
  },
  {
   "cell_type": "markdown",
   "id": "12b24af140c9ccd5",
   "metadata": {},
   "source": [
    "## This game has opposition too?\n",
    "\n",
    "This position is _zugzwang_ (i.e. whoever is to move, loses!)"
   ]
  },
  {
   "cell_type": "code",
   "id": "16b1f3ee435683d1",
   "metadata": {
    "ExecuteTime": {
     "end_time": "2024-11-24T15:41:09.521420Z",
     "start_time": "2024-11-24T15:41:09.500497Z"
    }
   },
   "source": [
    "eval_position(Position(hounds=(1, 6, 9), hare=2, turn=Player.HOUND))"
   ],
   "outputs": [
    {
     "data": {
      "text/plain": [
       "HARE wins in 60 moves"
      ]
     },
     "execution_count": 9,
     "metadata": {},
     "output_type": "execute_result"
    }
   ],
   "execution_count": 9
  },
  {
   "cell_type": "code",
   "id": "5802406987968c83",
   "metadata": {
    "collapsed": true,
    "jupyter": {
     "outputs_hidden": true
    },
    "ExecuteTime": {
     "end_time": "2024-11-24T15:41:09.544400Z",
     "start_time": "2024-11-24T15:41:09.525874Z"
    }
   },
   "source": [
    "eval_position(Position(hounds=(1, 6, 9), hare=2, turn=Player.HARE))"
   ],
   "outputs": [
    {
     "data": {
      "text/plain": [
       "HOUND wins in 18 moves"
      ]
     },
     "execution_count": 10,
     "metadata": {},
     "output_type": "execute_result"
    }
   ],
   "execution_count": 10
  },
  {
   "cell_type": "markdown",
   "id": "ffff8dd1-0ae5-4bc9-84fe-43096601b72e",
   "metadata": {},
   "source": [
    "## The perfect game\n",
    "\n",
    "We can output the principal variation from the opening position, this results in the _perfect_ game: the hounds, who have a winning strategy, win in the fewest moves possible, and the hare tries to survive as long as it can."
   ]
  },
  {
   "cell_type": "code",
   "id": "358ca352-8d6b-4b5a-a077-bee1a14db353",
   "metadata": {
    "ExecuteTime": {
     "end_time": "2024-11-24T15:41:09.555761Z",
     "start_time": "2024-11-24T15:41:09.553294Z"
    }
   },
   "source": [
    "e = eval_position(Position(hounds=(1, 4, 9), hare=8, turn=Player.HOUND))\n",
    "list(e.principal_variation)"
   ],
   "outputs": [
    {
     "data": {
      "text/plain": [
       "[(1, 6),\n",
       " (8, 11),\n",
       " (4, 5),\n",
       " (11, 10),\n",
       " (5, 1),\n",
       " (10, 11),\n",
       " (1, 2),\n",
       " (11, 8),\n",
       " (6, 11),\n",
       " (8, 7),\n",
       " (2, 6),\n",
       " (7, 3),\n",
       " (9, 5),\n",
       " (3, 7),\n",
       " (5, 1),\n",
       " (7, 3),\n",
       " (1, 2),\n",
       " (3, 8),\n",
       " (6, 3),\n",
       " (8, 7),\n",
       " (2, 6),\n",
       " (7, 8),\n",
       " (6, 7)]"
      ]
     },
     "execution_count": 11,
     "metadata": {},
     "output_type": "execute_result"
    }
   ],
   "execution_count": 11
  },
  {
   "cell_type": "markdown",
   "id": "11616981-c0c1-41ac-9d7d-d0c0d1aae0a1",
   "metadata": {},
   "source": "Interestingly, after `(1, 6), (8, 11), (4, 5), (11, 10), (5, 1)` we are _exactly_ in the zugzwang position analyzed above! The hare is on the other side, but the position is obviously symmetrical."
  },
  {
   "cell_type": "code",
   "id": "fbf9d4ea-bd4a-4eeb-88ab-667a93ece1c5",
   "metadata": {
    "ExecuteTime": {
     "end_time": "2024-11-24T15:41:09.573199Z",
     "start_time": "2024-11-24T15:41:09.570700Z"
    }
   },
   "source": "Position(hounds=(1, 4, 9), hare=8, turn=Player.HOUND).move(*e.principal_variation[:5])",
   "outputs": [
    {
     "data": {
      "text/plain": [
       "Position(hounds=(1, 6, 9), hare=10, turn=<Player.HARE: 2>)"
      ]
     },
     "execution_count": 12,
     "metadata": {},
     "output_type": "execute_result"
    }
   ],
   "execution_count": 12
  },
  {
   "cell_type": "markdown",
   "id": "eff0a2e15c8efa35",
   "metadata": {},
   "source": [
    "## The rare hounds stalemate!\n",
    "There exists a position where the hounds are stalemated."
   ]
  },
  {
   "cell_type": "code",
   "id": "d603f75c08152340",
   "metadata": {
    "ExecuteTime": {
     "end_time": "2024-11-24T15:41:09.588482Z",
     "start_time": "2024-11-24T15:41:09.586697Z"
    }
   },
   "source": [
    "stalemate = Position(hounds=(7, 8, 11), hare=3, turn=Player.HOUND)\n",
    "assert not list(stalemate.get_children())"
   ],
   "outputs": [],
   "execution_count": 13
  },
  {
   "cell_type": "markdown",
   "id": "5d59d521b0dd4a0c",
   "metadata": {},
   "source": [
    "An interesting rules question is how to deal with this position. It's not very relevant for perfect play as the players would have to collaborate to get there, and this program adjudicates it as a win for the hare player, by \"symmetry\" with the \"stalemate is a loss\" rule applied to the hare. Stalemate for either player is therefore a loss."
   ]
  }
 ],
 "metadata": {
  "kernelspec": {
   "display_name": "Python 3 (ipykernel)",
   "language": "python",
   "name": "python3"
  },
  "language_info": {
   "codemirror_mode": {
    "name": "ipython",
    "version": 3
   },
   "file_extension": ".py",
   "mimetype": "text/x-python",
   "name": "python",
   "nbconvert_exporter": "python",
   "pygments_lexer": "ipython3",
   "version": "3.13.0"
  },
  "widgets": {
   "application/vnd.jupyter.widget-state+json": {
    "state": {},
    "version_major": 2,
    "version_minor": 0
   }
  }
 },
 "nbformat": 4,
 "nbformat_minor": 5
}
