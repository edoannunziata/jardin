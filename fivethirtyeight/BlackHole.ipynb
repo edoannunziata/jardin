{
 "cells": [
  {
   "cell_type": "markdown",
   "id": "9da40ef7",
   "metadata": {},
   "source": [
    "# [Can You Spot The Black Hole?](https://fivethirtyeight.com/features/can-you-spot-the-black-hole/)"
   ]
  },
  {
   "cell_type": "markdown",
   "id": "8dfd33ba",
   "metadata": {},
   "source": [
    "Data from the Event Horizon Telescope was recently used to generate a never-before-seen image of the black hole — Sagittarius A* — at the center of our galaxy. One of the most striking things about the image is how clearly we can make out the black hole’s shadow (as shown below). That’s because the plane of its accretion disk is nearly perpendicular to the vector between us and the black hole.\n",
    "\n",
    "Was this likely to occur, or was it just a cosmic coincidence? Let’s find out. Assuming the accretion disk was equally likely to be in any plane, what is the probability of it being within 10 degrees of perpendicular to us, thereby resulting in a spectacular image?"
   ]
  },
  {
   "cell_type": "markdown",
   "id": "0735c221",
   "metadata": {},
   "source": [
    "## Solution\n",
    "\n",
    "Let $Oxyz$ be an orthonormal base of $\\mathbb{R}^3$. We may represent planes by their normal vector with origin in $O$, magnitude $1$ and positive azimuthal angle, that is, a vector of the unit hemisphere.\n",
    "\n",
    "Assuming without loss of generality that direction of the vector between us and the black hole is the $x$ axis, the question is equivalent to finding how many unit vectors $v = (v_x, v_y, v_z)^T$ centered in the origin form an angle $\\theta$ with $\\hat{x} = (1, 0, 0)^T$ which is less than 10 degrees of arc. Because both $v$ and $\\hat{x}$ are by hypothesis unit vectors, the cosine of $\\theta$ is exactly $v_x$.\n",
    "\n",
    "The problem is therefore reduced to determining what is the probability that, when choosing uniformly at random a point of the unit hemisphere $P = (x, y, z)^T$ with $x>0$ and $x^2 + y^2 + z^2 = 1$, it holds that $x > \\cos(\\pi / 18)$. The locus of those points is a spherical cap of area:\n",
    "\n",
    "$$\n",
    "A = 2 \\pi r^2 (1 - \\cos(\\pi / 18))\n",
    "$$\n",
    "\n",
    "Which means that the probability is:\n",
    "\n",
    "$$\n",
    "p = \\frac{2 \\pi r^2 (1 - \\cos(\\pi / 18))}{2 \\pi r^2} = 1 - \\cos(\\pi / 18)\n",
    "$$"
   ]
  },
  {
   "cell_type": "markdown",
   "id": "d48c842e",
   "metadata": {},
   "source": [
    "## Simulation\n",
    "\n",
    "We may use the fact that the normal distribution is spherically symmetrical to randomly generate points on a sphere with uniform probability, in the sense that for all subsets of the surface of the sphere, the probability of choosing a point in that subset is proportional to its area."
   ]
  },
  {
   "cell_type": "code",
   "execution_count": 2,
   "id": "4b5effeb",
   "metadata": {},
   "outputs": [
    {
     "data": {
      "text/plain": [
       "0.0151814"
      ]
     },
     "execution_count": 2,
     "metadata": {},
     "output_type": "execute_result"
    }
   ],
   "source": [
    "from random import gauss\n",
    "from statistics import mean\n",
    "from math import cos, pi\n",
    "\n",
    "N = 10_000_000\n",
    "L = cos(pi / 18)\n",
    "\n",
    "def vec():\n",
    "    x = abs(gauss(0, 1))\n",
    "    y, z = gauss(0, 1), gauss(0, 1)\n",
    "    d = (x**2 + y**2 + z**2) ** .5\n",
    "    return x/d, y/d, z/d\n",
    "\n",
    "mean(1 if x > L else 0 for x, _, _ in (vec() for _ in range(N)))"
   ]
  },
  {
   "cell_type": "code",
   "execution_count": 3,
   "id": "5c954ee5",
   "metadata": {},
   "outputs": [
    {
     "data": {
      "text/plain": [
       "0.01519224698779198"
      ]
     },
     "execution_count": 3,
     "metadata": {},
     "output_type": "execute_result"
    }
   ],
   "source": [
    "1 - cos(pi / 18)"
   ]
  }
 ],
 "metadata": {
  "interpreter": {
   "hash": "31f2aee4e71d21fbe5cf8b01ff0e069b9275f58929596ceb00d14d90e3e16cd6"
  },
  "kernelspec": {
   "display_name": "Python 3.8.9 64-bit",
   "language": "python",
   "name": "python3"
  },
  "language_info": {
   "codemirror_mode": {
    "name": "ipython",
    "version": 3
   },
   "file_extension": ".py",
   "mimetype": "text/x-python",
   "name": "python",
   "nbconvert_exporter": "python",
   "pygments_lexer": "ipython3",
   "version": "3.8.9"
  }
 },
 "nbformat": 4,
 "nbformat_minor": 5
}
