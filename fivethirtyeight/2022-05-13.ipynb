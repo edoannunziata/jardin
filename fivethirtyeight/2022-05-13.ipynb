{
 "cells": [
  {
   "cell_type": "markdown",
   "id": "0abeaa01",
   "metadata": {
    "pycharm": {
     "name": "#%% md\n"
    }
   },
   "source": [
    "# [It's Elementary, My Dear Riddler!](https://fivethirtyeight.com/features/its-elementary-my-dear-riddler/)"
   ]
  },
  {
   "cell_type": "markdown",
   "id": "af036dcf",
   "metadata": {},
   "source": [
    "You have four fair tetrahedral dice whose four sides are numbered 1 through 4.\n",
    "\n",
    "You play a game in which you roll them all and divide them into two groups: those whose values are unique, and those which are duplicates. For example, if you roll a 1, 2, 2 and 4, then the 1 and 4 will go into the “unique” group, while the 2s will go into the “duplicate” group.\n",
    "\n",
    "Next, you reroll all the dice in the duplicate pool and sort all the dice again. Continuing the previous example, that would mean you reroll the 2s. If the result happens to be 1 and 3, then the “unique” group will now consist of 3 and 4, while the “duplicate” group will have two 1s.\n",
    "\n",
    "You continue rerolling the duplicate pool and sorting all the dice until all the dice are members of the same group. If all four dice are in the “unique” group, you win. If all four are in the “duplicate” group, you lose.\n",
    "\n",
    "What is your probability of winning the game?"
   ]
  },
  {
   "cell_type": "markdown",
   "id": "d484cd5e",
   "metadata": {},
   "source": [
    "# Solution"
   ]
  },
  {
   "cell_type": "code",
   "execution_count": 1,
   "id": "e0237ba1",
   "metadata": {
    "pycharm": {
     "name": "#%%\n"
    }
   },
   "outputs": [],
   "source": [
    "from itertools import combinations, permutations, product, accumulate\n",
    "from collections import Counter\n",
    "from fractions import Fraction\n",
    "from random import randint\n",
    "from matplotlib import pyplot as plt\n",
    "\n",
    "four_rolls = list(product(*(list(range(4)) for _ in range(4))))\n",
    "\n",
    "def duplicates(x):\n",
    "    return sum(v for _, v in Counter(x).items() if v > 1)"
   ]
  },
  {
   "cell_type": "markdown",
   "id": "293c05a1",
   "metadata": {
    "pycharm": {
     "name": "#%% md\n"
    }
   },
   "source": [
    "There are two key observations:\n",
    "\n",
    "### Observation 1\n",
    "Because we only care about duplicates, the game state at a given roll after the first is completely determined by _how many duplicate dice are there_. Hence, there are only four distinct, non-initial game states, which we shall call $S_0, S_2, S_3, S_4$ where $S_n$ is the state with $n$ duplicate dice. Notice that there can not be a state with one duplicate die. Furthermore, $S_0$ is the winning state and $S_4$ is the losing state.\n",
    " \n",
    "### Observation 2\n",
    "Because of Observation 1, rolling four dice is the same as rolling three dice. This is because the game state is trivially invariant under adding $1$ modulo $4$ to all dice.\n",
    "\n",
    "## The initial roll\n",
    "Let us consider the initial roll. There are four cases:\n",
    "\n",
    "### Case 1: 0 duplicates, 4 uniques\n",
    "This happens with probability: \n",
    "$$\n",
    "\\frac{1}{256} \\times 4! = \\frac{3}{32}\n",
    "$$"
   ]
  },
  {
   "cell_type": "code",
   "execution_count": 2,
   "id": "5e585a10",
   "metadata": {
    "pycharm": {
     "name": "#%%\n"
    }
   },
   "outputs": [
    {
     "data": {
      "text/plain": [
       "Fraction(3, 32)"
      ]
     },
     "execution_count": 2,
     "metadata": {},
     "output_type": "execute_result"
    }
   ],
   "source": [
    "Fraction(sum(1 for x in four_rolls if duplicates(x) == 0), len(four_rolls))"
   ]
  },
  {
   "cell_type": "markdown",
   "id": "fa39ee64",
   "metadata": {
    "pycharm": {
     "name": "#%% md\n"
    }
   },
   "source": [
    "### Case 2: 2 duplicates, 2 uniques\n",
    "The simplest way to see it is to observe that we may choose in ${4 \\choose 2}$ ways which dice form the pair, and in $4$ ways what is their value. At that point, we may choose in $3 \\times 2$ ways the value of the remaining two dice.\n",
    "Therefore case 2 happens with probability:\n",
    "$$\n",
    "\\frac{1}{256} \\times 4 \\times (3 \\times 2) \\times {4 \\choose 2} = \\frac{9}{16}\n",
    "$$"
   ]
  },
  {
   "cell_type": "code",
   "execution_count": 3,
   "id": "c2646c52",
   "metadata": {},
   "outputs": [
    {
     "data": {
      "text/plain": [
       "Fraction(9, 16)"
      ]
     },
     "execution_count": 3,
     "metadata": {},
     "output_type": "execute_result"
    }
   ],
   "source": [
    "Fraction(sum(1 for x in four_rolls if duplicates(x) == 2), len(four_rolls))"
   ]
  },
  {
   "cell_type": "markdown",
   "id": "3a97c1c1",
   "metadata": {
    "pycharm": {
     "name": "#%% md\n"
    }
   },
   "source": [
    "### Case 3: 3 duplicates, 1 unique\n",
    "Like above, this happens with probability \n",
    "$$\n",
    "\\frac{1}{256} \\times {4 \\choose 3} \\times (4 \\times 3) = \\frac{3}{16}\n",
    "$$"
   ]
  },
  {
   "cell_type": "code",
   "execution_count": 4,
   "id": "f5c957e2",
   "metadata": {},
   "outputs": [
    {
     "data": {
      "text/plain": [
       "Fraction(3, 16)"
      ]
     },
     "execution_count": 4,
     "metadata": {},
     "output_type": "execute_result"
    }
   ],
   "source": [
    "Fraction(sum(1 for x in four_rolls if duplicates(x) == 3), len(four_rolls))"
   ]
  },
  {
   "cell_type": "markdown",
   "id": "6207459e",
   "metadata": {
    "pycharm": {
     "name": "#%% md\n"
    }
   },
   "source": [
    "### Case 4: 4 duplicates\n",
    "This can happen in two ways, if all four dice are the same, with probability $\\frac{1}{256} \\times 4 = \\frac{1}{64}$, or if there are two pairs, which has probability $\\frac{1}{256} \\times {4 \\choose 2} \\times (4 \\times 3) / 2 = \\frac{9}{64}$; the total is $\\frac{1}{64} + \\frac{9}{64} = \\frac{5}{32}$."
   ]
  },
  {
   "cell_type": "code",
   "execution_count": 5,
   "id": "472bbf28",
   "metadata": {},
   "outputs": [
    {
     "data": {
      "text/plain": [
       "Fraction(5, 32)"
      ]
     },
     "execution_count": 5,
     "metadata": {},
     "output_type": "execute_result"
    }
   ],
   "source": [
    "Fraction(sum(1 for x in four_rolls if duplicates(x) == 4), len(four_rolls))"
   ]
  },
  {
   "cell_type": "markdown",
   "id": "b5e847e6",
   "metadata": {
    "pycharm": {
     "name": "#%% md\n"
    }
   },
   "source": [
    "Therefore, if we let $p(S_n)$ be the probability of winning the game conditional on being at state $S_n$, we may write:\n",
    "\n",
    "$$\n",
    "p(\\text{Init}) = p(S_3) = \\frac{3}{32} + \\frac{9}{16} p(S_2) + \\frac{3}{16} p(S_3)\n",
    "$$"
   ]
  },
  {
   "cell_type": "markdown",
   "id": "d0c85bb2",
   "metadata": {
    "pycharm": {
     "name": "#%% md\n"
    }
   },
   "source": [
    "## Rolling from two duplicates\n",
    "If there are two duplicate dice, we are only rolling two dice. We may assume without loss of generality that the unrolled dice are a one and a two. There are $16$ unique rolls of two dice. It's easy to see that in $2$ cases we go to $S_4$ (with rolls $(1, 2)$ or $(2, 1)$), in 2 cases we go to $S_0$ (with rolls $(3, 4)$ or $(4, 3)$), and in 2 cases we go to $S_3$ (with rolls $(1, 1)$ or $(2, 2)$). In the remaining $10$ cases we go to $S_2$ again."
   ]
  },
  {
   "cell_type": "code",
   "execution_count": 6,
   "id": "9c9ff7a8",
   "metadata": {},
   "outputs": [
    {
     "data": {
      "text/plain": [
       "{0: 2, 2: 10, 3: 2, 4: 2}"
      ]
     },
     "execution_count": 6,
     "metadata": {},
     "output_type": "execute_result"
    }
   ],
   "source": [
    "two_rolls = list((a, b, c, d) for a, b, c, d in four_rolls if a == 1 and b == 2)\n",
    "{\n",
    "    j: sum(1 for x in two_rolls if duplicates(x) == j)\n",
    "    for j in (0, 2, 3, 4)\n",
    "}"
   ]
  },
  {
   "cell_type": "markdown",
   "id": "8ec81ac3",
   "metadata": {},
   "source": [
    "Therefore, with the same convention as above, we may write:\n",
    "\n",
    "$$\n",
    "p(S_2) = \\frac{1}{8} + \\frac{5}{8} p(S_2) + \\frac{1}{8} p(S_3)\n",
    "$$"
   ]
  },
  {
   "cell_type": "markdown",
   "id": "d5a2178b",
   "metadata": {},
   "source": [
    "This equation, toghether with the previous one, forms a linear system that is easily solvable:\n",
    "\n",
    "$$\n",
    "\\begin{cases}\n",
    "\\begin{array}{rcl}\n",
    "p(S_3) & = & \\frac{3}{32} + \\frac{9}{16} p(S_2) + \\frac{3}{16} p(S_3) \\\\\n",
    "p(S_2) & = & \\frac{1}{8} + \\frac{5}{8} p(S_2) + \\frac{1}{8} p(S_3) \\\\\n",
    "\\end{array}\n",
    "\\end{cases}\n",
    "$$\n",
    "\n",
    "Yielding, after trivial algebraic manipulations, $p(S_3) = p(\\text{Init}) = \\frac{9}{20}$"
   ]
  },
  {
   "cell_type": "markdown",
   "id": "50af4d19",
   "metadata": {},
   "source": [
    "## Simulator"
   ]
  },
  {
   "cell_type": "code",
   "execution_count": 7,
   "id": "da284258",
   "metadata": {
    "pycharm": {
     "name": "#%%\n"
    }
   },
   "outputs": [],
   "source": [
    "def roll():\n",
    "    return randint(1, 4)\n",
    "\n",
    "def play():\n",
    "    x = Counter((roll() for _ in range(4)))\n",
    "    while True:\n",
    "        if all(c == 1 for _, c in x.items()):\n",
    "            return True\n",
    "        if all(c % 2 == 0 for _, c in x.items()):\n",
    "            return False\n",
    "        for k, v in Counter(x).items():\n",
    "            if v >= 2:\n",
    "                x[k] = 0\n",
    "                x.update(Counter((roll() for _ in range(v))))"
   ]
  },
  {
   "cell_type": "code",
   "execution_count": 9,
   "id": "8899abac",
   "metadata": {
    "pycharm": {
     "name": "#%%\n"
    }
   },
   "outputs": [
    {
     "data": {
      "text/plain": [
       "[<matplotlib.lines.Line2D at 0x15d13c640>,\n",
       " <matplotlib.lines.Line2D at 0x15d13c6a0>]"
      ]
     },
     "execution_count": 9,
     "metadata": {},
     "output_type": "execute_result"
    },
    {
     "data": {
      "image/png": "[encoded data removed]",
      "text/plain": [
       "<Figure size 432x288 with 1 Axes>"
      ]
     },
     "metadata": {
      "needs_background": "light"
     },
     "output_type": "display_data"
    }
   ],
   "source": [
    "N = 1_000_000\n",
    "X = list(play() for _ in range(N))\n",
    "Wr = [w/n for n, w in enumerate(list(accumulate(X)), 1)]\n",
    "plt.plot(range(10, N), Wr[10:], [9/20 for _ in range(10, N)])"
   ]
  }
 ],
 "metadata": {
  "interpreter": {
   "hash": "aee8b7b246df8f9039afb4144a1f6fd8d2ca17a180786b69acc140d282b71a49"
  },
  "kernelspec": {
   "display_name": "Python 3 (ipykernel)",
   "language": "python",
   "name": "python3"
  },
  "language_info": {
   "codemirror_mode": {
    "name": "ipython",
    "version": 3
   },
   "file_extension": ".py",
   "mimetype": "text/x-python",
   "name": "python",
   "nbconvert_exporter": "python",
   "pygments_lexer": "ipython3",
   "version": "3.10.4"
  }
 },
 "nbformat": 4,
 "nbformat_minor": 5
}
