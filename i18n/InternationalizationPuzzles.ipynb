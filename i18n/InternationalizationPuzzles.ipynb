{
 "cells": [
  {
   "cell_type": "markdown",
   "id": "7a9143805c9c63a2",
   "metadata": {},
   "source": [
    "# Internationalization Puzzles"
   ]
  },
  {
   "cell_type": "code",
   "id": "ab0dd6487d95b71c",
   "metadata": {
    "ExecuteTime": {
     "end_time": "2025-03-20T18:58:09.551496Z",
     "start_time": "2025-03-20T18:58:09.474623Z"
    }
   },
   "source": [
    "from functools import partial\n",
    "from typing import Iterable, Generator\n",
    "from urllib import request\n",
    "from datetime import datetime, UTC, timedelta\n",
    "from zoneinfo import ZoneInfo\n",
    "from collections import defaultdict\n",
    "from unicodedata import normalize\n",
    "from itertools import permutations, product\n",
    "from math import prod\n",
    "import re\n",
    "import bcrypt\n",
    "\n",
    "\n",
    "def i18in(day):\n",
    "    try:\n",
    "        with open(f'input/{day}') as f:\n",
    "            return f.read().strip()\n",
    "    except FileNotFoundError:\n",
    "        r = request.Request(f'https://i18n-puzzles.com/puzzle/{day}/input')\n",
    "        r.add_header('Cookie', open('../.i18ncookie').read().strip())\n",
    "        r.add_header('User-Agent', 'github.com/edoannunziata/jardin')\n",
    "        with open(f'input/{day}', 'bw') as f:\n",
    "            f.write(request.urlopen(r).read())\n",
    "        with open(f'input/{day}') as f:\n",
    "            return f.read().strip()"
   ],
   "outputs": [],
   "execution_count": 1
  },
  {
   "cell_type": "markdown",
   "id": "f3d8b4d16e974b10",
   "metadata": {},
   "source": [
    "## [Day 1 - Length limits on messaging platforms](https://i18n-puzzles.com/puzzle/1/)"
   ]
  },
  {
   "cell_type": "code",
   "id": "1fa4de75a0da494",
   "metadata": {
    "ExecuteTime": {
     "end_time": "2025-03-20T18:58:09.566857Z",
     "start_time": "2025-03-20T18:58:09.555769Z"
    }
   },
   "source": [
    "def message_cost(m: str) -> int:\n",
    "    is_sms = len(m.encode('utf8')) <= 160\n",
    "    is_tweet = len(m) <= 140\n",
    "    match is_sms, is_tweet:\n",
    "        case True, True: return 13\n",
    "        case True, False: return 11\n",
    "        case False, True: return 7\n",
    "        case _: return 0\n",
    "\n",
    "\n",
    "messages = i18in(1).split('\\n')\n",
    "\n",
    "A = sum(message_cost(s) for s in messages)\n",
    "assert A == 107989"
   ],
   "outputs": [],
   "execution_count": 2
  },
  {
   "cell_type": "markdown",
   "id": "96b3ba994b2585ed",
   "metadata": {},
   "source": [
    "## [Day 2 - Detecting gravitational waves](https://i18n-puzzles.com/puzzle/2/)"
   ]
  },
  {
   "cell_type": "code",
   "id": "ee6330377e06ae49",
   "metadata": {
    "ExecuteTime": {
     "end_time": "2025-03-20T18:58:09.647134Z",
     "start_time": "2025-03-20T18:58:09.635102Z"
    }
   },
   "source": [
    "def str_to_datetime(s: str) -> datetime:\n",
    "    return datetime.strptime(s[:-3] + s[-2:], '%Y-%m-%dT%H:%M:%S%z')\n",
    "\n",
    "\n",
    "def get_repeated(dts: Iterable[datetime], times: int = 4):\n",
    "    seen_times = defaultdict(int)\n",
    "    for dt in dts:\n",
    "        seen_times[dt.astimezone(UTC)] += 1\n",
    "        if seen_times[dt.astimezone(UTC)] >= times:\n",
    "            return dt.astimezone(UTC)\n",
    "\n",
    "\n",
    "dts = map(str_to_datetime, i18in(2).split('\\n'))\n",
    "\n",
    "A = get_repeated(dts, 4).strftime(\"%Y-%m-%dT%H:%M:%S+00:00\")\n",
    "assert A == '2020-10-25T01:30:00+00:00'"
   ],
   "outputs": [],
   "execution_count": 3
  },
  {
   "cell_type": "markdown",
   "id": "f841bff7384b8107",
   "metadata": {},
   "source": [
    "## [Day 3 - Unicode passwords](https://i18n-puzzles.com/puzzle/3/)"
   ]
  },
  {
   "cell_type": "code",
   "id": "3bf5d4ea2ccf0633",
   "metadata": {
    "ExecuteTime": {
     "end_time": "2025-03-20T18:58:09.656582Z",
     "start_time": "2025-03-20T18:58:09.651521Z"
    }
   },
   "source": [
    "def is_valid(s: str) -> bool:\n",
    "    if not 4 <= len(s) <= 12: return False\n",
    "    if not any(c.isdigit() for c in s): return False\n",
    "    if not any(c.isupper() for c in s): return False\n",
    "    if not any(c.islower() for c in s): return False\n",
    "    if all(c.isascii() for c in s): return False\n",
    "    return True\n",
    "\n",
    "\n",
    "A = sum(is_valid(s) for s in i18in(3).split('\\n'))\n",
    "assert A == 509"
   ],
   "outputs": [],
   "execution_count": 4
  },
  {
   "cell_type": "markdown",
   "id": "397ef968a67a8379",
   "metadata": {},
   "source": [
    "## [Day 4 - A trip around the world](https://i18n-puzzles.com/puzzle/4/)"
   ]
  },
  {
   "cell_type": "code",
   "id": "d3b9c72d915b2d2b",
   "metadata": {
    "ExecuteTime": {
     "end_time": "2025-03-20T18:58:09.677413Z",
     "start_time": "2025-03-20T18:58:09.660491Z"
    }
   },
   "source": [
    "def travel_length(departure: str, arrival: str) -> timedelta:\n",
    "    tz, dt = re.match(r'Departure:\\s+([^\\s]+)\\s+(.+)', departure).groups()\n",
    "    dtd = datetime.strptime(dt, '%b %d, %Y, %H:%M').replace(tzinfo=ZoneInfo(tz))\n",
    "    \n",
    "    tz, dt = re.match(r'Arrival:\\s+([^\\s]+)\\s+(.+)', arrival).groups()\n",
    "    dta = datetime.strptime(dt, '%b %d, %Y, %H:%M').replace(tzinfo=ZoneInfo(tz))\n",
    "    \n",
    "    return dta - dtd\n",
    "\n",
    "\n",
    "travels = [tuple(u.split('\\n')) for u in i18in(4).split('\\n\\n')]\n",
    "\n",
    "A = int(\n",
    "    sum((travel_length(*t) for t in travels), start=timedelta())\n",
    "    .total_seconds()\n",
    "    / 60\n",
    ")\n",
    "assert A == 16451"
   ],
   "outputs": [],
   "execution_count": 5
  },
  {
   "cell_type": "markdown",
   "id": "18382ce218cdb140",
   "metadata": {},
   "source": [
    "## [Day 5 - Don't step in it](https://i18n-puzzles.com/puzzle/5/)"
   ]
  },
  {
   "cell_type": "code",
   "id": "7f5854910782ae2a",
   "metadata": {
    "ExecuteTime": {
     "end_time": "2025-03-20T18:58:09.686324Z",
     "start_time": "2025-03-20T18:58:09.681874Z"
    }
   },
   "source": [
    "A = sum(\n",
    "    s[(2*n) % len(s)] == '\\N{PILE OF POO}'\n",
    "    for n, s in enumerate(i18in(5).split('\\n'))\n",
    ")\n",
    "assert A == 74"
   ],
   "outputs": [],
   "execution_count": 6
  },
  {
   "cell_type": "markdown",
   "id": "32668a6436688546",
   "metadata": {},
   "source": [
    "## [Day 6 - Mojibake puzzle dictionary](https://i18n-puzzles.com/puzzle/6/)"
   ]
  },
  {
   "cell_type": "code",
   "id": "7cb6bfae9889827f",
   "metadata": {
    "ExecuteTime": {
     "end_time": "2025-03-20T18:58:09.696019Z",
     "start_time": "2025-03-20T18:58:09.690432Z"
    }
   },
   "source": [
    "def unfizzbuzz(wl: Generator[str, None, None]) -> Generator[str, None, None]:\n",
    "    for i, w in enumerate(wl, 1):\n",
    "        if i % 3 == 0: w = w.encode('latin1').decode('utf8')\n",
    "        if i % 5 == 0: w = w.encode('latin1').decode('utf8')\n",
    "        yield w\n",
    "\n",
    "def solve_puzzle(puzzle: list[str], words: list[str]) -> Generator[tuple[int, str], None, None]:\n",
    "    def get_clue(s: str) -> tuple[int, int, str] :\n",
    "        letters = 0\n",
    "        clue = None, None\n",
    "        for n, c in enumerate(s):\n",
    "            match c:\n",
    "                case ' ': \n",
    "                    continue\n",
    "                case '.': \n",
    "                    letters += 1\n",
    "                case _: \n",
    "                    clue = (letters, c)\n",
    "                    letters += 1 \n",
    "                \n",
    "        return letters, *clue\n",
    "    \n",
    "    clues = list(map(get_clue, puzzle))\n",
    "   \n",
    "    for n, w in enumerate(words, 1):\n",
    "        for size, pos, l in clues:\n",
    "            if len(w) == size and w[pos] == l:\n",
    "                yield n, w\n",
    "\n",
    "\n",
    "words, puzzle = i18in(6).split('\\n\\n')\n",
    "words = words.split('\\n')\n",
    "puzzle = puzzle.split('\\n')\n",
    "\n",
    "A = sum(pos for pos, _ in solve_puzzle(puzzle, list(unfizzbuzz(words))))\n",
    "assert A == 11252"
   ],
   "outputs": [],
   "execution_count": 7
  },
  {
   "cell_type": "markdown",
   "id": "f8b4da77-d32d-4d26-9eca-7c4987fe100b",
   "metadata": {},
   "source": [
    "## [Day 7 - The audit trail fixer](https://i18n-puzzles.com/puzzle/7/)"
   ]
  },
  {
   "cell_type": "code",
   "id": "7687ab1a-ea37-4fc2-bebe-1d4383ed3c4a",
   "metadata": {
    "ExecuteTime": {
     "end_time": "2025-03-20T18:58:09.719968Z",
     "start_time": "2025-03-20T18:58:09.699896Z"
    }
   },
   "source": [
    "def fix_date(dt: datetime, a: int, b: int) -> datetime:\n",
    "    halifax = ZoneInfo('America/Halifax')\n",
    "    santiago = ZoneInfo('America/Santiago')\n",
    "    if halifax.utcoffset(dt) == dt.utcoffset():\n",
    "        home_tz = halifax\n",
    "    else:\n",
    "        home_tz = santiago\n",
    "    t0 = dt.replace(tzinfo=home_tz) \n",
    "    t1 = t0 + timedelta(minutes=a) - timedelta(minutes=b)\n",
    "    return t1 + t1.utcoffset() - t0.utcoffset()\n",
    "\n",
    "\n",
    "date_lst = [u.split('\\t') for u in i18in(7).split('\\n')]\n",
    "date_lst = [\n",
    "    (\n",
    "        datetime.strptime(u[0][:-3] + u[0][-2:], '%Y-%m-%dT%H:%M:%S.%f%z'),\n",
    "        int(u[1]), \n",
    "        int(u[2])\n",
    "    )\n",
    "    for u in date_lst\n",
    "]\n",
    "\n",
    "A = sum(n * u.hour for n, u in enumerate((fix_date(dt, a, b) for dt, a, b in date_lst), 1))\n",
    "assert A == 32152346"
   ],
   "outputs": [],
   "execution_count": 8
  },
  {
   "cell_type": "markdown",
   "id": "fdb9fe70-9737-4081-90a8-8e5100cc23ad",
   "metadata": {},
   "source": [
    "## [Day 8 - Unicode passwords redux](https://i18n-puzzles.com/puzzle/8/)"
   ]
  },
  {
   "cell_type": "code",
   "id": "439d1777-a037-44a5-b703-dee648d80682",
   "metadata": {
    "scrolled": true,
    "ExecuteTime": {
     "end_time": "2025-03-20T18:58:09.730288Z",
     "start_time": "2025-03-20T18:58:09.724077Z"
    }
   },
   "source": [
    "def is_valid(s: str) -> bool:\n",
    "    if not 4 <= len(s) <= 12: return False\n",
    "    s = normalize('NFD', s).lower()\n",
    "    if not any(c.isdigit() for c in s): return False\n",
    "    if not any(c.isalpha() and c.isascii() and c in 'aeiou' for c in s): return False\n",
    "    if not any(c.isalpha() and c.isascii() and c not in 'aeiou' for c in s): return False\n",
    "    seen = set()\n",
    "    for c in s:\n",
    "        if c.isalpha() and c.isascii() and c in seen:\n",
    "            return False\n",
    "        seen.add(c)\n",
    "        \n",
    "    return True\n",
    "\n",
    "\n",
    "A = sum(is_valid(s) for s in i18in(8).split('\\n'))\n",
    "assert A == 809"
   ],
   "outputs": [],
   "execution_count": 9
  },
  {
   "cell_type": "markdown",
   "id": "f5a88ab3-20e5-49af-8cb8-490f10e8bda5",
   "metadata": {},
   "source": [
    "## [Day 9 - Nine Eleven](https://i18n-puzzles.com/puzzle/9/)"
   ]
  },
  {
   "cell_type": "code",
   "id": "d1662f32-1d4c-4c3c-9197-9eb381d9a68e",
   "metadata": {
    "ExecuteTime": {
     "end_time": "2025-03-20T18:58:09.742272Z",
     "start_time": "2025-03-20T18:58:09.734352Z"
    }
   },
   "source": [
    "def find_dates(l: set[str]) -> set[datetime] | None:\n",
    "    fmts = set('-'.join(u) for u in permutations(('%y', '%m', '%d')))\n",
    "    for fmt in fmts:\n",
    "        try:\n",
    "            return {datetime.strptime(s, fmt) for s in l}\n",
    "        except ValueError: continue\n",
    "\n",
    "\n",
    "def parse_entries() -> dict[str, set[datetime]]:\n",
    "    entries = i18in(9).split('\\n')\n",
    "    entries = [u.split(':') for u in entries]\n",
    "    entries = {date: {u.strip() for u in v.split(',')} for date, v in entries}\n",
    "    z = defaultdict(set)\n",
    "    for date, s in entries.items():\n",
    "        for person in s:\n",
    "            z[person].add(date)\n",
    "    return {u: find_dates(v) for u, v in z.items()}\n",
    "\n",
    "\n",
    "def find_entries_for_date(entries: dict[str, set[datetime]], dt: datetime) -> set[str]:\n",
    "    return {\n",
    "        x for x in entries if dt in entries[x]\n",
    "    }\n",
    "\n",
    "\n",
    "A = ' '.join(sorted(find_entries_for_date(parse_entries(), datetime(2001, 9, 11))))\n",
    "assert A == 'Amelia Amoura Hugo Jack Jakob Junior Mateo'"
   ],
   "outputs": [],
   "execution_count": 10
  },
  {
   "metadata": {},
   "cell_type": "markdown",
   "source": "## [Day 10 - Unicode passwords strike back!](https://i18n-puzzles.com/puzzle/10/)",
   "id": "82c4381912d26d86"
  },
  {
   "metadata": {
    "ExecuteTime": {
     "end_time": "2025-03-20T18:58:09.751228Z",
     "start_time": "2025-03-20T18:58:09.746513Z"
    }
   },
   "cell_type": "code",
   "source": [
    "hashes, attempts = i18in(10).split('\\n\\n')\n",
    "hashes = {a: bytes(b, 'utf8') for a, b in map(lambda u: u.split(), hashes.split('\\n'))}\n",
    "attempts = [u.split() for u in attempts.split('\\n')]\n",
    "\n",
    "def get_decompositions(s: str) -> Generator[bytes, None, None]:\n",
    "    s = (\n",
    "        {c.encode('utf8'), normalize('NFD', c).encode('utf8')}\n",
    "        for c in normalize('NFC', s)\n",
    "    )\n",
    "\n",
    "    yield from map(lambda u: b''.join(u), product(*s))\n",
    "\n",
    "\n",
    "def valid_login(s: str, b: bytes) -> bool:\n",
    "    return any(bcrypt.checkpw(d, b) for d in get_decompositions(s))\n",
    "\n",
    "\n",
    "# Takes a lot of time, disabling\n",
    "# sum(valid_login(b, hashes[a]) for a, b in attempts)\n",
    "# assert A == 986"
   ],
   "id": "13a0c4861a52f278",
   "outputs": [],
   "execution_count": 11
  },
  {
   "metadata": {},
   "cell_type": "markdown",
   "source": [
    "## [Day 11 - Homer's cipher](https://i18n-puzzles.com/puzzle/11/)\n",
    "\n",
    "Don't tell Cryptopals."
   ],
   "id": "4004279a7961cf8c"
  },
  {
   "metadata": {
    "ExecuteTime": {
     "end_time": "2025-03-20T18:58:10.086620Z",
     "start_time": "2025-03-20T18:58:09.755816Z"
    }
   },
   "cell_type": "code",
   "source": [
    "def rotate_greek(s: str, n: int) -> str:\n",
    "    uppercase = 'ΑΒΓΔΕΖΗΘΙΚΛΜΝΞΟΠΡΣΤΥΦΧΨΩ'\n",
    "    uppercase_lookup = {\n",
    "        c: n \n",
    "        for n, c in enumerate('ΑΒΓΔΕΖΗΘΙΚΛΜΝΞΟΠΡΣΤΥΦΧΨΩ')\n",
    "    }\n",
    "    lowercase = 'αβγδεζηθικλμνξοπρστυφχψω'\n",
    "    lowercase_lookup = {\n",
    "        c: n\n",
    "        for n, c in enumerate('αβγδεζηθικλμνξοπρστυφχψω')\n",
    "    } | {'ς': 17}\n",
    "    \n",
    "    def move(c: str, n: int) -> str:\n",
    "        try:\n",
    "            if c.isupper():\n",
    "                return uppercase[(uppercase_lookup[c] + n) % 24]\n",
    "            else:\n",
    "                return lowercase[(lowercase_lookup[c] + n) % 24]\n",
    "        except KeyError: return c\n",
    "   \n",
    "    return ''.join(map(partial(move, n=n), s)) \n",
    "  \n",
    "\n",
    "def is_odysseus(s: str) -> bool:\n",
    "    options = {'Οδυσσευσ', 'Οδυσσεωσ', 'Οδυσσει', 'Οδυσσεα', 'Οδυσσευ'}\n",
    "    s = ''.join(c for c in s if c.isalpha() or c.isspace())\n",
    "    return bool(options & set(s.split()))\n",
    "\n",
    "\n",
    "def find_rot(s: str, cond: '(s: str) -> bool') -> int:\n",
    "    for i in range(24):\n",
    "        if cond(rotate_greek(s, i)): return i\n",
    "    return 0\n",
    "\n",
    "\n",
    "A = sum(find_rot(c, is_odysseus) for c in i18in(11).split('\\n'))\n",
    "assert A == 452"
   ],
   "id": "279c2e1ec8391198",
   "outputs": [],
   "execution_count": 12
  },
  {
   "metadata": {},
   "cell_type": "markdown",
   "source": "## [Day 12 - Sorting it out](https://i18n-puzzles.com/puzzle/12/)",
   "id": "1e283a4d66936687"
  },
  {
   "metadata": {
    "ExecuteTime": {
     "end_time": "2025-03-20T18:58:10.108697Z",
     "start_time": "2025-03-20T18:58:10.092941Z"
    }
   },
   "cell_type": "code",
   "source": [
    "book = i18in(12).split('\\n')\n",
    "book = [(a.strip(), b.strip()) for a, b in map(lambda u: u.split(':'), book)]\n",
    "\n",
    "\n",
    "def name_ord_1(s: str) -> tuple[int, ...]:\n",
    "    s = re.sub(r'\\'', '', s)\n",
    "    s = s.replace('ı', 'i')\n",
    "    s = s.replace('æ', 'ae')\n",
    "    s = s.replace('Æ', 'AE')\n",
    "    s = s.replace('ø', 'o')\n",
    "    s = s.replace('Ø', 'O')\n",
    "    s = s.replace('ß', 'ss')\n",
    "    \n",
    "    def char_ord(c: str) -> int:\n",
    "        if c == ',': return 0\n",
    "        c = normalize('NFD', c.lower())\n",
    "        for s in c.encode('utf8'):\n",
    "            if chr(s).isascii(): return s\n",
    "    \n",
    "    return tuple(char_ord(c) for c in s if not c.isspace())\n",
    "\n",
    "def name_ord_2(s: str) -> tuple[int, ...]:\n",
    "    s = re.sub(r'\\'', '', s)\n",
    "    \n",
    "    def char_ord(c: str) -> int:\n",
    "        if c == ',': return 0\n",
    "        if c in 'Åå'   : return 2 ** 32 + 1\n",
    "        if c in 'ÄÆäæ' : return 2 ** 32 + 2\n",
    "        if c in 'ÖØöø' : return 2 ** 32 + 3\n",
    "        c = normalize('NFD', c.lower())\n",
    "        for s in c.encode('utf8'):\n",
    "            if chr(s).isascii() : return s\n",
    "        return ord(c)\n",
    "  \n",
    "    return tuple(char_ord(c) for c in s if not c.isspace())\n",
    "\n",
    "def name_ord_3(s: str) -> tuple[int, ...]:\n",
    "    s = re.sub(r'(^|\\s)van($|\\s|,)', '', s, flags=re.IGNORECASE)\n",
    "    s = re.sub(r'(^|\\s)den($|\\s|,)', '', s, flags=re.IGNORECASE)\n",
    "    s = re.sub(r'(^|\\s)der($|\\s|,)', '', s, flags=re.IGNORECASE)\n",
    "    s = re.sub(r'(^|\\s)de($|\\s|,)', '', s, flags=re.IGNORECASE)\n",
    "    s = s.replace('ı', 'i')\n",
    "    s = s.replace('æ', 'ae')\n",
    "    s = s.replace('Æ', 'AE')\n",
    "    s = s.replace('ø', 'o')\n",
    "    s = s.replace('Ø', 'O')\n",
    "    s = s.replace('ß', 'ss')\n",
    "    s = re.sub(r'\\'', '', s)\n",
    "    \n",
    "    def char_ord(c: str) -> int:\n",
    "        if c == ',': return 0\n",
    "        c = normalize('NFD', c.lower())\n",
    "        for s in c.encode('utf8'):\n",
    "            if chr(s).isascii(): return s\n",
    "     \n",
    "    return tuple(char_ord(c) for c in s if not c.isspace())\n",
    "\n",
    "\n",
    "midpoint = (len(book) - 1) // 2\n",
    "half1 = sorted(book, key=lambda u: name_ord_1(u[0]))[midpoint]\n",
    "half2 = sorted(book, key=lambda u: name_ord_2(u[0]))[midpoint]\n",
    "half3 = sorted(book, key=lambda u: name_ord_3(u[0]))[midpoint]\n",
    "A = prod(int(u[1]) for u in (half1, half2, half3))\n",
    "assert A == 1783485863526240"
   ],
   "id": "c2078de10a0c326a",
   "outputs": [],
   "execution_count": 13
  }
 ],
 "metadata": {
  "kernelspec": {
   "display_name": "Python 3 (ipykernel)",
   "language": "python",
   "name": "python3"
  },
  "language_info": {
   "codemirror_mode": {
    "name": "ipython",
    "version": 3
   },
   "file_extension": ".py",
   "mimetype": "text/x-python",
   "name": "python",
   "nbconvert_exporter": "python",
   "pygments_lexer": "ipython3",
   "version": "3.13.0"
  }
 },
 "nbformat": 4,
 "nbformat_minor": 5
}
