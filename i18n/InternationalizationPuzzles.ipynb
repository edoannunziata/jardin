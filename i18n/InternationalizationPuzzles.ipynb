{
 "cells": [
  {
   "metadata": {},
   "cell_type": "markdown",
   "source": "# Internationalization Puzzles",
   "id": "7a9143805c9c63a2"
  },
  {
   "metadata": {
    "ExecuteTime": {
     "end_time": "2025-03-12T13:31:08.398751Z",
     "start_time": "2025-03-12T13:31:08.393467Z"
    }
   },
   "cell_type": "code",
   "source": [
    "from typing import Iterable, Generator\n",
    "from urllib import request\n",
    "from datetime import datetime, UTC, timedelta\n",
    "from zoneinfo import ZoneInfo\n",
    "from collections import defaultdict\n",
    "import re\n",
    "\n",
    "\n",
    "def i18in(day):\n",
    "    try:\n",
    "        with open(f'input/{day}') as f:\n",
    "            return f.read().strip()\n",
    "    except FileNotFoundError:\n",
    "        r = request.Request(f'https://i18n-puzzles.com/puzzle/{day}/input')\n",
    "        r.add_header('Cookie', open('../.i18ncookie').read().strip())\n",
    "        r.add_header('User-Agent', 'github.com/edoannunziata/jardin')\n",
    "        with open(f'input/{day}', 'bw') as f:\n",
    "            f.write(request.urlopen(r).read())\n",
    "        with open(f'input/{day}') as f:\n",
    "            return f.read().strip()"
   ],
   "id": "ab0dd6487d95b71c",
   "outputs": [],
   "execution_count": 1
  },
  {
   "metadata": {},
   "cell_type": "markdown",
   "source": "## [Day 1 - Length limits on messaging platforms](https://i18n-puzzles.com/puzzle/1/)",
   "id": "f3d8b4d16e974b10"
  },
  {
   "metadata": {
    "ExecuteTime": {
     "end_time": "2025-03-12T13:31:08.414126Z",
     "start_time": "2025-03-12T13:31:08.402456Z"
    }
   },
   "cell_type": "code",
   "source": [
    "def message_cost(m: str) -> int:\n",
    "    is_sms = len(m.encode('utf8')) <= 160\n",
    "    is_tweet = len(m) <= 140\n",
    "    match is_sms, is_tweet:\n",
    "        case True, True: return 13\n",
    "        case True, False: return 11\n",
    "        case False, True: return 7\n",
    "        case _: return 0\n",
    "\n",
    "\n",
    "messages = i18in(1).split('\\n')\n",
    "\n",
    "A = sum(message_cost(s) for s in messages)\n",
    "assert A == 107989"
   ],
   "id": "1fa4de75a0da494",
   "outputs": [],
   "execution_count": 2
  },
  {
   "metadata": {},
   "cell_type": "markdown",
   "source": "## [Day 2 - Detecting gravitational waves](https://i18n-puzzles.com/puzzle/2/)",
   "id": "96b3ba994b2585ed"
  },
  {
   "metadata": {
    "ExecuteTime": {
     "end_time": "2025-03-12T13:31:08.489959Z",
     "start_time": "2025-03-12T13:31:08.476954Z"
    }
   },
   "cell_type": "code",
   "source": [
    "def str_to_datetime(s: str) -> datetime:\n",
    "    return datetime.strptime(s[:-3] + s[-2:], '%Y-%m-%dT%H:%M:%S%z')\n",
    "\n",
    "\n",
    "def get_repeated(dts: Iterable[datetime], times: int = 4):\n",
    "    seen_times = defaultdict(int)\n",
    "    for dt in dts:\n",
    "        seen_times[dt.astimezone(UTC)] += 1\n",
    "        if seen_times[dt.astimezone(UTC)] >= times:\n",
    "            return dt.astimezone(UTC)\n",
    "\n",
    "\n",
    "dts = map(str_to_datetime, i18in(2).split('\\n'))\n",
    "\n",
    "A = get_repeated(dts, 4).strftime(\"%Y-%m-%dT%H:%M:%S+00:00\")\n",
    "assert A == '2020-10-25T01:30:00+00:00'"
   ],
   "id": "ee6330377e06ae49",
   "outputs": [],
   "execution_count": 3
  },
  {
   "metadata": {},
   "cell_type": "markdown",
   "source": "## [Day 3 - Unicode passwords](https://i18n-puzzles.com/puzzle/3/)",
   "id": "f841bff7384b8107"
  },
  {
   "metadata": {
    "ExecuteTime": {
     "end_time": "2025-03-12T13:31:08.507185Z",
     "start_time": "2025-03-12T13:31:08.500617Z"
    }
   },
   "cell_type": "code",
   "source": [
    "def is_valid(s: str) -> bool:\n",
    "    if not 4 <= len(s) <= 12: return False\n",
    "    if not any(c.isdigit() for c in s): return False\n",
    "    if not any(c.isupper() for c in s): return False\n",
    "    if not any(c.islower() for c in s): return False\n",
    "    if all(c.isascii() for c in s): return False\n",
    "    return True\n",
    "\n",
    "\n",
    "A = sum(is_valid(s) for s in i18in(3).split('\\n'))\n",
    "assert A == 509"
   ],
   "id": "3bf5d4ea2ccf0633",
   "outputs": [],
   "execution_count": 4
  },
  {
   "metadata": {},
   "cell_type": "markdown",
   "source": "## [Day 4 - A trip around the world](https://i18n-puzzles.com/puzzle/4/)",
   "id": "397ef968a67a8379"
  },
  {
   "metadata": {
    "ExecuteTime": {
     "end_time": "2025-03-12T13:31:08.531820Z",
     "start_time": "2025-03-12T13:31:08.515679Z"
    }
   },
   "cell_type": "code",
   "source": [
    "def travel_length(departure: str, arrival: str) -> timedelta:\n",
    "    tz, dt = re.match(r'Departure:\\s+([^\\s]+)\\s+(.+)', departure).groups()\n",
    "    dtd = datetime.strptime(dt, '%b %d, %Y, %H:%M').replace(tzinfo=ZoneInfo(tz))\n",
    "    \n",
    "    tz, dt = re.match(r'Arrival:\\s+([^\\s]+)\\s+(.+)', arrival).groups()\n",
    "    dta = datetime.strptime(dt, '%b %d, %Y, %H:%M').replace(tzinfo=ZoneInfo(tz))\n",
    "    \n",
    "    return dta - dtd\n",
    "\n",
    "\n",
    "travels = [tuple(u.split('\\n')) for u in i18in(4).split('\\n\\n')]\n",
    "\n",
    "A = int(\n",
    "    sum((travel_length(*t) for t in travels), start=timedelta())\n",
    "    .total_seconds()\n",
    "    / 60\n",
    ")\n",
    "assert A == 16451"
   ],
   "id": "d3b9c72d915b2d2b",
   "outputs": [],
   "execution_count": 5
  },
  {
   "metadata": {},
   "cell_type": "markdown",
   "source": "## [Day 5 - Don't step in it](https://i18n-puzzles.com/puzzle/5/)",
   "id": "18382ce218cdb140"
  },
  {
   "metadata": {
    "ExecuteTime": {
     "end_time": "2025-03-12T13:31:08.539923Z",
     "start_time": "2025-03-12T13:31:08.535950Z"
    }
   },
   "cell_type": "code",
   "source": [
    "A = sum(\n",
    "    s[(2*n) % len(s)] == '\\N{PILE OF POO}'\n",
    "    for n, s in enumerate(i18in(5).split('\\n'))\n",
    ")\n",
    "assert A == 74"
   ],
   "id": "7f5854910782ae2a",
   "outputs": [],
   "execution_count": 6
  },
  {
   "metadata": {},
   "cell_type": "markdown",
   "source": "# [Day 6 - Mojibake puzzle dictionary](https://i18n-puzzles.com/puzzle/6/)",
   "id": "32668a6436688546"
  },
  {
   "metadata": {
    "ExecuteTime": {
     "end_time": "2025-03-12T13:31:08.561373Z",
     "start_time": "2025-03-12T13:31:08.554727Z"
    }
   },
   "cell_type": "code",
   "source": [
    "def unfizzbuzz(wl: Generator[str]) -> Generator[str]:\n",
    "    for i, w in enumerate(wl, 1):\n",
    "        if i % 3 == 0: w = w.encode('latin1').decode('utf8')\n",
    "        if i % 5 == 0: w = w.encode('latin1').decode('utf8')\n",
    "        yield w\n",
    "\n",
    "def solve_puzzle(puzzle: list[str], words: list[str]) -> Generator[tuple[int, str]]:\n",
    "    def get_clue(s: str) -> tuple[int, int, str] :\n",
    "        letters = 0\n",
    "        clue = None, None\n",
    "        for n, c in enumerate(s):\n",
    "            match c:\n",
    "                case ' ': \n",
    "                    continue\n",
    "                case '.': \n",
    "                    letters += 1\n",
    "                case _: \n",
    "                    clue = (letters, c)\n",
    "                    letters += 1 \n",
    "                \n",
    "        return letters, *clue\n",
    "    \n",
    "    clues = list(map(get_clue, puzzle))\n",
    "   \n",
    "    for n, w in enumerate(words, 1):\n",
    "        for size, pos, l in clues:\n",
    "            if len(w) == size and w[pos] == l:\n",
    "                yield n, w\n",
    "\n",
    "\n",
    "words, puzzle = i18in(6).split('\\n\\n')\n",
    "words = words.split('\\n')\n",
    "puzzle = puzzle.split('\\n')\n",
    "\n",
    "A = sum(pos for pos, _ in solve_puzzle(puzzle, list(unfizzbuzz(words))))\n",
    "assert A == 11252"
   ],
   "id": "7cb6bfae9889827f",
   "outputs": [],
   "execution_count": 7
  }
 ],
 "metadata": {
  "kernelspec": {
   "display_name": "Python 3",
   "language": "python",
   "name": "python3"
  },
  "language_info": {
   "codemirror_mode": {
    "name": "ipython",
    "version": 2
   },
   "file_extension": ".py",
   "mimetype": "text/x-python",
   "name": "python",
   "nbconvert_exporter": "python",
   "pygments_lexer": "ipython2",
   "version": "2.7.6"
  }
 },
 "nbformat": 4,
 "nbformat_minor": 5
}
