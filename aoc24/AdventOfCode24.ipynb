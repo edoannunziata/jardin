{
 "cells": [
  {
   "cell_type": "markdown",
   "metadata": {},
   "source": [
    "# Advent of Code 2024"
   ]
  },
  {
   "cell_type": "markdown",
   "metadata": {},
   "source": [
    "> If debugging is the process of removing software bugs, then programming must be the process of putting them in.\n",
    "\n",
    "-- Edsger W. Dijkstra"
   ]
  },
  {
   "cell_type": "markdown",
   "metadata": {},
   "source": [
    "## Imports and definitions"
   ]
  },
  {
   "cell_type": "code",
   "metadata": {
    "ExecuteTime": {
     "end_time": "2024-12-07T09:14:25.520811Z",
     "start_time": "2024-12-07T09:14:25.516885Z"
    }
   },
   "source": [
    "import re\n",
    "from itertools import chain, islice, product\n",
    "from functools import cache, reduce\n",
    "from operator import add, mul\n",
    "from urllib import request\n",
    "from collections import Counter, defaultdict\n",
    "from math import prod, inf\n",
    "\n",
    "def aocin(day):\n",
    "    try:\n",
    "        with open(f'input/{day}') as f:\n",
    "            return f.read().strip()\n",
    "    except FileNotFoundError:\n",
    "        r = request.Request(f'https://adventofcode.com/2024/day/{day}/input')\n",
    "        r.add_header('Cookie', open('../.aoccookie').read().strip())\n",
    "        r.add_header('User-Agent', 'github.com/edoannunziata/jardin')\n",
    "        with open(f'input/{day}', 'bw') as f:\n",
    "            f.write(request.urlopen(r).read())\n",
    "        with open(f'input/{day}') as f:\n",
    "            return f.read().strip()"
   ],
   "outputs": [],
   "execution_count": 1
  },
  {
   "cell_type": "markdown",
   "metadata": {},
   "source": [
    "## [Day 1: Historian Hysteria](https://adventofcode.com/2024/day/1)"
   ]
  },
  {
   "cell_type": "code",
   "metadata": {
    "ExecuteTime": {
     "end_time": "2024-12-07T09:14:25.528531Z",
     "start_time": "2024-12-07T09:14:25.525160Z"
    }
   },
   "source": [
    "a, b = [list(t) for t in zip(*[[*map(int, x.split())] for x in aocin(1).split('\\n')])]\n",
    "na, nb = Counter(a), Counter(b)\n",
    "\n",
    "A = sum(abs(u-v) for u, v in zip(sorted(a), sorted(b)))\n",
    "assert A == 1388114\n",
    "\n",
    "A = sum(u * nu * nb[u] for u, nu in na.items())\n",
    "assert A == 23529853"
   ],
   "outputs": [],
   "execution_count": 2
  },
  {
   "cell_type": "markdown",
   "metadata": {},
   "source": [
    "## [Day 2: Red-Nosed Reports](https://adventofcode.com/2024/day/2)"
   ]
  },
  {
   "cell_type": "code",
   "metadata": {
    "ExecuteTime": {
     "end_time": "2024-12-07T09:14:25.600965Z",
     "start_time": "2024-12-07T09:14:25.590798Z"
    }
   },
   "source": [
    "reports = [[*map(int, l.split())] for l in aocin(2).split('\\n')]\n",
    "\n",
    "def is_safe(l, allowed, tol=0):\n",
    "    def _f(l, tol):\n",
    "        if tol < 0: return False\n",
    "        if len(l) < 2: return True\n",
    "        a, b, *rest = l\n",
    "        return (\n",
    "            ((a is None or a-b in allowed) and _f([b] + rest, tol))\n",
    "            or _f([a] + rest, tol-1)\n",
    "        )\n",
    "    return _f([None] + l, tol)\n",
    "\n",
    "\n",
    "A = sum(is_safe(l, {1, 2, 3}) or is_safe(l, {-1, -2, -3}) for l in reports)\n",
    "assert A == 369\n",
    "\n",
    "A = sum(is_safe(l, {1, 2, 3}, tol=1) or is_safe(l, {-1, -2, -3}, tol=1) for l in reports)\n",
    "assert A == 428"
   ],
   "outputs": [],
   "execution_count": 3
  },
  {
   "cell_type": "markdown",
   "metadata": {},
   "source": [
    "## [Day 3: Mull it Over](https://adventofcode.com/2024/day/3)"
   ]
  },
  {
   "cell_type": "code",
   "metadata": {
    "ExecuteTime": {
     "end_time": "2024-12-07T09:14:25.609627Z",
     "start_time": "2024-12-07T09:14:25.605814Z"
    }
   },
   "source": [
    "A = sum(\n",
    "    prod(map(int, m.groups()))\n",
    "    for m in re.finditer(r'mul\\((\\d{1,3}),(\\d{1,3})\\)', aocin(3))\n",
    ")\n",
    "assert A == 160672468\n",
    "\n",
    "\n",
    "def mul_with_switch(input):\n",
    "    active, acc = True, 0\n",
    "    for m in re.finditer(r\"(do|don't|mul)\\((\\d{0,3}),?(\\d{0,3})\\)\", input):\n",
    "        match m.groups():\n",
    "            case \"mul\", _ as a, _ as b:\n",
    "                acc += active * int(a) * int(b)\n",
    "            case \"do\", _, _:\n",
    "                active = True\n",
    "            case \"don't\", _, _:\n",
    "                active = False\n",
    "    return acc\n",
    "\n",
    "A = mul_with_switch(aocin(3))\n",
    "assert A == 84893551"
   ],
   "outputs": [],
   "execution_count": 4
  },
  {
   "cell_type": "markdown",
   "metadata": {},
   "source": [
    "## [Day 4: Ceres Search](https://adventofcode.com/2024/day/4)"
   ]
  },
  {
   "cell_type": "code",
   "metadata": {
    "ExecuteTime": {
     "end_time": "2024-12-07T09:14:25.623341Z",
     "start_time": "2024-12-07T09:14:25.614666Z"
    }
   },
   "source": [
    "def gen_input(raw):\n",
    "    rows = raw.split('\\n')\n",
    "    cols = [''.join(u) for u in list(zip(*rows))]\n",
    "    diag_primary = defaultdict(str)\n",
    "    diag_secondary = defaultdict(str)\n",
    "    for i in range(len(rows)):\n",
    "        for j in range(len(rows[0])):\n",
    "            diag_primary[i-j] += rows[i][j]\n",
    "            diag_secondary[i+j] += rows[i][j]\n",
    "    return rows, cols, diag_primary.values(), diag_secondary.values()\n",
    "\n",
    "\n",
    "rows, cols, diag_primary, diag_secondary = gen_input(aocin(4))\n",
    "A = sum(\n",
    "    u.count('XMAS') + u.count('SAMX')\n",
    "    for u in chain(rows, cols, diag_primary, diag_secondary)\n",
    ")\n",
    "assert A == 2613\n",
    "\n",
    "A = sum(\n",
    "    (\n",
    "            rows[i][j] == 'A'\n",
    "        and {rows[i+1][j+1], rows[i-1][j-1]} == {'S', 'M'}\n",
    "        and {rows[i+1][j-1], rows[i-1][j+1]} == {'S', 'M'} \n",
    "    )\n",
    "    for i in range(1, len(rows) - 1)\n",
    "    for j in range(1, len(rows[0]) - 1)\n",
    ")\n",
    "assert A == 1905"
   ],
   "outputs": [],
   "execution_count": 5
  },
  {
   "cell_type": "markdown",
   "metadata": {},
   "source": [
    "## [Day 5: Print Queue](https://adventofcode.com/2024/day/5)\n",
    "\n",
    "The algorithms and data structures begin to strike! :)\n",
    "\n",
    "It's easy to observe that the problem is asking questions related to the topological ordering of the graph of rules.\n",
    "\n",
    "The second part of the problem is actually underspecified. The text of the problem seems to be assuming that there exists a unique topological order, but that is obviously not the case, for a trivial counterexample imagine an empty rule graph and a nonempty update array; any permutation of the array would be valid."
   ]
  },
  {
   "cell_type": "code",
   "metadata": {
    "ExecuteTime": {
     "end_time": "2024-12-07T09:14:25.640272Z",
     "start_time": "2024-12-07T09:14:25.628054Z"
    }
   },
   "source": [
    "rules, updates = aocin(5).split('\\n\\n')\n",
    "updates_lst = [[*map(int, r.split(','))] for r in updates.split('\\n')]\n",
    "\n",
    "def rules_graphs(rules):\n",
    "    direct, reverse = defaultdict(set), defaultdict(set)\n",
    "    for rule in rules.split('\\n'):\n",
    "        a, b = map(int, rule.split('|'))\n",
    "        direct[b].add(a), reverse[a].add(b)\n",
    "    return direct, reverse\n",
    "\n",
    "def is_inorder(rules_graph, update):\n",
    "    present, done = set(update), set()\n",
    "    for u in update:\n",
    "        if any(v in present and v not in done for v in rules_graph[u]): return False\n",
    "        done.add(u)\n",
    "    return True\n",
    "\n",
    "def topological_sort(direct, reverse, update):\n",
    "    present = set(update)\n",
    "    out_degree = {k: sum(u in present for u in direct[k]) for k in present}\n",
    "    active = set(k for k, v in out_degree.items() if v == 0) \n",
    "    while active:\n",
    "        yield (x := active.pop())\n",
    "        out_degree[x] = -1\n",
    "        for v in reverse[x]:\n",
    "            if v in out_degree: out_degree[v] -= 1\n",
    "            if out_degree.get(v, -1) == 0: active.add(v)\n",
    "\n",
    "\n",
    "direct, reverse = rules_graphs(rules)\n",
    "\n",
    "A = sum(is_inorder(direct, u) * u[len(u) // 2] for u in updates_lst)\n",
    "assert A == 4185\n",
    "\n",
    "A = sum(\n",
    "    next(islice(topological_sort(direct, reverse, u), len(u) // 2, len(u) // 2 + 1))\n",
    "    for u in updates_lst if not is_inorder(direct, u)\n",
    ")\n",
    "assert A == 4480"
   ],
   "outputs": [],
   "execution_count": 6
  },
  {
   "cell_type": "markdown",
   "metadata": {},
   "source": [
    "## [Day 6 - Guard Gallivant](https://adventofcode.com/2024/day/6)"
   ]
  },
  {
   "cell_type": "code",
   "metadata": {
    "ExecuteTime": {
     "end_time": "2024-12-07T09:14:25.814228Z",
     "start_time": "2024-12-07T09:14:25.646973Z"
    }
   },
   "source": [
    "class Grid:\n",
    "    def __init__(self, raw):\n",
    "        self.rows = raw.split('\\n')\n",
    "        self.height = len(self.rows)\n",
    "        self.width = len(self.rows[0])\n",
    "        for i in range(self.height):\n",
    "            for j in range(self.width):\n",
    "                if self[i, j] == '^':\n",
    "                    self.starting_point = (i, j)\n",
    "                    break\n",
    "                    \n",
    "    def __getitem__(self, u):\n",
    "        if (0 <= u[0] < self.height) and (0 <= u[1] < self.width):\n",
    "            return self.rows[u[0]][u[1]]\n",
    "        else: raise IndexError()\n",
    "\n",
    "\n",
    "def get_visited(grid):\n",
    "    i, j = grid.starting_point\n",
    "    di, dj = -1, 0\n",
    "    yield i, j\n",
    "    while True:\n",
    "        ni, nj = i + di, j + dj\n",
    "        try:\n",
    "            match grid[ni, nj]:\n",
    "                case '#': di, dj = dj, -di\n",
    "                case  _ : i, j = i+di, j+dj; yield i, j\n",
    "        except IndexError: \n",
    "            break\n",
    "\n",
    "@cache\n",
    "def compute_next(grid, i, j, di, dj):\n",
    "    pi, pj = i, j\n",
    "    try:\n",
    "        while grid[pi, pj] != '#':\n",
    "            pi, pj = pi+di, pj+dj\n",
    "        return pi-di, pj-dj\n",
    "    except IndexError:\n",
    "        return None, None\n",
    "\n",
    "def generate_loops(grid):\n",
    "    for h, k in set(get_visited(grid)):\n",
    "        seen = set()\n",
    "        i, j = grid.starting_point\n",
    "        di, dj = -1, 0\n",
    "        while True:\n",
    "            if (i, j) == (None, None): break\n",
    "            if (i, j, di, dj) in seen: yield h, k; break\n",
    "            else: seen.add((i, j, di, dj))\n",
    "            ni, nj = compute_next(grid, i, j, di, dj)\n",
    "            if   (di, dj) == (0, 1)  and i == h and j <= k <= (nj or inf) : i, j = i, k-1\n",
    "            elif (di, dj) == (0, -1) and i == h and (nj or -inf) <= k <= j: i, j = i, k+1\n",
    "            elif (di, dj) == (1, 0)  and j == k and i <= h <= (ni or inf) : i, j = h-1, j\n",
    "            elif (di, dj) == (-1, 0) and j == k and (ni or -inf) <= h < i : i, j = h+1, j\n",
    "            else: i, j = ni, nj\n",
    "            di, dj = dj, -di\n",
    "\n",
    "\n",
    "A = len(set(get_visited(Grid(aocin(6)))))\n",
    "assert A == 4939\n",
    "\n",
    "A = sum(1 for _ in generate_loops(Grid(aocin(6))))\n",
    "assert A == 1434"
   ],
   "outputs": [],
   "execution_count": 7
  },
  {
   "metadata": {},
   "cell_type": "markdown",
   "source": "## [Day 7: Bridge Repair](https://adventofcode.com/2024/day/7)\n"
  },
  {
   "metadata": {
    "ExecuteTime": {
     "end_time": "2024-12-07T09:14:27.851889Z",
     "start_time": "2024-12-07T09:14:25.819552Z"
    }
   },
   "cell_type": "code",
   "source": [
    "def gen_lines(raw):\n",
    "    lines = []\n",
    "    for line in raw.split('\\n'):\n",
    "        target, ls = line.split(':')\n",
    "        lines.append((int(target), [*map(int, ls.split())]))\n",
    "    return lines\n",
    "\n",
    "\n",
    "def can_result_in(target, elem, op):\n",
    "    return target in reduce(\n",
    "        lambda u, v: (\n",
    "            {z for f, x in product(op, u) if (z := f(x, v)) <= target}\n",
    "        ),\n",
    "        elem[1:], {elem[0]} \n",
    "    )\n",
    "   \n",
    "op = {add, mul} \n",
    "A = sum(k for k, v in gen_lines(aocin(7)) if can_result_in(k, v, op))\n",
    "assert A == 5030892084481\n",
    "\n",
    "op = {add, mul, lambda a, b: int(str(a) + str(b))}\n",
    "A = sum(k for k, v in gen_lines(aocin(7)) if can_result_in(k, v, op))\n",
    "assert A == 91377448644679"
   ],
   "outputs": [],
   "execution_count": 8
  }
 ],
 "metadata": {
  "interpreter": {
   "hash": "aee8b7b246df8f9039afb4144a1f6fd8d2ca17a180786b69acc140d282b71a49"
  },
  "kernelspec": {
   "display_name": "Python 3 (ipykernel)",
   "language": "python",
   "name": "python3"
  },
  "language_info": {
   "codemirror_mode": {
    "name": "ipython",
    "version": 3
   },
   "file_extension": ".py",
   "mimetype": "text/x-python",
   "name": "python",
   "nbconvert_exporter": "python",
   "pygments_lexer": "ipython3",
   "version": "3.12.7"
  },
  "toc-autonumbering": false,
  "toc-showcode": false,
  "toc-showmarkdowntxt": false,
  "toc-showtags": false
 },
 "nbformat": 4,
 "nbformat_minor": 4
}
