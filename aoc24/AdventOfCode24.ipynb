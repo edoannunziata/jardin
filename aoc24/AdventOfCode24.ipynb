{
 "cells": [
  {
   "metadata": {},
   "cell_type": "markdown",
   "source": "# Advent of Code 2024"
  },
  {
   "metadata": {},
   "cell_type": "markdown",
   "source": [
    "> If debugging is the process of removing software bugs, then programming must be the process of putting them in.\n",
    "\n",
    "-- Edsger W. Dijkstra"
   ]
  },
  {
   "metadata": {},
   "cell_type": "markdown",
   "source": "## Imports and definitions"
  },
  {
   "metadata": {
    "trusted": false,
    "ExecuteTime": {
     "end_time": "2024-12-04T07:29:12.237694Z",
     "start_time": "2024-12-04T07:29:12.229643Z"
    }
   },
   "cell_type": "code",
   "source": [
    "import re\n",
    "from itertools import chain\n",
    "from urllib import request\n",
    "from collections import Counter, defaultdict\n",
    "from math import prod\n",
    "\n",
    "def aocin(day):\n",
    "    try:\n",
    "        with open(f'input/{day}') as f:\n",
    "            return f.read().strip()\n",
    "    except FileNotFoundError:\n",
    "        r = request.Request(f'https://adventofcode.com/2024/day/{day}/input')\n",
    "        r.add_header('Cookie', open('../.aoccookie').read().strip())\n",
    "        r.add_header('User-Agent', 'github.com/edoannunziata/jardin')\n",
    "        with open(f'input/{day}', 'bw') as f:\n",
    "            f.write(request.urlopen(r).read())\n",
    "        with open(f'input/{day}') as f:\n",
    "            return f.read().strip()"
   ],
   "outputs": [],
   "execution_count": 1
  },
  {
   "metadata": {},
   "cell_type": "markdown",
   "source": "## [Day 1: Historian Hysteria](https://adventofcode.com/2024/day/1)"
  },
  {
   "metadata": {
    "trusted": false,
    "ExecuteTime": {
     "end_time": "2024-12-04T07:29:12.254928Z",
     "start_time": "2024-12-04T07:29:12.249243Z"
    }
   },
   "cell_type": "code",
   "source": [
    "a, b = [list(t) for t in zip(*[[*map(int, x.split())] for x in aocin(1).split('\\n')])]\n",
    "na, nb = Counter(a), Counter(b)\n",
    "\n",
    "A = sum(abs(u-v) for u, v in zip(sorted(a), sorted(b)))\n",
    "assert A == 1388114\n",
    "\n",
    "A = sum(u * nu * nb[u] for u, nu in na.items())\n",
    "assert A == 23529853"
   ],
   "outputs": [],
   "execution_count": 2
  },
  {
   "metadata": {},
   "cell_type": "markdown",
   "source": "## [Day 2: Red-Nosed Reports](https://adventofcode.com/2024/day/2)"
  },
  {
   "metadata": {
    "ExecuteTime": {
     "end_time": "2024-12-04T07:29:12.349764Z",
     "start_time": "2024-12-04T07:29:12.336533Z"
    }
   },
   "cell_type": "code",
   "source": [
    "reports = [[*map(int, l.split())] for l in aocin(2).split('\\n')]\n",
    "\n",
    "def is_safe(l, allowed, tol=0):\n",
    "    def _f(l, tol):\n",
    "        if tol < 0: return False\n",
    "        if len(l) < 2: return True\n",
    "        a, b, *rest = l\n",
    "        return (\n",
    "            ((a is None or a-b in allowed) and _f([b] + rest, tol))\n",
    "            or _f([a] + rest, tol-1)\n",
    "        )\n",
    "    return _f([None] + l, tol)\n",
    "\n",
    "\n",
    "A = sum(is_safe(l, {1, 2, 3}) or is_safe(l, {-1, -2, -3}) for l in reports)\n",
    "assert A == 369\n",
    "\n",
    "A = sum(is_safe(l, {1, 2, 3}, tol=1) or is_safe(l, {-1, -2, -3}, tol=1) for l in reports)\n",
    "assert A == 428"
   ],
   "outputs": [],
   "execution_count": 3
  },
  {
   "metadata": {},
   "cell_type": "markdown",
   "source": "## [Day 3: Mull it Over](https://adventofcode.com/2024/day/3)"
  },
  {
   "metadata": {
    "ExecuteTime": {
     "end_time": "2024-12-04T07:29:12.363379Z",
     "start_time": "2024-12-04T07:29:12.357826Z"
    }
   },
   "cell_type": "code",
   "source": [
    "A = sum(\n",
    "    prod(map(int, m.groups()))\n",
    "    for m in re.finditer(r'mul\\((\\d{1,3}),(\\d{1,3})\\)', aocin(3))\n",
    ")\n",
    "assert A == 160672468\n",
    "\n",
    "\n",
    "def mul_with_switch(input):\n",
    "    active, acc = True, 0\n",
    "    for m in re.finditer(r\"(do|don't|mul)\\((\\d{0,3}),?(\\d{0,3})\\)\", input):\n",
    "        match m.groups():\n",
    "            case \"mul\", _ as a, _ as b:\n",
    "                acc += active * int(a) * int(b)\n",
    "            case \"do\", _, _:\n",
    "                active = True\n",
    "            case \"don't\", _, _:\n",
    "                active = False\n",
    "    return acc\n",
    "\n",
    "A = mul_with_switch(aocin(3))\n",
    "assert A == 84893551"
   ],
   "outputs": [],
   "execution_count": 4
  },
  {
   "metadata": {},
   "cell_type": "markdown",
   "source": "## [Day 4: Ceres Search](https://adventofcode.com/2024/day/4)"
  },
  {
   "metadata": {
    "ExecuteTime": {
     "end_time": "2024-12-04T07:29:12.381374Z",
     "start_time": "2024-12-04T07:29:12.370743Z"
    }
   },
   "cell_type": "code",
   "source": [
    "def gen_input(raw):\n",
    "    rows = raw.split('\\n')\n",
    "    cols = [''.join(u) for u in list(zip(*rows))]\n",
    "    diag_primary = defaultdict(str)\n",
    "    diag_secondary = defaultdict(str)\n",
    "    for i in range(len(rows)):\n",
    "        for j in range(len(rows[0])):\n",
    "            diag_primary[i-j] += rows[i][j]\n",
    "            diag_secondary[i+j] += rows[i][j]\n",
    "    return (\n",
    "        rows, cols, diag_primary.values(), diag_secondary.values()\n",
    "    )\n",
    "\n",
    "\n",
    "rows, cols, diag_primary, diag_secondary = gen_input(aocin(4))\n",
    "A = sum(\n",
    "    u.count('XMAS') + u.count('SAMX')\n",
    "    for u in chain(rows, cols, diag_primary, diag_secondary)\n",
    ")\n",
    "assert A == 2613\n",
    "\n",
    "A = sum(\n",
    "    (\n",
    "            rows[i][j] == 'A'\n",
    "        and {rows[i+1][j+1], rows[i-1][j-1]} == {'S', 'M'}\n",
    "        and {rows[i+1][j-1], rows[i-1][j+1]} == {'S', 'M'} \n",
    "    )\n",
    "    for i in range(1, len(rows) - 1)\n",
    "    for j in range(1, len(rows[0]) - 1)\n",
    ")\n",
    "assert A == 1905"
   ],
   "outputs": [],
   "execution_count": 5
  }
 ],
 "metadata": {
  "interpreter": {
   "hash": "aee8b7b246df8f9039afb4144a1f6fd8d2ca17a180786b69acc140d282b71a49"
  },
  "kernelspec": {
   "name": "python3",
   "display_name": "Python 3",
   "language": "python"
  },
  "language_info": {
   "name": "python",
   "version": "3.10.4",
   "mimetype": "text/x-python",
   "codemirror_mode": {
    "name": "ipython",
    "version": 3
   },
   "pygments_lexer": "ipython3",
   "nbconvert_exporter": "python",
   "file_extension": ".py"
  },
  "toc-autonumbering": false,
  "toc-showcode": false,
  "toc-showmarkdowntxt": false,
  "toc-showtags": false
 },
 "nbformat": 4,
 "nbformat_minor": 4
}
