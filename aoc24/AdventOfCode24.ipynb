{
 "cells": [
  {
   "cell_type": "markdown",
   "metadata": {},
   "source": [
    "# Advent of Code 2024"
   ]
  },
  {
   "cell_type": "markdown",
   "metadata": {},
   "source": [
    "> If debugging is the process of removing software bugs, then programming must be the process of putting them in.\n",
    "\n",
    "-- Edsger W. Dijkstra"
   ]
  },
  {
   "cell_type": "markdown",
   "metadata": {},
   "source": [
    "## Imports and definitions"
   ]
  },
  {
   "cell_type": "code",
   "metadata": {
    "ExecuteTime": {
     "end_time": "2024-12-22T00:05:12.411354Z",
     "start_time": "2024-12-22T00:05:12.406038Z"
    }
   },
   "source": [
    "import math\n",
    "import re\n",
    "from itertools import chain, islice, product, count, takewhile, batched, repeat, accumulate\n",
    "from functools import cache, reduce\n",
    "from urllib import request\n",
    "from heapq import heappush, heappop\n",
    "from collections import Counter, defaultdict\n",
    "from math import prod, inf\n",
    "\n",
    "\n",
    "\n",
    "def aocin(day):\n",
    "    try:\n",
    "        with open(f'input/{day}') as f:\n",
    "            return f.read().strip()\n",
    "    except FileNotFoundError:\n",
    "        r = request.Request(f'https://adventofcode.com/2024/day/{day}/input')\n",
    "        r.add_header('Cookie', open('../.aoccookie').read().strip())\n",
    "        r.add_header('User-Agent', 'github.com/edoannunziata/jardin')\n",
    "        with open(f'input/{day}', 'bw') as f:\n",
    "            f.write(request.urlopen(r).read())\n",
    "        with open(f'input/{day}') as f:\n",
    "            return f.read().strip()"
   ],
   "outputs": [],
   "execution_count": 1
  },
  {
   "cell_type": "markdown",
   "metadata": {},
   "source": [
    "Many problems this year require a _grid_, a 2d array that usually contains characters at each coordinates."
   ]
  },
  {
   "cell_type": "code",
   "metadata": {
    "ExecuteTime": {
     "end_time": "2024-12-22T00:05:12.492524Z",
     "start_time": "2024-12-22T00:05:12.490230Z"
    }
   },
   "source": [
    "class Grid:\n",
    "    def __init__(self, raw):\n",
    "        self.rows = [*map(list, raw.split('\\n'))]\n",
    "        self.height = len(self.rows)\n",
    "        self.width = len(self.rows[0])\n",
    "\n",
    "    def __getitem__(self, u):\n",
    "        if u in self: return self.rows[u[0]][u[1]]\n",
    "        else: raise IndexError()\n",
    "\n",
    "    def __setitem__(self, u, n):\n",
    "        self.rows[u[0]][u[1]] = n\n",
    "        \n",
    "    __contains__ = lambda s, u: (0 <= u[0] < s.height) and (0 <= u[1] < s.width)"
   ],
   "outputs": [],
   "execution_count": 2
  },
  {
   "cell_type": "markdown",
   "metadata": {},
   "source": [
    "## [Day 1: Historian Hysteria](https://adventofcode.com/2024/day/1)"
   ]
  },
  {
   "cell_type": "code",
   "metadata": {
    "ExecuteTime": {
     "end_time": "2024-12-22T00:05:12.498391Z",
     "start_time": "2024-12-22T00:05:12.495294Z"
    }
   },
   "source": [
    "a, b = [list(t) for t in zip(*[[*map(int, x.split())] for x in aocin(1).split('\\n')])]\n",
    "na, nb = Counter(a), Counter(b)\n",
    "\n",
    "A = sum(abs(u-v) for u, v in zip(sorted(a), sorted(b)))\n",
    "assert A == 1388114\n",
    "\n",
    "A = sum(u * nu * nb[u] for u, nu in na.items())\n",
    "assert A == 23529853"
   ],
   "outputs": [],
   "execution_count": 3
  },
  {
   "cell_type": "markdown",
   "metadata": {},
   "source": [
    "## [Day 2: Red-Nosed Reports](https://adventofcode.com/2024/day/2)"
   ]
  },
  {
   "cell_type": "code",
   "metadata": {
    "ExecuteTime": {
     "end_time": "2024-12-22T00:05:12.512042Z",
     "start_time": "2024-12-22T00:05:12.502418Z"
    }
   },
   "source": [
    "reports = [[*map(int, l.split())] for l in aocin(2).split('\\n')]\n",
    "\n",
    "def is_safe(l, allowed, tol=0):\n",
    "    def _f(l, tol):\n",
    "        if tol < 0: return False\n",
    "        if len(l) < 2: return True\n",
    "        a, b, *rest = l\n",
    "        return (\n",
    "            ((a is None or a-b in allowed) and _f([b] + rest, tol))\n",
    "            or _f([a] + rest, tol-1)\n",
    "        )\n",
    "    return _f([None] + l, tol)\n",
    "\n",
    "\n",
    "A = sum(is_safe(l, {1, 2, 3}) or is_safe(l, {-1, -2, -3}) for l in reports)\n",
    "assert A == 369\n",
    "\n",
    "A = sum(is_safe(l, {1, 2, 3}, tol=1) or is_safe(l, {-1, -2, -3}, tol=1) for l in reports)\n",
    "assert A == 428"
   ],
   "outputs": [],
   "execution_count": 4
  },
  {
   "cell_type": "markdown",
   "metadata": {},
   "source": [
    "## [Day 3: Mull it Over](https://adventofcode.com/2024/day/3)"
   ]
  },
  {
   "cell_type": "code",
   "metadata": {
    "ExecuteTime": {
     "end_time": "2024-12-22T00:05:12.519108Z",
     "start_time": "2024-12-22T00:05:12.515919Z"
    }
   },
   "source": [
    "A = sum(\n",
    "    prod(map(int, m.groups()))\n",
    "    for m in re.finditer(r'mul\\((\\d{1,3}),(\\d{1,3})\\)', aocin(3))\n",
    ")\n",
    "assert A == 160672468\n",
    "\n",
    "\n",
    "def mul_with_switch(input):\n",
    "    active, acc = True, 0\n",
    "    for m in re.finditer(r\"(do|don't|mul)\\((\\d{0,3}),?(\\d{0,3})\\)\", input):\n",
    "        match m.groups():\n",
    "            case \"mul\", _ as a, _ as b:\n",
    "                acc += active * int(a) * int(b)\n",
    "            case \"do\", _, _:\n",
    "                active = True\n",
    "            case \"don't\", _, _:\n",
    "                active = False\n",
    "    return acc\n",
    "\n",
    "A = mul_with_switch(aocin(3))\n",
    "assert A == 84893551"
   ],
   "outputs": [],
   "execution_count": 5
  },
  {
   "cell_type": "markdown",
   "metadata": {},
   "source": [
    "## [Day 4: Ceres Search](https://adventofcode.com/2024/day/4)"
   ]
  },
  {
   "cell_type": "code",
   "metadata": {
    "ExecuteTime": {
     "end_time": "2024-12-22T00:05:12.531110Z",
     "start_time": "2024-12-22T00:05:12.523051Z"
    }
   },
   "source": [
    "def gen_input(raw):\n",
    "    rows = raw.split('\\n')\n",
    "    cols = [''.join(u) for u in list(zip(*rows))]\n",
    "    diag_primary = defaultdict(str)\n",
    "    diag_secondary = defaultdict(str)\n",
    "    for i in range(len(rows)):\n",
    "        for j in range(len(rows[0])):\n",
    "            diag_primary[i-j] += rows[i][j]\n",
    "            diag_secondary[i+j] += rows[i][j]\n",
    "    return rows, cols, diag_primary.values(), diag_secondary.values()\n",
    "\n",
    "\n",
    "rows, cols, diag_primary, diag_secondary = gen_input(aocin(4))\n",
    "A = sum(\n",
    "    u.count('XMAS') + u.count('SAMX')\n",
    "    for u in chain(rows, cols, diag_primary, diag_secondary)\n",
    ")\n",
    "assert A == 2613\n",
    "\n",
    "A = sum(\n",
    "    (\n",
    "            rows[i][j] == 'A'\n",
    "        and {rows[i+1][j+1], rows[i-1][j-1]} == {'S', 'M'}\n",
    "        and {rows[i+1][j-1], rows[i-1][j+1]} == {'S', 'M'} \n",
    "    )\n",
    "    for i in range(1, len(rows) - 1)\n",
    "    for j in range(1, len(rows[0]) - 1)\n",
    ")\n",
    "assert A == 1905"
   ],
   "outputs": [],
   "execution_count": 6
  },
  {
   "cell_type": "markdown",
   "metadata": {},
   "source": [
    "## [Day 5: Print Queue](https://adventofcode.com/2024/day/5)\n",
    "\n",
    "The algorithms and data structures begin to strike! :)\n",
    "\n",
    "It's easy to observe that the problem is asking questions related to the topological ordering of the graph of rules.\n",
    "\n",
    "The second part of the problem is actually underspecified. The text of the problem seems to be assuming that there exists a unique topological order, but that is obviously not the case, for a trivial counterexample imagine an empty rule graph and a nonempty update array; any permutation of the array would be valid."
   ]
  },
  {
   "cell_type": "code",
   "metadata": {
    "ExecuteTime": {
     "end_time": "2024-12-22T00:05:12.545219Z",
     "start_time": "2024-12-22T00:05:12.535166Z"
    }
   },
   "source": [
    "rules, updates = aocin(5).split('\\n\\n')\n",
    "updates_lst = [[*map(int, r.split(','))] for r in updates.split('\\n')]\n",
    "\n",
    "def rules_graphs(rules):\n",
    "    direct, reverse = defaultdict(set), defaultdict(set)\n",
    "    for rule in rules.split('\\n'):\n",
    "        a, b = map(int, rule.split('|'))\n",
    "        direct[b].add(a), reverse[a].add(b)\n",
    "    return direct, reverse\n",
    "\n",
    "def is_inorder(rules_graph, update):\n",
    "    present, done = set(update), set()\n",
    "    for u in update:\n",
    "        if any(v in present and v not in done for v in rules_graph[u]): return False\n",
    "        done.add(u)\n",
    "    return True\n",
    "\n",
    "def topological_sort(direct, reverse, update):\n",
    "    present = set(update)\n",
    "    out_degree = {k: sum(u in present for u in direct[k]) for k in present}\n",
    "    active = set(k for k, v in out_degree.items() if v == 0) \n",
    "    while active:\n",
    "        yield (x := active.pop())\n",
    "        out_degree[x] = -1\n",
    "        for v in reverse[x]:\n",
    "            if v in out_degree: out_degree[v] -= 1\n",
    "            if out_degree.get(v, -1) == 0: active.add(v)\n",
    "\n",
    "\n",
    "direct, reverse = rules_graphs(rules)\n",
    "\n",
    "A = sum(is_inorder(direct, u) * u[len(u) // 2] for u in updates_lst)\n",
    "assert A == 4185\n",
    "\n",
    "A = sum(\n",
    "    next(islice(topological_sort(direct, reverse, u), len(u) // 2, len(u) // 2 + 1))\n",
    "    for u in updates_lst if not is_inorder(direct, u)\n",
    ")\n",
    "assert A == 4480"
   ],
   "outputs": [],
   "execution_count": 7
  },
  {
   "cell_type": "markdown",
   "metadata": {},
   "source": [
    "## [Day 6 - Guard Gallivant](https://adventofcode.com/2024/day/6)"
   ]
  },
  {
   "cell_type": "code",
   "metadata": {
    "ExecuteTime": {
     "end_time": "2024-12-22T00:05:12.707748Z",
     "start_time": "2024-12-22T00:05:12.549747Z"
    }
   },
   "source": [
    "class GuardGrid(Grid):\n",
    "    def __init__(self, raw):\n",
    "        super().__init__(raw)\n",
    "        for i in range(self.height):\n",
    "            for j in range(self.width):\n",
    "                if self[i, j] == '^':\n",
    "                    self.starting_point = (i, j)\n",
    "                    break\n",
    "\n",
    "\n",
    "def get_visited(grid):\n",
    "    i, j = grid.starting_point\n",
    "    di, dj = -1, 0\n",
    "    yield i, j\n",
    "    while True:\n",
    "        ni, nj = i + di, j + dj\n",
    "        try:\n",
    "            match grid[ni, nj]:\n",
    "                case '#': di, dj = dj, -di\n",
    "                case  _ : i, j = i+di, j+dj; yield i, j\n",
    "        except IndexError: \n",
    "            break\n",
    "\n",
    "@cache\n",
    "def compute_next(grid, i, j, di, dj):\n",
    "    pi, pj = i, j\n",
    "    try:\n",
    "        while grid[pi, pj] != '#':\n",
    "            pi, pj = pi+di, pj+dj\n",
    "        return pi-di, pj-dj\n",
    "    except IndexError:\n",
    "        return None, None\n",
    "\n",
    "def generate_loops(grid):\n",
    "    for h, k in set(get_visited(grid)):\n",
    "        seen = set()\n",
    "        i, j = grid.starting_point\n",
    "        di, dj = -1, 0\n",
    "        while True:\n",
    "            if (i, j) == (None, None): break\n",
    "            if (i, j, di, dj) in seen: yield h, k; break\n",
    "            else: seen.add((i, j, di, dj))\n",
    "            ni, nj = compute_next(grid, i, j, di, dj)\n",
    "            if   (di, dj) == (0, 1)  and i == h and j <= k <= (nj or inf) : i, j = i, k-1\n",
    "            elif (di, dj) == (0, -1) and i == h and (nj or -inf) <= k <= j: i, j = i, k+1\n",
    "            elif (di, dj) == (1, 0)  and j == k and i <= h <= (ni or inf) : i, j = h-1, j\n",
    "            elif (di, dj) == (-1, 0) and j == k and (ni or -inf) <= h < i : i, j = h+1, j\n",
    "            else: i, j = ni, nj\n",
    "            di, dj = dj, -di\n",
    "\n",
    "\n",
    "A = len(set(get_visited(GuardGrid(aocin(6)))))\n",
    "assert A == 4939\n",
    "\n",
    "A = sum(1 for _ in generate_loops(GuardGrid(aocin(6))))\n",
    "assert A == 1434"
   ],
   "outputs": [],
   "execution_count": 8
  },
  {
   "cell_type": "markdown",
   "metadata": {},
   "source": [
    "## [Day 7: Bridge Repair](https://adventofcode.com/2024/day/7)\n",
    "\n",
    "The interesting idea is that doing operations in reverse massively cuts down the state space.\n",
    "\n",
    "Let $f(n, L)$ be a binary function that is true if the list $L$ can possibly reach the target $n$. Because the operations are always performed left to right, the choice of operations doesn't change the order, and we may look at the last element of the list:\n",
    "\n",
    "- If $L$ has only one element, then $f(n, L)$ is true if and only if that element is $n$.\n",
    "- Otherwise, let $k$ be the last element of $L$. Then, $f(n, L' \\circ k) = f(n-k, L') \\vee f(n/k, L')$.\n",
    "\n",
    "Because no $n$ is reachable if $n$ is not a nonnegative integer, a lot of recursive calls may be immediately discarded, unlike in the more naive algorithm.\n",
    "Introducing the catenation operation is not problematic, operations are still done left to right and the same logic applies with minor variations.\n"
   ]
  },
  {
   "cell_type": "code",
   "metadata": {
    "ExecuteTime": {
     "end_time": "2024-12-22T00:05:12.728820Z",
     "start_time": "2024-12-22T00:05:12.713961Z"
    }
   },
   "source": [
    "def gen_lines(raw):\n",
    "    lines = []\n",
    "    for line in raw.split('\\n'):\n",
    "        target, ls = line.split(':')\n",
    "        lines.append((int(target), [*map(int, ls.split())]))\n",
    "    return lines\n",
    "\n",
    "\n",
    "def can_result_in(target, elem, with_concat=False):\n",
    "    *l, last = elem\n",
    "    if not l: return last == target\n",
    "    return (\n",
    "        (\n",
    "            target >= last\n",
    "            and can_result_in(target - last, l, with_concat)\n",
    "        ) or (\n",
    "            (target % last == 0)\n",
    "            and can_result_in(target // last, l, with_concat)\n",
    "        ) or (\n",
    "            with_concat \n",
    "            and (str(target).endswith(str(last)))\n",
    "            and can_result_in(int(str(target)[:-len(str(last))] or '0'), l, with_concat)\n",
    "        )\n",
    "    )\n",
    "\n",
    "   \n",
    "A = sum(k for k, v in gen_lines(aocin(7)) if can_result_in(k, v))\n",
    "assert A == 5030892084481\n",
    "\n",
    "A = sum(k for k, v in gen_lines(aocin(7)) if can_result_in(k, v, True))\n",
    "assert A == 91377448644679"
   ],
   "outputs": [],
   "execution_count": 9
  },
  {
   "cell_type": "markdown",
   "metadata": {},
   "source": [
    "## [Day 8: Resonant Collinearity](https://adventofcode.com/2024/day/8)"
   ]
  },
  {
   "cell_type": "code",
   "metadata": {
    "ExecuteTime": {
     "end_time": "2024-12-22T00:05:12.739051Z",
     "start_time": "2024-12-22T00:05:12.733982Z"
    }
   },
   "source": [
    "class AntennaGrid(Grid):\n",
    "    def __init__(self, raw):\n",
    "        super().__init__(raw)\n",
    "        self.antennas = defaultdict(list)\n",
    "        for h in range(self.height):\n",
    "            for k in range(self.width):\n",
    "                if (u := self[h, k]) != '.':\n",
    "                    self.antennas[u].append((h, k))\n",
    "\n",
    "\n",
    "def get_antinodes(grid, min_drift=1, max_drift=1):\n",
    "    for l in grid.antennas.values():\n",
    "        for u, v in product(l, l):\n",
    "            if u == v: continue\n",
    "            dx, dy = v[0] - u[0], v[1] - u[1]\n",
    "            for k in takewhile(lambda x: x <= max_drift, count(min_drift)):\n",
    "                if (t := (u[0] - dx*k, u[1] - dy*k)) in grid: yield t\n",
    "                else: break\n",
    "\n",
    "\n",
    "A = len(set(get_antinodes(AntennaGrid(aocin(8)))))\n",
    "assert A == 327\n",
    "\n",
    "A = len(set(get_antinodes(AntennaGrid(aocin(8)), 0, inf)))\n",
    "assert A == 1233"
   ],
   "outputs": [],
   "execution_count": 10
  },
  {
   "cell_type": "markdown",
   "metadata": {},
   "source": [
    "## [Day 9: Disk Fragmenter](https://adventofcode.com/2024/day/9)"
   ]
  },
  {
   "cell_type": "code",
   "metadata": {
    "ExecuteTime": {
     "end_time": "2024-12-22T00:05:15.258299Z",
     "start_time": "2024-12-22T00:05:12.743819Z"
    }
   },
   "source": [
    "def get_reordered(disk_map):\n",
    "    blocks, free = [], []\n",
    "    for n, t in enumerate(batched(disk_map, 2)):\n",
    "        blocks.append((n, t[0]))\n",
    "        free.append(t[1] if len(t) > 1 else 0)\n",
    "\n",
    "    forward = chain(*(repeat(*l) for l in blocks))\n",
    "    back = chain(*(repeat(*l) for l in reversed(blocks)))\n",
    "\n",
    "    left = sum(x for _, x in blocks)\n",
    "    for (_, n), m in zip(blocks, free):\n",
    "        for _ in range(n):\n",
    "            yield next(forward)\n",
    "            if not (left := left - 1): return\n",
    "        for _ in range(m):\n",
    "            yield next(back)\n",
    "            if not (left := left - 1): return\n",
    "\n",
    "def get_reordered_contiguous(disk_map):\n",
    "    blocks = []\n",
    "    for n, t in enumerate(batched(disk_map, 2)):\n",
    "        blocks.append((n, t[0]))\n",
    "        blocks.append((None, t[1] if len(t) > 1 else 0))\n",
    "\n",
    "    for e, n in reversed(list((a, b) for a, b in blocks if a is not None)):\n",
    "        for i in range(len(blocks)):\n",
    "            ee, nn = blocks[i]\n",
    "            if ee == e: break\n",
    "            elif ee is not None: continue\n",
    "            elif nn >= n:\n",
    "                ii = blocks.index((e, n))\n",
    "                blocks[ii] = None, blocks[ii][1]\n",
    "                blocks[i] = (ee, nn-n)\n",
    "                if blocks[i][1] == 0: blocks.pop(i)\n",
    "                blocks.insert(i, (e, n))\n",
    "                break\n",
    "\n",
    "    yield from chain(*(repeat(e or 0, n) for e, n in blocks))\n",
    "\n",
    "disk_map = [*map(int, aocin(9))]\n",
    "A = sum(n * e for n, e in enumerate(list(get_reordered(disk_map))))\n",
    "assert A == 6310675819476\n",
    "\n",
    "A = sum(n * e for n, e in enumerate(list(get_reordered_contiguous(disk_map))))\n",
    "assert A == 6335972980679"
   ],
   "outputs": [],
   "execution_count": 11
  },
  {
   "cell_type": "markdown",
   "metadata": {},
   "source": [
    "## [Day 10: Hoof It](https://adventofcode.com/2024/day/10)"
   ]
  },
  {
   "cell_type": "code",
   "metadata": {
    "ExecuteTime": {
     "end_time": "2024-12-22T00:05:15.290905Z",
     "start_time": "2024-12-22T00:05:15.263681Z"
    }
   },
   "source": [
    "class TopoGrid(Grid):\n",
    "    def __init__(self, raw):\n",
    "        super().__init__(raw)\n",
    "        self.rows = list(map(lambda u: list(map(int, u)), self.rows))\n",
    "        self.starting_points = {\n",
    "            (i, j) for i, j in product(range(self.height), range(self.width))\n",
    "            if self[i, j] == 9\n",
    "        }\n",
    "\n",
    "def get_trailheads(grid):\n",
    "    trailheads = defaultdict(Counter)\n",
    "    state = defaultdict(Counter, {k: Counter({k}) for k in grid.starting_points})\n",
    "    while state:\n",
    "        (i, j), starting = state.popitem()\n",
    "        for tt in {(i+1, j), (i-1, j), (i, j+1), (i, j-1)}:\n",
    "            try:\n",
    "                if grid[*tt] == grid[i, j] - 1:\n",
    "                    if grid[*tt] == 0: trailheads[tt] += starting\n",
    "                    else: state[tt] |= starting\n",
    "            except IndexError: continue\n",
    "    return trailheads\n",
    "\n",
    "\n",
    "A = sum(map(len, get_trailheads(TopoGrid(aocin(10))).values()))\n",
    "assert A == 531\n",
    "\n",
    "A = sum(map(lambda u: sum(u.values()), get_trailheads(TopoGrid(aocin(10))).values()))\n",
    "assert A == 1210"
   ],
   "outputs": [],
   "execution_count": 12
  },
  {
   "cell_type": "markdown",
   "metadata": {},
   "source": [
    "## [Day 11: Plutonian Pebbles](https://adventofcode.com/2024/day/11)"
   ]
  },
  {
   "cell_type": "code",
   "metadata": {
    "ExecuteTime": {
     "end_time": "2024-12-22T00:05:15.368522Z",
     "start_time": "2024-12-22T00:05:15.297871Z"
    }
   },
   "source": [
    "@cache\n",
    "def generated_stones(n, steps):\n",
    "    if steps == 0: return 1\n",
    "    if n == 0: return generated_stones(1, steps-1)\n",
    "    if (u := len(str(n))) % 2 == 0:\n",
    "        return (\n",
    "              generated_stones(int(str(n)[:u//2]), steps-1)\n",
    "            + generated_stones(int(str(n)[u//2:]), steps-1)\n",
    "        )\n",
    "    else: return generated_stones(2024*n, steps-1)\n",
    "\n",
    "\n",
    "stones = list(map(int, aocin(11).split()))\n",
    "A = sum(generated_stones(x, 25) for x in stones)\n",
    "assert A == 218956\n",
    "\n",
    "A = sum(generated_stones(x, 75) for x in stones)\n",
    "assert A == 259593838049805"
   ],
   "outputs": [],
   "execution_count": 13
  },
  {
   "cell_type": "markdown",
   "metadata": {},
   "source": [
    "## [Day 12: Garden Groups](https://adventofcode.com/2024/day/12)"
   ]
  },
  {
   "cell_type": "code",
   "metadata": {
    "ExecuteTime": {
     "end_time": "2024-12-22T00:05:15.487475Z",
     "start_time": "2024-12-22T00:05:15.374916Z"
    }
   },
   "source": [
    "def get_garden_areas(grid):\n",
    "    unseen = set(product(range(grid.height), range(grid.width)))\n",
    "    while unseen:\n",
    "        i, j = unseen.pop()\n",
    "        area, perimeter, value, S = 1, set(), grid[i, j], [(i, j)]\n",
    "        while S:\n",
    "            x, y = S.pop()\n",
    "            for xx, yy in {(x+1, y), (x-1, y), (x, y+1), (x, y-1)}:\n",
    "                if (xx, yy) not in grid or grid[xx, yy] != value:\n",
    "                    perimeter.add((xx, yy, xx-x, yy-y))\n",
    "                elif grid[xx, yy] == value and (xx, yy) in unseen:\n",
    "                    unseen.discard((xx, yy))\n",
    "                    S.append((xx, yy))\n",
    "                    area += 1\n",
    "        sides, P = 0, set(perimeter)\n",
    "        while P:\n",
    "            S = [P.pop()]\n",
    "            sides += 1\n",
    "            while S:\n",
    "                x, y, dx, dy = S.pop()\n",
    "                for xx, yy, in {(x+1, y), (x-1, y), (x, y+1), (x, y-1)}:\n",
    "                    if (t := (xx, yy, dx, dy)) in P:\n",
    "                        P.discard(t)\n",
    "                        S.append(t)\n",
    "        yield area, len(perimeter), sides\n",
    "\n",
    "\n",
    "A = sum(a * p for a, p, _ in get_garden_areas(Grid(aocin(12))))\n",
    "assert A == 1471452\n",
    "\n",
    "A = sum(a * s for a, _, s in get_garden_areas(Grid(aocin(12))))\n",
    "assert A == 863366"
   ],
   "outputs": [],
   "execution_count": 14
  },
  {
   "cell_type": "markdown",
   "metadata": {},
   "source": [
    "## [Day 13: Claw Contraption](https://adventofcode.com/2024/day/13)\n",
    "\n",
    "The problem is encoding a linear system in two variables. Namely, if Button A is $X+a_x$, $Y+a_y$, Button B is $X+b_x$, $Y+b_y$ and the prizes are $X=x$ and $Y=y$, then\n",
    "pressing $u$ times button A and $v$ times button B is a solution if and only if:\n",
    "\n",
    "$$\n",
    "M\n",
    "\\left [\n",
    "    \\begin{matrix}\n",
    "        u \\\\ \n",
    "        v\n",
    "    \\end{matrix}\n",
    "\\right ]\n",
    "=\n",
    "\\left [\n",
    "    \\begin{matrix}\n",
    "        x \\\\ \n",
    "        y\n",
    "    \\end{matrix}\n",
    "\\right ]\n",
    "$$\n",
    "\n",
    "where\n",
    "\n",
    "$$\n",
    "M = \\left [\n",
    "    \\begin{matrix}\n",
    "        a_x & b_x \\\\\n",
    "        a_y & b_y\n",
    "    \\end{matrix}\n",
    "\\right ]\n",
    "$$.\n",
    "\n",
    "If $M$ is invertible, then there is a unique solution $M^{-1} \\left[ \\begin{matrix} x & y \\end{matrix} \\right]^T$.\n",
    "\n",
    "If $M$ is not invertible and the rank of the nullspace is 1, then there are either no solutions or infinitely many solutions. The problem reduces itself to solving an integer linear programming problem: we have to minimize $3u+v$ subject to $au+bv=c$ with $u \\geq 0$ and $v \\geq 0$. Because the latter is a standard diophantine equation in two variables, it's easy to enumerate its solutions.\n",
    "\n",
    "If $M$ is not invertible and the rank of the nullspace is 2 then $M = \\mathbf{0}$ and the solution is trivial.\n",
    "\n",
    "As is frequent for Advent of Code, the input is _less general than it could have been just by reading the problem description_. In fact, all matrices are invertible, making an implementation trivial."
   ]
  },
  {
   "cell_type": "code",
   "metadata": {
    "ExecuteTime": {
     "end_time": "2024-12-22T00:05:15.498108Z",
     "start_time": "2024-12-22T00:05:15.493640Z"
    }
   },
   "source": [
    "def get_machines(raw):\n",
    "    values = re.finditer(r'''Button A: X\\+(\\d+), Y\\+(\\d+)\n",
    "Button B: X\\+(\\d+), Y\\+(\\d+)\n",
    "Prize: X=(\\d+), Y=(\\d+)''', raw)\n",
    "    for ax, ay, bx, by, x, y in map(lambda u: map(int, u.groups()), values):\n",
    "        yield [[ax, bx], [ay, by]], [x, y]\n",
    "       \n",
    "class NoSolution(Exception): pass\n",
    "\n",
    "def solve_linear_2x2(A, x):\n",
    "    [[a, b], [c, d]] = A\n",
    "    [u, v] = x\n",
    "    det = a * d - b * c\n",
    "    if all(x % det == 0 for x in {d*u - b*v, a*v - c*u}):\n",
    "        return (\n",
    "            (+d*u - b*v) // det,\n",
    "            (-c*u + a*v) // det\n",
    "        )\n",
    "    else: raise NoSolution()\n",
    "\n",
    "def tokens_for_machine(A, x, offset=0):\n",
    "    try:\n",
    "        u, v = solve_linear_2x2(A, [x[0] + offset, x[1] + offset])\n",
    "        return 3 * u + v\n",
    "    except NoSolution: return 0\n",
    "\n",
    "\n",
    "A = sum(tokens_for_machine(A, x) for A, x in get_machines(aocin(13)))\n",
    "assert A == 37686\n",
    "\n",
    "A = sum(tokens_for_machine(A, x, offset=10**13) for A, x in get_machines(aocin(13)))\n",
    "assert A == 77204516023437"
   ],
   "outputs": [],
   "execution_count": 15
  },
  {
   "cell_type": "markdown",
   "metadata": {},
   "source": [
    "## [Day 14: Restroom Redoubt](https://adventofcode.com/2024/day/14)\n",
    "\n",
    "We assume that a Christmas Tree is \"highly symmetric along the $y$ axis\"."
   ]
  },
  {
   "cell_type": "code",
   "metadata": {
    "ExecuteTime": {
     "end_time": "2024-12-22T00:05:17.514126Z",
     "start_time": "2024-12-22T00:05:15.503506Z"
    }
   },
   "source": [
    "def get_robots(raw):\n",
    "    for m in re.finditer(r'p=(-?\\d+),(-?\\d+) v=(-?\\d+),(-?\\d+)', raw):\n",
    "        yield tuple(map(int, m.groups()))\n",
    "\n",
    "def find_factor(robots, t, bounds):\n",
    "    quadrant = Counter()\n",
    "    bx, by = bounds\n",
    "    for px, py, vx, vy in robots:\n",
    "        fx = (px + vx * t) % bx\n",
    "        fy = (py + vy * t) % by\n",
    "        if fx > bx // 2 and fy > by // 2: quadrant.update('1')\n",
    "        if fx > bx // 2 and fy < by // 2: quadrant.update('2')\n",
    "        if fx < bx // 2 and fy > by // 2: quadrant.update('3')\n",
    "        if fx < bx // 2 and fy < by // 2: quadrant.update('4')\n",
    "    return prod(quadrant.values())\n",
    "\n",
    "class RobotGrid:\n",
    "    def __init__(self, robots, bounds):\n",
    "        self.bx, self.by = bounds\n",
    "        self.robots = dict(enumerate(robots))\n",
    "        self.pos = {k: (v[0], v[1]) for k, v in self.robots.items()}\n",
    "\n",
    "    def step(self):\n",
    "        for n, (_, _, vx, vy) in self.robots.items():\n",
    "            x, y = self.pos[n]\n",
    "            self.pos[n] = (x + vx) % self.bx, (y + vy) % self.by\n",
    "\n",
    "    def symmetry_score(self):\n",
    "        S = set(self.pos.values())\n",
    "        T = {(self.bx - x - 1, y) for x, y in S}\n",
    "        return len(S.symmetric_difference(T))\n",
    "\n",
    "    def print_grid(self):\n",
    "        return '\\n'.join(\n",
    "            ''.join(\n",
    "                'X' if (j, i) in self.pos.values() else '.'\n",
    "                for j in range(self.bx)\n",
    "            )\n",
    "            for i in range(self.by)\n",
    "        )\n",
    "\n",
    "def find_christmas_tree(robots, bounds, max_steps=10_000):\n",
    "    min_so_far, min_iter, min_grid = inf, None, None\n",
    "    grid = RobotGrid(robots, bounds)\n",
    "    for i in range(1, max_steps):\n",
    "        grid.step()\n",
    "        if (z := grid.symmetry_score()) < min_so_far:\n",
    "            min_so_far, min_iter, min_grid = z, i, grid.print_grid()\n",
    "    return min_so_far, min_iter, min_grid\n",
    "\n",
    "\n",
    "A = find_factor(get_robots(aocin(14)), 100, (101, 103))\n",
    "assert A == 229632480\n",
    "\n",
    "\n",
    "_, A, min_grid = find_christmas_tree(get_robots(aocin(14)), (101, 103))\n",
    "assert A == 7051"
   ],
   "outputs": [],
   "execution_count": 16
  },
  {
   "cell_type": "markdown",
   "metadata": {},
   "source": [
    "This is the resulting picture:"
   ]
  },
  {
   "cell_type": "code",
   "metadata": {
    "ExecuteTime": {
     "end_time": "2024-12-22T00:05:17.521328Z",
     "start_time": "2024-12-22T00:05:17.519704Z"
    }
   },
   "source": [
    "print('\\n'.join(\n",
    "    s[35:-35]\n",
    "    for s in min_grid.split('\\n')[30:63]\n",
    "))"
   ],
   "outputs": [
    {
     "name": "stdout",
     "output_type": "stream",
     "text": [
      "XXXXXXXXXXXXXXXXXXXXXXXXXXXXXXX\n",
      "X.............................X\n",
      "X.............................X\n",
      "X.............................X\n",
      "X.............................X\n",
      "X..............X..............X\n",
      "X.............XXX.............X\n",
      "X............XXXXX............X\n",
      "X...........XXXXXXX...........X\n",
      "X..........XXXXXXXXX..........X\n",
      "X............XXXXX............X\n",
      "X...........XXXXXXX...........X\n",
      "X..........XXXXXXXXX..........X\n",
      "X.........XXXXXXXXXXX.........X\n",
      "X........XXXXXXXXXXXXX........X\n",
      "X..........XXXXXXXXX..........X\n",
      "X.........XXXXXXXXXXX.........X\n",
      "X........XXXXXXXXXXXXX........X\n",
      "X.......XXXXXXXXXXXXXXX.......X\n",
      "X......XXXXXXXXXXXXXXXXX......X\n",
      "X........XXXXXXXXXXXXX........X\n",
      "X.......XXXXXXXXXXXXXXX.......X\n",
      "X......XXXXXXXXXXXXXXXXX......X\n",
      "X.....XXXXXXXXXXXXXXXXXXX.....X\n",
      "X....XXXXXXXXXXXXXXXXXXXXX....X\n",
      "X.............XXX.............X\n",
      "X.............XXX.............X\n",
      "X.............XXX.............X\n",
      "X.............................X\n",
      "X.............................X\n",
      "X.............................X\n",
      "X.............................X\n",
      "XXXXXXXXXXXXXXXXXXXXXXXXXXXXXXX\n"
     ]
    }
   ],
   "execution_count": 17
  },
  {
   "cell_type": "markdown",
   "metadata": {},
   "source": [
    "## [Day 15: Warehouse Woes](https://adventofcode.com/2024/day/15)\n",
    "\n",
    "What a pointless exercise."
   ]
  },
  {
   "cell_type": "code",
   "metadata": {
    "ExecuteTime": {
     "end_time": "2024-12-22T00:05:17.587235Z",
     "start_time": "2024-12-22T00:05:17.530948Z"
    }
   },
   "source": [
    "class WarehouseGrid(Grid):\n",
    "    def __init__(self, raw, expand=False):\n",
    "        if expand:\n",
    "            raw = ''.join(\n",
    "                 '..' if c == '.'\n",
    "            else '@.' if c == '@'\n",
    "            else '##' if c == '#'\n",
    "            else '[]' if c == 'O'\n",
    "            else c\n",
    "            for c in raw\n",
    "        )\n",
    "        super().__init__(raw)\n",
    "        for i, j in product(range(self.height), range(self.width)):\n",
    "            if self[i, j] == '@': \n",
    "                self.position = i, j\n",
    "                self[i, j] = '.'\n",
    "                break\n",
    "        self.box = '[' if expand else 'O'\n",
    "\n",
    "    def make_move(self, direction):\n",
    "        match direction:\n",
    "            case '^': dx, dy = -1,  0\n",
    "            case 'v': dx, dy =  1,  0\n",
    "            case '<': dx, dy =  0, -1\n",
    "            case '>': dx, dy =  0,  1\n",
    "        px, py = self.position\n",
    "        if self.can_move(px, py, dx, dy):\n",
    "            self.move(px, py, dx, dy)\n",
    "            self.position = px+dx, py+dy\n",
    "\n",
    "    def can_move(self, px, py, dx, dy):\n",
    "        match self[px+dx, py+dy], dx:\n",
    "            case '.', _: return True\n",
    "            case '#', _: return False\n",
    "            case ('[' | ']', 0) | ('O', _): return self.can_move(px+dx, py+dy, dx, dy)\n",
    "            case '[', _: \n",
    "                return self.can_move(px+dx, py+dy, dx, dy) and self.can_move(px+dx, py+dy+1, dx, dy)\n",
    "            case ']', _:\n",
    "                return self.can_move(px+dx, py+dy, dx, dy) and self.can_move(px+dx, py+dy-1, dx, dy)\n",
    "\n",
    "    def move(self, px, py, dx, dy):\n",
    "        match self[px+dx, py+dy], dx:\n",
    "            case ('[' | ']', 0) | ('O', _):\n",
    "                self.move(px+dx, py+dy, dx, dy)\n",
    "            case '[', _:\n",
    "                self.move(px+dx, py+dy, dx, dy)\n",
    "                self.move(px+dx, py+dy+1, dx, dy)\n",
    "            case ']', _:\n",
    "                self.move(px+dx, py+dy, dx, dy)\n",
    "                self.move(px+dx, py+dy-1, dx, dy)\n",
    "        self[px, py], self[px+dx, py+dy] = '.', self[px, py]\n",
    "        \n",
    "    def sum_coord(self):\n",
    "        return sum(\n",
    "            100*i + j \n",
    "            for i, j in product(range(self.height), range(self.width))\n",
    "            if self[i, j] == self.box\n",
    "        )\n",
    "\n",
    "def get_sum_coord(raw_grid, moves, expand=False):\n",
    "    grid = WarehouseGrid(raw_grid, expand=expand)\n",
    "    for move in moves:\n",
    "        grid.make_move(move)\n",
    "    return grid.sum_coord()\n",
    "\n",
    "\n",
    "raw_grid, raw_moves = aocin(15).split('\\n\\n')\n",
    "A = get_sum_coord(raw_grid, raw_moves.replace('\\n', ''))\n",
    "assert A == 1349898\n",
    "\n",
    "A = get_sum_coord(raw_grid, raw_moves.replace('\\n', ''), expand=True)\n",
    "assert A == 1376686"
   ],
   "outputs": [],
   "execution_count": 18
  },
  {
   "cell_type": "markdown",
   "metadata": {},
   "source": [
    "## [Day 16: Reindeer Maze](https://adventofcode.com/2024/day/16)"
   ]
  },
  {
   "cell_type": "code",
   "metadata": {
    "ExecuteTime": {
     "end_time": "2024-12-22T00:05:17.722263Z",
     "start_time": "2024-12-22T00:05:17.592671Z"
    }
   },
   "source": [
    "class MazeGrid(Grid):\n",
    "    def __init__(self, raw):\n",
    "        super().__init__(raw)\n",
    "        for i, j in product(range(self.height), range(self.width)):\n",
    "            if self[i, j] == 'S': self.start = i, j\n",
    "            if self[i, j] == 'E': self.end = i, j\n",
    "\n",
    "\n",
    "def get_min_path(grid: MazeGrid):\n",
    "    H = [(0, (*grid.start, 0, 1), None)]\n",
    "    D = {}\n",
    "    while H:\n",
    "        dist, (i, j, hi, hj), prev = heappop(H)\n",
    "        if grid[i, j] == '#': continue\n",
    "        try:\n",
    "            opt_dist, opt_prev = D[i, j, hi, hj]\n",
    "            if opt_dist == dist: opt_prev.append(prev)\n",
    "            continue\n",
    "        except KeyError: pass\n",
    "        D[i, j, hi, hj] = dist, [prev]\n",
    "        heappush(H, (dist + 1, (i+hi, j+hj, hi, hj), (i, j, hi, hj)))\n",
    "        heappush(H, (dist + 1000, (i, j, hj, hi), (i, j, hi, hj)))\n",
    "        heappush(H, (dist + 1000, (i, j, -hj, -hi), (i, j, hi, hj)))\n",
    "\n",
    "    directions = ((0, 1), (0, -1), (1, 0), (-1, 0))\n",
    "    min_dist = min(D[*grid.end, *h][0] for h in directions)\n",
    "\n",
    "    visited = set()\n",
    "    for h in directions:\n",
    "        if D[*grid.end, *h][0] != min_dist: continue\n",
    "        S = [(*grid.end, *h)]\n",
    "        while S:\n",
    "            if (u := S.pop()):\n",
    "                i, j, di, dj = u\n",
    "                visited.add((i, j))\n",
    "                S.extend(D[i, j, di, dj][1])\n",
    "\n",
    "    return min_dist, visited\n",
    "\n",
    "grid = MazeGrid(aocin(16))\n",
    "A, S = get_min_path(grid)\n",
    "assert A == 93436\n",
    "\n",
    "A = len(S)\n",
    "assert A == 486"
   ],
   "outputs": [],
   "execution_count": 19
  },
  {
   "cell_type": "markdown",
   "metadata": {},
   "source": [
    "## [Day 17: Chronospatial Computer](https://adventofcode.com/2024/day/17)"
   ]
  },
  {
   "cell_type": "markdown",
   "metadata": {},
   "source": [
    "Let's manually analyze the code.\n",
    "\n",
    "    Intcode     Mnemonic\n",
    "    2, 4        b = a % 8\n",
    "    1, 1        b = b ^ 1\n",
    "    7, 5        c = a >> b\n",
    "    4, 7        b = b ^ c\n",
    "    1, 4        b = b ^ 4\n",
    "    0, 3        a = a // 8\n",
    "    5, 5        print (b % 8)\n",
    "    3, 0        jump to the first instruction if a != 0\n",
    "\n",
    "We can simply translate this directly to Python code as a While loop.\n",
    "\n"
   ]
  },
  {
   "cell_type": "code",
   "metadata": {
    "ExecuteTime": {
     "end_time": "2024-12-22T00:05:17.730291Z",
     "start_time": "2024-12-22T00:05:17.728036Z"
    }
   },
   "source": [
    "def exec(n):\n",
    "    while True:\n",
    "        b = (n % 8) ^ 1\n",
    "        c = n >> b\n",
    "        yield (b ^ c ^ 4) % 8\n",
    "        n = n // 8\n",
    "        if n == 0: break\n",
    "\n",
    "\n",
    "register = int(re.search(r'Register A: (\\d+)', aocin(17)).group(1))\n",
    "A = ','.join(map(str, exec(register)))\n",
    "assert A == '1,3,7,4,6,4,2,3,5'"
   ],
   "outputs": [],
   "execution_count": 20
  },
  {
   "cell_type": "markdown",
   "metadata": {},
   "source": [
    "For part 2, we may observe that the program is effectively scanning the digits of the input in base 8, right to left:\n",
    "\n",
    "    2, 4        b = a % 8\n",
    "    ...\n",
    "    0, 3        a = a // 8\n",
    "    ...\n",
    "\n",
    "...and the output only depends on the current digit and digits positioned to its left:\n",
    "\n",
    "    7, 5        c = a >> b\n",
    "\n",
    "This means that the final digit of the output depends only on the leftmost base 8 digit of the input!\n",
    "A simple recursive algorithm can therefore find all inputs that produce the desired output."
   ]
  },
  {
   "cell_type": "code",
   "metadata": {
    "ExecuteTime": {
     "end_time": "2024-12-22T00:05:17.737904Z",
     "start_time": "2024-12-22T00:05:17.735427Z"
    }
   },
   "source": [
    "def discover_input(program, prev=0):\n",
    "    if not program: yield prev; return\n",
    "    for i in range(8):\n",
    "        if next(exec(8*prev+i)) == program[-1]:\n",
    "            yield from discover_input(program[:-1], 8*prev+i)\n",
    "\n",
    "\n",
    "program = [*map(int, re.search(r'Program: ((?:\\d,)+\\d)', aocin(17)).group(1).split(','))]\n",
    "A = min(discover_input(program))\n",
    "assert A == 202367025818154"
   ],
   "outputs": [],
   "execution_count": 21
  },
  {
   "cell_type": "markdown",
   "metadata": {},
   "source": [
    "Interestingly, the computational model described by the problem is _not_ Turing-complete. The only arithmetic operations performed are Euclidean division,\n",
    "modulo and exclusive OR, all of which have a result that cannot be greater than their arguments. The number of states is therefore bounded by $N^3 \\times L$, where $N$ is the greatest inital register value, and $L$ is the length of the program."
   ]
  },
  {
   "cell_type": "markdown",
   "metadata": {},
   "source": [
    "## [Day 18: RAM Run](https://adventofcode.com/2024/day/18)"
   ]
  },
  {
   "cell_type": "code",
   "metadata": {
    "ExecuteTime": {
     "end_time": "2024-12-22T00:05:18.544192Z",
     "start_time": "2024-12-22T00:05:17.743759Z"
    }
   },
   "source": [
    "def min_path(fallen, start=(0, 0), end=(70, 70), height=71, width=71):\n",
    "    can_walk = lambda i, j: (\n",
    "            0 <= i < height\n",
    "        and 0 <= j < width\n",
    "        and (i, j) not in fallen\n",
    "    )\n",
    "    H, D = [(0, start, None)], {}\n",
    "    while H:\n",
    "        dist, (i, j), prev = heappop(H)\n",
    "        if not can_walk(i, j): continue\n",
    "        if (i, j) in D: continue\n",
    "        D[i, j] = prev\n",
    "        if (i, j) == end: break\n",
    "        for ii, jj in ((i+1, j), (i-1, j), (i, j-1), (i, j+1)):\n",
    "            heappush(H, (1+dist, (ii, jj), (i, j)))\n",
    "    else: return None\n",
    "\n",
    "    path = set()\n",
    "    i, j = end\n",
    "    while (u := D[i, j]):\n",
    "        path.add((i, j))\n",
    "        i, j = u\n",
    "    return path\n",
    "\n",
    "\n",
    "def first_cut(fallen, start=(0, 0), end=(70, 70), height=71, width=71):\n",
    "    out = set()\n",
    "    f = lambda: min_path(out, start, end, height, width)\n",
    "    current_path = f()\n",
    "    for i, j in fallen:\n",
    "        out.add((i, j))\n",
    "        if (i, j) in current_path and not (current_path := f()):\n",
    "            return i, j\n",
    "\n",
    "\n",
    "fallen = list(map(lambda u: tuple(map(int, u.split(','))), aocin(18).split('\\n')))\n",
    "A = len(min_path(set(fallen[:1024])))\n",
    "assert A == 316\n",
    "\n",
    "A = first_cut(fallen)\n",
    "assert A == (45, 18)"
   ],
   "outputs": [],
   "execution_count": 22
  },
  {
   "cell_type": "markdown",
   "metadata": {},
   "source": [
    "## [Day 19: Linen Layout](https://adventofcode.com/2024/day/19)\n",
    "\n",
    "A possible optimization is to construct a trie from the input, but it wasn't necessary."
   ]
  },
  {
   "cell_type": "code",
   "metadata": {
    "ExecuteTime": {
     "end_time": "2024-12-22T00:05:18.714992Z",
     "start_time": "2024-12-22T00:05:18.550214Z"
    }
   },
   "source": [
    "@cache\n",
    "def n_compositions(word, pcs):\n",
    "    return 1 if not word else sum(\n",
    "        n_compositions(word[len(p):], pcs) for p in pcs\n",
    "        if word.startswith(p)\n",
    "    )\n",
    "\n",
    "\n",
    "raw_pcs, raw_words = aocin(19).split('\\n\\n')\n",
    "words = raw_words.split('\\n')\n",
    "pcs = frozenset(u.strip() for u in raw_pcs.split(','))\n",
    "\n",
    "A = sum(bool(n_compositions(w, pcs)) for w in words)\n",
    "assert A == 258\n",
    "\n",
    "A = sum(n_compositions(w, pcs) for w in words)\n",
    "assert A == 632423618484345"
   ],
   "outputs": [],
   "execution_count": 23
  },
  {
   "cell_type": "markdown",
   "metadata": {},
   "source": [
    "## [Day 20: Race Condition](https://adventofcode.com/2024/day/20)"
   ]
  },
  {
   "cell_type": "code",
   "metadata": {
    "ExecuteTime": {
     "end_time": "2024-12-22T00:05:20.945004Z",
     "start_time": "2024-12-22T00:05:18.723943Z"
    }
   },
   "source": [
    "class RaceConditionGrid(Grid):\n",
    "    def __init__(self, raw):\n",
    "        super().__init__(raw)\n",
    "        for i, j in product(range(self.height), range(self.width)):\n",
    "            if self[i, j] == 'S': self.start = i, j\n",
    "            if self[i, j] == 'E': self.end = i, j\n",
    "\n",
    "def single_source_shortest_paths(grid):\n",
    "    Q, D = [(0, *grid.end)], {}\n",
    "    while Q:\n",
    "        dist, i, j = Q.pop()\n",
    "        if (i, j) in D: continue\n",
    "        if grid[i, j] == '#': continue\n",
    "        D[i, j] = dist\n",
    "        for ii, jj in ((i+1, j), (i-1, j), (i, j+1), (i, j-1)):\n",
    "            Q.append((dist+1, ii, jj))\n",
    "    return D\n",
    "\n",
    "def possible_cheats(D, cheat_len=2, saving=100):\n",
    "    def landing_pads(i, j):\n",
    "        for di in range(-cheat_len, cheat_len+1):\n",
    "            dr = cheat_len - abs(di)\n",
    "            for dj in range(-dr, dr+1):\n",
    "                yield i+di, j+dj\n",
    "    for i, j in D:\n",
    "        for ei, ej in landing_pads(i, j):\n",
    "            if (z := D[i, j] - (D.get((ei, ej), inf) + abs(i-ei) + abs(j-ej))) >= saving:\n",
    "                yield (i, j), (ei, ej), z\n",
    "\n",
    "\n",
    "grid = RaceConditionGrid(aocin(20))\n",
    "D = single_source_shortest_paths(grid)\n",
    "A = len(set(possible_cheats(D, cheat_len=2, saving=100)))\n",
    "assert A == 1399\n",
    "\n",
    "A = len(set(possible_cheats(D, cheat_len=20, saving=100)))\n",
    "assert A == 994807"
   ],
   "outputs": [],
   "execution_count": 24
  },
  {
   "metadata": {},
   "cell_type": "markdown",
   "source": "## [Day 21: Keypad Conundrum](https://adventofcode.com/2024/day/21)"
  },
  {
   "metadata": {
    "ExecuteTime": {
     "end_time": "2024-12-22T10:29:51.056027Z",
     "start_time": "2024-12-22T10:29:51.036727Z"
    }
   },
   "cell_type": "code",
   "source": [
    "from itertools import pairwise\n",
    "from dataclasses import dataclass\n",
    "\n",
    "numeric_geometry = ('789', '456', '123', ' 0A')\n",
    "directional_geometry = (' ^A', '<v>')\n",
    "\n",
    "@dataclass(frozen=True, slots=True)\n",
    "class Concat:\n",
    "    x: tuple\n",
    "\n",
    "@dataclass(frozen=True, slots=True)\n",
    "class Choice:\n",
    "    x: tuple\n",
    "\n",
    "@cache\n",
    "def press(geometry, o, d):\n",
    "    def locate(c):\n",
    "        for n, i in enumerate(geometry):\n",
    "            if (z := i.find(c)) != -1: return n, z\n",
    "    ox, oy = locate(o)\n",
    "    dx, dy = locate(d)\n",
    "    void = locate(' ')\n",
    "    P, M = [('', ox, oy)], set()\n",
    "    while P:\n",
    "        m, ox, oy = P.pop()\n",
    "        if (ox, oy) == (dx, dy): M.add(m); continue\n",
    "        if ox < dx and (ox+1, oy) != void: P.append((m+'v', ox+1, oy))\n",
    "        if ox > dx and (ox-1, oy) != void: P.append((m+'^', ox-1, oy))\n",
    "        if oy < dy and (ox, oy+1) != void: P.append((m+'>', ox, oy+1))\n",
    "        if oy > dy and (ox, oy-1) != void: P.append((m+'<', ox, oy-1))\n",
    "    return M\n",
    "\n",
    "@cache\n",
    "def manipulate(path, geometry):\n",
    "    return Concat(tuple(\n",
    "        Choice(tuple(h + 'A' for h in press(geometry, p, c)))\n",
    "        for p, c in pairwise('A' + path)\n",
    "    ))\n",
    "\n",
    "@cache\n",
    "def manipulate_chained(path):\n",
    "    match path:\n",
    "        case str():     return manipulate(path, directional_geometry)\n",
    "        case Choice(x): return Choice(tuple(map(manipulate_chained, x)))\n",
    "        case Concat(x): return Concat(tuple(map(manipulate_chained, x)))\n",
    "\n",
    "def code_complexity(code, depth):\n",
    "    @cache\n",
    "    def min_path(t):\n",
    "        match t:\n",
    "            case str():     return len(t)\n",
    "            case Choice(x): return min(map(min_path, x))\n",
    "            case Concat(x): return sum(map(min_path, x))\n",
    "\n",
    "    @cache\n",
    "    def prune(t):\n",
    "        match t:\n",
    "            case str():\n",
    "                return t\n",
    "            case Choice(x):\n",
    "                m = min(map(min_path, x))\n",
    "                return Choice(tuple(\n",
    "                    prune(t) for t in x\n",
    "                    if m == min_path(t)\n",
    "                ))\n",
    "            case Concat(x):\n",
    "                return Concat(tuple(map(prune, x)))\n",
    "\n",
    "\n",
    "    start = manipulate(code, numeric_geometry)\n",
    "    for i in range(depth):\n",
    "        start = manipulate_chained(start)\n",
    "        start = prune(start)\n",
    "    return int(code[:3]) * min_path(start)\n",
    "\n",
    "\n",
    "codes = aocin(21).split('\\n')\n",
    "A = sum(code_complexity(x, 2) for x in codes)\n",
    "assert A == 188398\n",
    "\n",
    "# A = sum(code_complexity(x, 25) for x in codes)\n",
    "# A"
   ],
   "outputs": [],
   "execution_count": 35
  },
  {
   "metadata": {},
   "cell_type": "markdown",
   "source": "## [Day 22: Money Market](https://adventofcode.com/2024/day/22)"
  },
  {
   "metadata": {
    "ExecuteTime": {
     "end_time": "2024-12-22T14:41:04.295025Z",
     "start_time": "2024-12-22T14:40:58.886020Z"
    }
   },
   "cell_type": "code",
   "source": [
    "def seed_prng(n):\n",
    "    yield n\n",
    "    while True:\n",
    "        n ^= ((n << 6) % (2 ** 24))\n",
    "        n ^= ((n >> 5) % (2 ** 24))\n",
    "        n ^= ((n << 11) % (2 ** 24))\n",
    "        yield n\n",
    "\n",
    "def best_return(numbers):\n",
    "    seq = [list(islice(seed_prng(n), 2000)) for n in numbers]\n",
    "    scores = Counter()\n",
    "    for s in seq:\n",
    "        part = Counter()\n",
    "        for i in range(0, len(s)-5):\n",
    "            dx = tuple((b%10-a%10) for a, b in pairwise(s[i:i+5]))\n",
    "            if dx not in part:\n",
    "                part[dx] = s[i+4] % 10\n",
    "        scores += part\n",
    "    return scores\n",
    "\n",
    "\n",
    "numbers = list(map(int, aocin(22).split('\\n')))\n",
    "A = sum(next(islice(seed_prng(n), 2000, None)) for n in numbers)\n",
    "assert A == 13764677935\n",
    "\n",
    "A = max(best_return(numbers).values())\n",
    "assert A == 1619"
   ],
   "outputs": [],
   "execution_count": 144
  }
 ],
 "metadata": {
  "interpreter": {
   "hash": "aee8b7b246df8f9039afb4144a1f6fd8d2ca17a180786b69acc140d282b71a49"
  },
  "kernelspec": {
   "display_name": "Python 3 (ipykernel)",
   "language": "python",
   "name": "python3"
  },
  "language_info": {
   "codemirror_mode": {
    "name": "ipython",
    "version": 3
   },
   "file_extension": ".py",
   "mimetype": "text/x-python",
   "name": "python",
   "nbconvert_exporter": "python",
   "pygments_lexer": "ipython3",
   "version": "3.12.7"
  },
  "toc-autonumbering": false,
  "toc-showcode": false,
  "toc-showmarkdowntxt": false,
  "toc-showtags": false
 },
 "nbformat": 4,
 "nbformat_minor": 4
}
