{
 "cells": [
  {
   "metadata": {},
   "cell_type": "markdown",
   "source": "# Advent of Code 2024"
  },
  {
   "metadata": {},
   "cell_type": "markdown",
   "source": [
    "> If debugging is the process of removing software bugs, then programming must be the process of putting them in.\n",
    "\n",
    "-- Edsger W. Dijkstra"
   ]
  },
  {
   "metadata": {},
   "cell_type": "markdown",
   "source": "## Imports and definitions"
  },
  {
   "metadata": {
    "trusted": false,
    "ExecuteTime": {
     "end_time": "2024-12-05T07:44:33.322681Z",
     "start_time": "2024-12-05T07:44:33.315700Z"
    }
   },
   "cell_type": "code",
   "source": [
    "import re\n",
    "from itertools import chain\n",
    "from urllib import request\n",
    "from collections import Counter, defaultdict\n",
    "from math import prod\n",
    "\n",
    "def aocin(day):\n",
    "    try:\n",
    "        with open(f'input/{day}') as f:\n",
    "            return f.read().strip()\n",
    "    except FileNotFoundError:\n",
    "        r = request.Request(f'https://adventofcode.com/2024/day/{day}/input')\n",
    "        r.add_header('Cookie', open('../.aoccookie').read().strip())\n",
    "        r.add_header('User-Agent', 'github.com/edoannunziata/jardin')\n",
    "        with open(f'input/{day}', 'bw') as f:\n",
    "            f.write(request.urlopen(r).read())\n",
    "        with open(f'input/{day}') as f:\n",
    "            return f.read().strip()"
   ],
   "outputs": [],
   "execution_count": 49
  },
  {
   "metadata": {},
   "cell_type": "markdown",
   "source": "## [Day 1: Historian Hysteria](https://adventofcode.com/2024/day/1)"
  },
  {
   "metadata": {
    "trusted": false,
    "ExecuteTime": {
     "end_time": "2024-12-05T07:19:28.808744Z",
     "start_time": "2024-12-05T07:19:28.801724Z"
    }
   },
   "cell_type": "code",
   "source": [
    "a, b = [list(t) for t in zip(*[[*map(int, x.split())] for x in aocin(1).split('\\n')])]\n",
    "na, nb = Counter(a), Counter(b)\n",
    "\n",
    "A = sum(abs(u-v) for u, v in zip(sorted(a), sorted(b)))\n",
    "assert A == 1388114\n",
    "\n",
    "A = sum(u * nu * nb[u] for u, nu in na.items())\n",
    "assert A == 23529853"
   ],
   "outputs": [],
   "execution_count": 3
  },
  {
   "metadata": {},
   "cell_type": "markdown",
   "source": "## [Day 2: Red-Nosed Reports](https://adventofcode.com/2024/day/2)"
  },
  {
   "metadata": {
    "ExecuteTime": {
     "end_time": "2024-12-05T07:19:28.838402Z",
     "start_time": "2024-12-05T07:19:28.824154Z"
    }
   },
   "cell_type": "code",
   "source": [
    "reports = [[*map(int, l.split())] for l in aocin(2).split('\\n')]\n",
    "\n",
    "def is_safe(l, allowed, tol=0):\n",
    "    def _f(l, tol):\n",
    "        if tol < 0: return False\n",
    "        if len(l) < 2: return True\n",
    "        a, b, *rest = l\n",
    "        return (\n",
    "            ((a is None or a-b in allowed) and _f([b] + rest, tol))\n",
    "            or _f([a] + rest, tol-1)\n",
    "        )\n",
    "    return _f([None] + l, tol)\n",
    "\n",
    "\n",
    "A = sum(is_safe(l, {1, 2, 3}) or is_safe(l, {-1, -2, -3}) for l in reports)\n",
    "assert A == 369\n",
    "\n",
    "A = sum(is_safe(l, {1, 2, 3}, tol=1) or is_safe(l, {-1, -2, -3}, tol=1) for l in reports)\n",
    "assert A == 428"
   ],
   "outputs": [],
   "execution_count": 4
  },
  {
   "metadata": {},
   "cell_type": "markdown",
   "source": "## [Day 3: Mull it Over](https://adventofcode.com/2024/day/3)"
  },
  {
   "metadata": {
    "ExecuteTime": {
     "end_time": "2024-12-05T07:19:28.849067Z",
     "start_time": "2024-12-05T07:19:28.844701Z"
    }
   },
   "cell_type": "code",
   "source": [
    "A = sum(\n",
    "    prod(map(int, m.groups()))\n",
    "    for m in re.finditer(r'mul\\((\\d{1,3}),(\\d{1,3})\\)', aocin(3))\n",
    ")\n",
    "assert A == 160672468\n",
    "\n",
    "\n",
    "def mul_with_switch(input):\n",
    "    active, acc = True, 0\n",
    "    for m in re.finditer(r\"(do|don't|mul)\\((\\d{0,3}),?(\\d{0,3})\\)\", input):\n",
    "        match m.groups():\n",
    "            case \"mul\", _ as a, _ as b:\n",
    "                acc += active * int(a) * int(b)\n",
    "            case \"do\", _, _:\n",
    "                active = True\n",
    "            case \"don't\", _, _:\n",
    "                active = False\n",
    "    return acc\n",
    "\n",
    "A = mul_with_switch(aocin(3))\n",
    "assert A == 84893551"
   ],
   "outputs": [],
   "execution_count": 5
  },
  {
   "metadata": {},
   "cell_type": "markdown",
   "source": "## [Day 4: Ceres Search](https://adventofcode.com/2024/day/4)"
  },
  {
   "metadata": {
    "ExecuteTime": {
     "end_time": "2024-12-05T07:19:28.865651Z",
     "start_time": "2024-12-05T07:19:28.855251Z"
    }
   },
   "cell_type": "code",
   "source": [
    "def gen_input(raw):\n",
    "    rows = raw.split('\\n')\n",
    "    cols = [''.join(u) for u in list(zip(*rows))]\n",
    "    diag_primary = defaultdict(str)\n",
    "    diag_secondary = defaultdict(str)\n",
    "    for i in range(len(rows)):\n",
    "        for j in range(len(rows[0])):\n",
    "            diag_primary[i-j] += rows[i][j]\n",
    "            diag_secondary[i+j] += rows[i][j]\n",
    "    return rows, cols, diag_primary.values(), diag_secondary.values()\n",
    "\n",
    "\n",
    "rows, cols, diag_primary, diag_secondary = gen_input(aocin(4))\n",
    "A = sum(\n",
    "    u.count('XMAS') + u.count('SAMX')\n",
    "    for u in chain(rows, cols, diag_primary, diag_secondary)\n",
    ")\n",
    "assert A == 2613\n",
    "\n",
    "A = sum(\n",
    "    (\n",
    "            rows[i][j] == 'A'\n",
    "        and {rows[i+1][j+1], rows[i-1][j-1]} == {'S', 'M'}\n",
    "        and {rows[i+1][j-1], rows[i-1][j+1]} == {'S', 'M'} \n",
    "    )\n",
    "    for i in range(1, len(rows) - 1)\n",
    "    for j in range(1, len(rows[0]) - 1)\n",
    ")\n",
    "assert A == 1905"
   ],
   "outputs": [],
   "execution_count": 6
  },
  {
   "metadata": {},
   "cell_type": "markdown",
   "source": [
    "## [Day 5: Print Queue](https://adventofcode.com/2024/day/5)\n",
    "\n",
    "The algorithms and data structures begin to strike! :)\n",
    "\n",
    "It's easy to observe that the problem is asking questions related to the topological ordering of the graph of rules.\n",
    "\n",
    "The second part of the problem is actually underspecified. The text of the problem seems to be assuming that there exists a unique topological order, but that is obviously not the case, for a trivial counterexample imagine an empty rule graph and a nonempty update array; any permutation of the array would be valid."
   ]
  },
  {
   "metadata": {
    "ExecuteTime": {
     "end_time": "2024-12-05T08:31:35.723483Z",
     "start_time": "2024-12-05T08:31:35.705005Z"
    }
   },
   "cell_type": "code",
   "source": [
    "rules, updates = aocin(5).split('\\n\\n')\n",
    "updates_lst = [[*map(int, r.split(','))] for r in updates.split('\\n')]\n",
    "\n",
    "def rules_graphs(rules):\n",
    "    direct, reverse = defaultdict(set), defaultdict(set)\n",
    "    for rule in rules.split('\\n'):\n",
    "        a, b = map(int, rule.split('|'))\n",
    "        direct[b].add(a), reverse[a].add(b)\n",
    "    return direct, reverse\n",
    "\n",
    "def is_inorder(rules_graph, update):\n",
    "    present, done = set(update), set()\n",
    "    for u in update:\n",
    "        if any(v in present and v not in done for v in rules_graph[u]): return False\n",
    "        done.add(u)\n",
    "    return True\n",
    "\n",
    "def topological_sort(direct, reverse, update):\n",
    "    present = set(update)\n",
    "    out_degree = {k: sum(u in present for u in direct[k]) for k in present}\n",
    "    active = set(k for k, v in out_degree.items() if v == 0) \n",
    "    while active:\n",
    "        yield (x := active.pop())\n",
    "        out_degree[x] = -1\n",
    "        for v in reverse[x]:\n",
    "            if v in out_degree: out_degree[v] -= 1\n",
    "            if out_degree.get(v, -1) == 0: active.add(v)\n",
    "\n",
    "\n",
    "direct, reverse = rules_graphs(rules)\n",
    "\n",
    "A = sum(is_inorder(direct, u) * u[len(u) // 2] for u in updates_lst)\n",
    "assert A == 4185\n",
    "\n",
    "A = sum(\n",
    "    (not is_inorder(direct, u)) * list(topological_sort(direct, reverse, u))[len(u) // 2]\n",
    "    for u in updates_lst\n",
    ")\n",
    "assert A == 4480"
   ],
   "outputs": [],
   "execution_count": 143
  }
 ],
 "metadata": {
  "interpreter": {
   "hash": "aee8b7b246df8f9039afb4144a1f6fd8d2ca17a180786b69acc140d282b71a49"
  },
  "kernelspec": {
   "name": "python3",
   "display_name": "Python 3",
   "language": "python"
  },
  "language_info": {
   "name": "python",
   "version": "3.10.4",
   "mimetype": "text/x-python",
   "codemirror_mode": {
    "name": "ipython",
    "version": 3
   },
   "pygments_lexer": "ipython3",
   "nbconvert_exporter": "python",
   "file_extension": ".py"
  },
  "toc-autonumbering": false,
  "toc-showcode": false,
  "toc-showmarkdowntxt": false,
  "toc-showtags": false
 },
 "nbformat": 4,
 "nbformat_minor": 4
}
