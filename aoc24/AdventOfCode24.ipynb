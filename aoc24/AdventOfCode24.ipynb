{
 "cells": [
  {
   "metadata": {},
   "cell_type": "markdown",
   "source": "# Advent of Code 2024"
  },
  {
   "metadata": {},
   "cell_type": "markdown",
   "source": [
    "> If debugging is the process of removing software bugs, then programming must be the process of putting them in.\n",
    "\n",
    "-- Edsger W. Dijkstra"
   ]
  },
  {
   "metadata": {},
   "cell_type": "markdown",
   "source": "## Imports and definitions"
  },
  {
   "metadata": {
    "trusted": false,
    "ExecuteTime": {
     "end_time": "2024-12-01T05:36:11.533484Z",
     "start_time": "2024-12-01T05:36:11.524623Z"
    }
   },
   "cell_type": "code",
   "source": [
    "from urllib import request\n",
    "from collections import Counter\n",
    "\n",
    "def aocin(day):\n",
    "    try:\n",
    "        with open(f'input/{day}') as f:\n",
    "            return f.read().strip()\n",
    "    except FileNotFoundError:\n",
    "        r = request.Request(f'https://adventofcode.com/2024/day/{day}/input')\n",
    "        r.add_header('Cookie', open('../.aoccookie').read().strip())\n",
    "        r.add_header('User-Agent', 'github.com/edoannunziata/jardin')\n",
    "        with open(f'input/{day}', 'bw') as f:\n",
    "            f.write(request.urlopen(r).read())\n",
    "        with open(f'input/{day}') as f:\n",
    "            return f.read().strip()"
   ],
   "outputs": [],
   "execution_count": 26
  },
  {
   "metadata": {},
   "cell_type": "markdown",
   "source": "## [Day 1: Historian Hysteria!](https://adventofcode.com/2024/day/1)"
  },
  {
   "metadata": {
    "trusted": false,
    "ExecuteTime": {
     "end_time": "2024-12-01T05:39:10.004796Z",
     "start_time": "2024-12-01T05:39:09.995455Z"
    }
   },
   "cell_type": "code",
   "source": [
    "aocin(1)\n",
    "a, b = [list(t) for t in zip(*[[*map(int, x.split())] for x in aocin(1).split('\\n')])]\n",
    "\n",
    "A = sum(abs(u-v) for u, v in zip(sorted(a), sorted(b)))\n",
    "assert A == 1388114\n",
    "\n",
    "na, nb = Counter(a), Counter(b)\n",
    "A = sum(u * nu * nb[u] for u, nu in na.items())\n",
    "assert A == 23529853"
   ],
   "outputs": [],
   "execution_count": 31
  }
 ],
 "metadata": {
  "interpreter": {
   "hash": "aee8b7b246df8f9039afb4144a1f6fd8d2ca17a180786b69acc140d282b71a49"
  },
  "kernelspec": {
   "name": "python3",
   "display_name": "Python 3",
   "language": "python"
  },
  "language_info": {
   "name": "python",
   "version": "3.10.4",
   "mimetype": "text/x-python",
   "codemirror_mode": {
    "name": "ipython",
    "version": 3
   },
   "pygments_lexer": "ipython3",
   "nbconvert_exporter": "python",
   "file_extension": ".py"
  },
  "toc-autonumbering": false,
  "toc-showcode": false,
  "toc-showmarkdowntxt": false,
  "toc-showtags": false
 },
 "nbformat": 4,
 "nbformat_minor": 4
}
