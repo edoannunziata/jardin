{
 "cells": [
  {
   "cell_type": "markdown",
   "metadata": {
    "pycharm": {
     "name": "#%% md\n"
    }
   },
   "source": [
    "# Project Euler"
   ]
  },
  {
   "cell_type": "markdown",
   "metadata": {},
   "source": [
    "> Lisez Euler, lisez Euler, c'est notre maître à tous\n",
    "\n",
    "-- Pierre-Simon de Laplace"
   ]
  },
  {
   "cell_type": "markdown",
   "metadata": {
    "pycharm": {
     "name": "#%% md\n"
    }
   },
   "source": [
    "## Prelude"
   ]
  },
  {
   "cell_type": "code",
   "execution_count": 36,
   "metadata": {
    "pycharm": {
     "name": "#%%\n"
    }
   },
   "outputs": [],
   "source": [
    "#type: ignore\n",
    "from math import gcd, sqrt, ceil, log, floor\n",
    "from itertools import count, takewhile, dropwhile, islice, chain, permutations, product\n",
    "from functools import reduce, lru_cache\n",
    "from datetime import datetime, timedelta\n",
    "from collections import defaultdict, Counter\n",
    "from operator import mul\n",
    "from typing import List, Tuple\n",
    "from fractions import Fraction as F\n",
    "\n",
    "phi = (sqrt(5) + 1) / 2\n",
    "\n",
    "\n",
    "def prod(u): \n",
    "    \"\"\"Product. Older Pythons don't have this.\"\"\"\n",
    "    return reduce(mul, u, 1)\n",
    "\n",
    "\n",
    "def lcm(*u):\n",
    "    \"\"\"Least common multiple. Older Pythons don't have this.\"\"\"\n",
    "    def lcm_2(a, b):\n",
    "        return a * b // gcd(a, b)\n",
    "\n",
    "    \n",
    "    return reduce(lcm_2, u, 1)\n",
    "\n",
    "\n",
    "def digits(n):\n",
    "    \"\"\"Little-endian list of the digits of `n` in base `10`.\"\"\"\n",
    "    return [int(u) for u in str(n)][::-1]\n",
    "\n",
    "\n",
    "def digits_big(n):\n",
    "    \"\"\"Big-endian list of the digits of `n` in base `10`.\"\"\"\n",
    "    return [int(u) for u in str(n)]\n",
    "\n",
    "\n",
    "def undigits(d):\n",
    "    \"\"\"Assemble a little-endian list of digits into the number it represents.\"\"\"\n",
    "    return sum(10**e * n for e, n in enumerate(d))\n",
    "\n",
    "\n",
    "def undigits_big(d):\n",
    "    \"\"\"Assemble a big-endian list of digits into the number it represents.\"\"\"\n",
    "    return sum(10**e * n for e, n in enumerate(d[::-1]))\n",
    "\n",
    "\n",
    "def primes():\n",
    "    \"\"\"Infinite generator that returns primes.\"\"\"\n",
    "    ps = defaultdict(list)\n",
    "    for i in count(2):\n",
    "        if i in ps:\n",
    "            for n in ps[i]:\n",
    "                ps[i + (n if n == 2 else 2*n)].append(n)\n",
    "            del ps[i]\n",
    "        else:\n",
    "            yield i\n",
    "            ps[i**2].append(i)\n",
    "\n",
    "            \n",
    "def factorize(n: int):\n",
    "    \"\"\"\n",
    "    Factorize a number. Return a Counter `(p, e)`\n",
    "    where `p` is the prime, `e` is the exponent.\n",
    "    \"\"\"\n",
    "    fs = Counter()\n",
    "    gen = primes()\n",
    "    while n > 1:\n",
    "        p = next(gen)\n",
    "        while n % p == 0:\n",
    "            n //= p\n",
    "            fs[p] += 1\n",
    "\n",
    "    return fs\n",
    "\n",
    "\n",
    "def divisors(n: int):\n",
    "    fs = factorize(n)\n",
    "    def __div_helper(k: Counter[int]):\n",
    "        if not k:\n",
    "            return [1]\n",
    "        else:\n",
    "            (p, e) = k.popitem()\n",
    "            R = __div_helper(k)\n",
    "            return [p ** d * r for d in range(1 + e) for r in R]\n",
    "        \n",
    "    return sorted(__div_helper(fs))"
   ]
  },
  {
   "cell_type": "markdown",
   "metadata": {
    "pycharm": {
     "name": "#%% md\n"
    }
   },
   "source": [
    "## [Problem 1 - Multiples of 3 or 5](https://projecteuler.net/problem=1)\n",
    "\n",
    "There are $333$ multiples of $3$ less than $1000$, $199$ multiples of $5$ less than $1000$, and $66$ multiples of $15$ less than $1000$. Let $S$ be the sum we are seeking. Then:\n",
    "\n",
    "$$\n",
    "S = \\sum_{i=1}^{333} 3i + \\sum_{i=1}^{199} 5i - \\sum_{i=1}^{66} 15i\n",
    "$$\n",
    "\n",
    "From which:\n",
    "\n",
    "$$\n",
    "S = \\frac{3 \\times 333 \\times 334}{2} + \\frac{5 \\times 199 \\times 200}{2} - \\frac{15 \\times 66 \\times 67}{2} = 233168\n",
    "$$\n",
    "\n",
    "We may verify this is correct solving the problem the naive way:"
   ]
  },
  {
   "cell_type": "code",
   "execution_count": 37,
   "metadata": {
    "pycharm": {
     "name": "#%%\n"
    }
   },
   "outputs": [],
   "source": [
    "A = sum(i for i in range(1000) if i % 3 == 0 or i % 5 == 0)\n",
    "\n",
    "assert A == 233_168"
   ]
  },
  {
   "cell_type": "markdown",
   "metadata": {
    "pycharm": {
     "name": "#%% md\n"
    }
   },
   "source": [
    "## [Problem 2 - Even Fibonacci numbers](https://projecteuler.net/problem=2)\n",
    "\n",
    "The problem can be solved with pen and paper! Yay for $O(0)$ solutions!\n",
    "\n",
    "We are looking for the sum of even Fibonacci number less than $N = 4 \\times 10^6$; let that sum be $A$.\n",
    "\n",
    "Let $F_n$ be the $n$-th Fibonacci number, and let $L$ be the greatest integer such that $F_L < N$.\n",
    "\n",
    "Because $gcd(F_n, F_m) = F_{gcd(n, m)}$, $F_n$ is even if and only if $3 | n$. Therefore:\n",
    "\n",
    "$$\n",
    "A =\n",
    "\\sum_{0 \\le j \\le L} \\left[ F_j < N\\right] F_j =\n",
    "\\sum_{0 \\le 3j \\le L} F_{3j}\n",
    "$$\n",
    "\n",
    "Duplicating $A$, we obtain:\n",
    "\n",
    "$$\n",
    "2A = 2 \\sum_{0 \\le 3j \\le L} F_{3j} = F_0 + F_0 + F_3 + F_3 + \\dots\n",
    "$$\n",
    "\n",
    "Because $F_1 = 1$, we may write:\n",
    "\n",
    "$$\n",
    "\\begin{array}{rcl}\n",
    "2A + 1 & = & F_0 + (F_0 + F_1) + F_3 + F_3 + \\dots \\\\\n",
    "& = & F_0 + (F_2 + F_3) + F_3 + F_6 + F_6 + \\dots \\\\\n",
    "& = & F_0 + (F_3 + F_4) + F_6 + F_6 + \\dots\n",
    "\\end{array}\n",
    "$$\n",
    "\n",
    "Which telescopically reduces to:\n",
    "\n",
    "$$\n",
    "2A + 1 = F_{L + 1}\n",
    "$$\n",
    "\n",
    "This suggests a way to directly compute the answer. We know that:\n",
    "\n",
    "$$\n",
    "F_n = \\left \\lfloor \\frac{\\varphi^n}{\\sqrt{5}} + \\frac{1}{2} \\right \\rfloor\n",
    "$$\n",
    "\n",
    "Which can be inverted as:\n",
    "\n",
    "$$\n",
    "n(F) = \\left \\lceil \\frac{1}{\\log{\\varphi}} \\log \\left( F \\sqrt{5} - \\frac{1}{2} \\right) \\right \\rceil\n",
    "$$\n",
    "\n",
    "Plugging in $N = 4 \\times 10^6$:"
   ]
  },
  {
   "cell_type": "code",
   "execution_count": 38,
   "metadata": {
    "pycharm": {
     "name": "#%%\n"
    }
   },
   "outputs": [
    {
     "data": {
      "text/plain": [
       "34"
      ]
     },
     "execution_count": 38,
     "metadata": {},
     "output_type": "execute_result"
    }
   ],
   "source": [
    "N = 4_000_000\n",
    "ceil(log(sqrt(5) * N - 1/2) / log(phi))"
   ]
  },
  {
   "cell_type": "markdown",
   "metadata": {
    "pycharm": {
     "name": "#%% md\n"
    }
   },
   "source": [
    "We deduce that $T = 34$. Hence:"
   ]
  },
  {
   "cell_type": "code",
   "execution_count": 39,
   "metadata": {
    "pycharm": {
     "name": "#%%\n"
    }
   },
   "outputs": [
    {
     "data": {
      "text/plain": [
       "4613732"
      ]
     },
     "execution_count": 39,
     "metadata": {},
     "output_type": "execute_result"
    }
   ],
   "source": [
    "L = 34\n",
    "(floor(phi ** (L + 1) / sqrt(5) + 1/2) - 1) // 2"
   ]
  },
  {
   "cell_type": "markdown",
   "metadata": {
    "pycharm": {
     "name": "#%% md\n"
    }
   },
   "source": [
    "Yielding the final answer. We may check that naively computing the answer gives the same result."
   ]
  },
  {
   "cell_type": "code",
   "execution_count": 40,
   "metadata": {
    "pycharm": {
     "name": "#%%\n"
    }
   },
   "outputs": [],
   "source": [
    "def fibonacci():\n",
    "    prev, curr = 0, 1\n",
    "    while True:\n",
    "        yield prev\n",
    "        prev, curr = curr, prev + curr\n",
    "\n",
    "\n",
    "N = 4_000_000\n",
    "A = sum(i for i in takewhile(lambda x: x < N, fibonacci()) if i % 2 == 0)\n",
    "\n",
    "\n",
    "assert A == 4_613_732"
   ]
  },
  {
   "cell_type": "markdown",
   "metadata": {
    "pycharm": {
     "name": "#%% md\n"
    }
   },
   "source": [
    "## [Problem 3 - Largest prime factor](https://projecteuler.net/problem=3)"
   ]
  },
  {
   "cell_type": "code",
   "execution_count": 41,
   "metadata": {
    "pycharm": {
     "name": "#%%\n"
    }
   },
   "outputs": [],
   "source": [
    "N = 600_851_475_143\n",
    "A = max(p for p in factorize(N))\n",
    "\n",
    "assert A == 6_857"
   ]
  },
  {
   "cell_type": "markdown",
   "metadata": {
    "pycharm": {
     "name": "#%% md\n"
    }
   },
   "source": [
    "## [Problem 4 - Largest palindrome product](https://projecteuler.net/problem=4)"
   ]
  },
  {
   "cell_type": "code",
   "execution_count": 42,
   "metadata": {
    "pycharm": {
     "name": "#%%\n"
    }
   },
   "outputs": [],
   "source": [
    "R = (100, 1000)\n",
    "\n",
    "def is_palindrome(n):\n",
    "    return str(n) == str(n)[::-1]\n",
    "\n",
    "A  = max(\n",
    "    x * y\n",
    "    for x in range(*R)\n",
    "    for y in range(*R)\n",
    "    if is_palindrome(x * y)\n",
    ")\n",
    "\n",
    "\n",
    "assert A == 906_609"
   ]
  },
  {
   "cell_type": "markdown",
   "metadata": {
    "pycharm": {
     "name": "#%% md\n"
    }
   },
   "source": [
    "## [Problem 5 - Smallest multiple](https://projecteuler.net/problem=5)"
   ]
  },
  {
   "cell_type": "code",
   "execution_count": 43,
   "metadata": {
    "pycharm": {
     "name": "#%%\n"
    }
   },
   "outputs": [],
   "source": [
    "N = 20\n",
    "A = lcm(*range(1, 1 + N))\n",
    "\n",
    "assert A == 232_792_560"
   ]
  },
  {
   "cell_type": "markdown",
   "metadata": {
    "pycharm": {
     "name": "#%% md\n"
    }
   },
   "source": [
    "## [Problem 6 - Sum square difference](https://projecteuler.net/problem=6)\n",
    "\n",
    "$$\n",
    "A =\n",
    "\\left( \\sum_{1 \\le i \\le n} i \\right)^2 - \\sum_{1 \\le i \\le n} i^2 =\n",
    "\\frac{n^2 (n + 1)^2}{4} - \\frac{n(n+1)(2n+1)}{6} =\n",
    "\\frac{3n^4 + 2n^3 - 3n^2 - 2n}{12}\n",
    "$$\n",
    "\n",
    "Plugging in $n=100$:"
   ]
  },
  {
   "cell_type": "code",
   "execution_count": 44,
   "metadata": {
    "pycharm": {
     "name": "#%%\n"
    }
   },
   "outputs": [
    {
     "data": {
      "text/plain": [
       "25164150"
      ]
     },
     "execution_count": 44,
     "metadata": {},
     "output_type": "execute_result"
    }
   ],
   "source": [
    "N = 100\n",
    "(3 * N ** 4 + 2 * N ** 3 - 3 * N ** 2 - 2 * N) // 12"
   ]
  },
  {
   "cell_type": "markdown",
   "metadata": {
    "pycharm": {
     "name": "#%% md\n"
    }
   },
   "source": [
    "We may verify that running the naive algorithm yields the same result:"
   ]
  },
  {
   "cell_type": "code",
   "execution_count": 45,
   "metadata": {
    "pycharm": {
     "name": "#%%\n"
    }
   },
   "outputs": [],
   "source": [
    "N = 100\n",
    "A = sum(range(1 + N)) ** 2 - sum(x**2 for x in range(1 + N))\n",
    "\n",
    "\n",
    "assert A == 25_164_150"
   ]
  },
  {
   "cell_type": "markdown",
   "metadata": {
    "pycharm": {
     "name": "#%% md\n"
    }
   },
   "source": [
    "## [Problem 7 - 10001st prime](https://projecteuler.net/problem=7)"
   ]
  },
  {
   "cell_type": "code",
   "execution_count": 46,
   "metadata": {
    "pycharm": {
     "name": "#%%\n"
    }
   },
   "outputs": [],
   "source": [
    "N=10_001\n",
    "A = next(islice(primes(), N - 1, N))\n",
    "\n",
    "assert A == 104_743"
   ]
  },
  {
   "cell_type": "markdown",
   "metadata": {
    "pycharm": {
     "name": "#%% md\n"
    }
   },
   "source": [
    "## [Problem 8 - Largest product in a series](https://projecteuler.net/problem=8)"
   ]
  },
  {
   "cell_type": "code",
   "execution_count": 47,
   "metadata": {
    "pycharm": {
     "name": "#%%\n"
    }
   },
   "outputs": [],
   "source": [
    "with open(\"input/8.txt\") as f:\n",
    "    S = [i for l in [[int(x) for x in line.strip()] for line in f] for i in l]\n",
    "\n",
    "N = 13\n",
    "A = max(prod(S[i : i + N]) for i in range(len(S) - N))\n",
    "\n",
    "\n",
    "assert A == 23_514_624_000"
   ]
  },
  {
   "cell_type": "markdown",
   "metadata": {
    "pycharm": {
     "name": "#%% md\n"
    }
   },
   "source": [
    "## [Problem 9 - Special Pythagorean triple](https://projecteuler.net/problem=7)"
   ]
  },
  {
   "cell_type": "code",
   "execution_count": 48,
   "metadata": {
    "pycharm": {
     "name": "#%%\n"
    }
   },
   "outputs": [],
   "source": [
    "N = 1000\n",
    "A = next(\n",
    "    a * b * c\n",
    "    for a in range(1, N)\n",
    "    for b in range(N - a)\n",
    "    for c in (N - a - b,)\n",
    "    if a**2 + b**2 == c**2\n",
    ")\n",
    "\n",
    "\n",
    "assert A == 31_875_000"
   ]
  },
  {
   "cell_type": "markdown",
   "metadata": {
    "pycharm": {
     "name": "#%% md\n"
    }
   },
   "source": [
    "## [Problem 10 - Summation of primes](https://projecteuler.net/problem=10)"
   ]
  },
  {
   "cell_type": "code",
   "execution_count": 49,
   "metadata": {
    "pycharm": {
     "name": "#%%\n"
    }
   },
   "outputs": [],
   "source": [
    "N = 2_000_000\n",
    "A = sum(takewhile(lambda x: x < N, primes()))\n",
    "\n",
    "assert A == 142_913_828_922"
   ]
  },
  {
   "cell_type": "markdown",
   "metadata": {
    "pycharm": {
     "name": "#%% md\n"
    }
   },
   "source": [
    "## [Problem 11 - Largest product in a grid](https://projecteuler.net/problem=11)"
   ]
  },
  {
   "cell_type": "code",
   "execution_count": 50,
   "metadata": {
    "pycharm": {
     "name": "#%%\n"
    }
   },
   "outputs": [],
   "source": [
    "with open(\"input/11.txt\") as f:\n",
    "    M = [[int(x) for x in line.strip().split()] for line in f]\n",
    "\n",
    "horizontals = [x for x in M]\n",
    "\n",
    "verticals = [[x[i] for x in M] for i in range(len(M))]\n",
    "\n",
    "primary_diag = [\n",
    "    [M[i][j] for i in range(len(M)) for j in range(len(M)) if i - j == d]\n",
    "    for d in range(-len(M), len(M))\n",
    "]\n",
    "\n",
    "secondary_diag = [\n",
    "    [M[i][j] for i in range(len(M)) for j in range(len(M)) if i + j == d]\n",
    "    for d in range(2 * len(M) - 1)\n",
    "]\n",
    "\n",
    "N = 4\n",
    "A = 0\n",
    "for l in chain(horizontals, verticals, primary_diag, secondary_diag):\n",
    "    top = max((prod(l[i : i + N]) for i in range(1 + len(l) - N)), default=0)\n",
    "    A = max(top, A)\n",
    "\n",
    "assert A == 70_600_674"
   ]
  },
  {
   "cell_type": "markdown",
   "metadata": {
    "pycharm": {
     "name": "#%% md\n"
    }
   },
   "source": [
    "## [Problem 12 - Highly divisible triangular number](https://projecteuler.net/problem=12)"
   ]
  },
  {
   "cell_type": "code",
   "execution_count": 51,
   "metadata": {
    "pycharm": {
     "name": "#%%\n"
    }
   },
   "outputs": [],
   "source": [
    "def triangular(n):\n",
    "    return n * (n + 1) // 2\n",
    "\n",
    "def factors(n):\n",
    "    return prod(1 + e for e in factorize(n).values())\n",
    "\n",
    "N=500\n",
    "A = next(dropwhile(\n",
    "    lambda u: factors(u) <= N,\n",
    "    (triangular(x) for x in count())\n",
    "))\n",
    "\n",
    "\n",
    "assert A == 76_576_500"
   ]
  },
  {
   "cell_type": "markdown",
   "metadata": {
    "pycharm": {
     "name": "#%% md\n"
    }
   },
   "source": [
    "## [Problem 13 - Large sum](https://projecteuler.net/problem=13)"
   ]
  },
  {
   "cell_type": "code",
   "execution_count": 52,
   "metadata": {
    "pycharm": {
     "name": "#%%\n"
    }
   },
   "outputs": [],
   "source": [
    "N=10\n",
    "with open(\"input/13.txt\") as f:\n",
    "    L = [int(l.strip()) for l in f]\n",
    "    \n",
    "A = int(str(sum(L))[:N])\n",
    "\n",
    "assert A == 5_537_376_230"
   ]
  },
  {
   "cell_type": "markdown",
   "metadata": {
    "pycharm": {
     "name": "#%% md\n"
    }
   },
   "source": [
    "## [Problem 14 - Longest collatz sequence](https://projecteuler.net/problem=14)"
   ]
  },
  {
   "cell_type": "code",
   "execution_count": 53,
   "metadata": {
    "pycharm": {
     "name": "#%%\n"
    }
   },
   "outputs": [],
   "source": [
    "@lru_cache(maxsize=None)\n",
    "def collatz_length(n):\n",
    "    if n == 1:\n",
    "        return 0\n",
    "    elif n % 2 == 1:\n",
    "        return 1 + collatz_length(3 * n + 1)\n",
    "    else:\n",
    "        return 1 + collatz_length(n // 2)\n",
    "\n",
    "\n",
    "N = 1_000_000\n",
    "A = max(range(1, N), key=collatz_length)\n",
    "\n",
    "\n",
    "assert A == 837_799"
   ]
  },
  {
   "cell_type": "markdown",
   "metadata": {
    "pycharm": {
     "name": "#%% md\n"
    }
   },
   "source": [
    "## [Problem 15 - Lattice Paths](https://projecteuler.net/problem=15)"
   ]
  },
  {
   "cell_type": "code",
   "execution_count": 54,
   "metadata": {
    "pycharm": {
     "name": "#%%\n"
    }
   },
   "outputs": [],
   "source": [
    "N = 20\n",
    "A = prod(range(N + 1, 2 * N + 1)) // prod(range(1, N + 1))\n",
    "\n",
    "assert A == 137846528820"
   ]
  },
  {
   "cell_type": "markdown",
   "metadata": {
    "pycharm": {
     "name": "#%% md\n"
    }
   },
   "source": [
    "## [Problem 16 - Power digit sum](https://projecteuler.net/problem=16)"
   ]
  },
  {
   "cell_type": "code",
   "execution_count": 55,
   "metadata": {
    "pycharm": {
     "name": "#%%\n"
    }
   },
   "outputs": [],
   "source": [
    "N = 2 ** 1000\n",
    "A = sum(digits(N))\n",
    "\n",
    "assert A == 1366"
   ]
  },
  {
   "cell_type": "markdown",
   "metadata": {
    "pycharm": {
     "name": "#%% md\n"
    }
   },
   "source": [
    "## [Problem 17 - Number letter counts](https://projecteuler.net/problem=17)"
   ]
  },
  {
   "cell_type": "code",
   "execution_count": 56,
   "metadata": {
    "pycharm": {
     "name": "#%%\n"
    }
   },
   "outputs": [],
   "source": [
    "def number_to_british_english(n):\n",
    "    MAX_SCALE = 10 ** 21\n",
    "    if n >= MAX_SCALE:\n",
    "        raise\n",
    "\n",
    "    names_special = {\n",
    "        10: 'ten',\n",
    "        11: 'eleven',\n",
    "        12: 'twelve',\n",
    "        13: 'thirteen',\n",
    "        14: 'fourteen',\n",
    "        15: 'fifteen',\n",
    "        16: 'sixteen',\n",
    "        17: 'seventeen',\n",
    "        18: 'eighteen',\n",
    "        19: 'nineteen'\n",
    "    }\n",
    "    names_u = {\n",
    "        1: 'one',\n",
    "        2: 'two',\n",
    "        3: 'three',\n",
    "        4: 'four',\n",
    "        5: 'five',\n",
    "        6: 'six',\n",
    "        7: 'seven',\n",
    "        8: 'eight',\n",
    "        9: 'nine'\n",
    "    }\n",
    "    names_da = {\n",
    "        2: 'twenty',\n",
    "        3: 'thirty',\n",
    "        4: 'forty',\n",
    "        5: 'fifty',\n",
    "        6: 'sixty',\n",
    "        7: 'seventy',\n",
    "        8: 'eighty',\n",
    "        9: 'ninety'\n",
    "    }\n",
    "    names_scale = {\n",
    "        1: 'thousand',\n",
    "        2: 'million',\n",
    "        3: 'billion',\n",
    "        4: 'trillion',\n",
    "        5: 'quadrillion',\n",
    "        6: 'quintillion'\n",
    "    }\n",
    "    dl = digits(n)[::-1]\n",
    "    d = ([0] * (3 - (len(dl) % 3 or 3)) + dl)[::-1]\n",
    "    s = [list(d[3 * k : 3 * k + 3]) for k in range(ceil(len(d) / 3))]\n",
    "    \n",
    "    if not s:\n",
    "        return 'zero'\n",
    "\n",
    "    out = ''\n",
    "    for k, (u, da, h) in enumerate(s):\n",
    "        prefix = ' ' + names_scale[k] + ' ' if k else ''\n",
    "        hds = names_u[h] + ' hundred' if h else ''\n",
    "        conn = ' and ' if h and (da or u) else ''\n",
    "        if da == 0 and u == 0:\n",
    "            base = ''\n",
    "        elif da * 10 + u in names_special:\n",
    "            base = names_special[da * 10 + u]\n",
    "        elif da == 0:\n",
    "            base = names_u[u]\n",
    "        elif u == 0:\n",
    "            base = names_da[da]\n",
    "        else:\n",
    "            base = f'{names_da[da]}-{names_u[u]}'\n",
    "\n",
    "        out = hds + conn + base + prefix + out\n",
    "        \n",
    "\n",
    "    return out\n",
    "\n",
    "N = 1000\n",
    "A = sum(sum(1 for c in number_to_british_english(n) if c.isalpha()) for n in range(1, N+1))\n",
    "\n",
    "assert A == 21124"
   ]
  },
  {
   "cell_type": "markdown",
   "metadata": {
    "pycharm": {
     "name": "#%% md\n"
    }
   },
   "source": [
    "## [Problem 18 - Maximum path sum I](https://projecteuler.net/problem=18)"
   ]
  },
  {
   "cell_type": "code",
   "execution_count": 57,
   "metadata": {
    "pycharm": {
     "name": "#%%\n"
    }
   },
   "outputs": [],
   "source": [
    "V = []\n",
    "with open('input/14.txt') as f:\n",
    "    for l in f:\n",
    "        V.append([int(x) for x in l.strip().split()])\n",
    "\n",
    "def gen_max_path(A):\n",
    "    @lru_cache(maxsize=None)\n",
    "    def __max_path(row, col):\n",
    "        if row == 0:\n",
    "            return A[0][0]\n",
    "        elif col == 0:\n",
    "            return A[row][col] + __max_path(row-1, col)\n",
    "        elif col == row:\n",
    "            return A[row][col] + __max_path(row-1, col-1)\n",
    "        else:\n",
    "            return A[row][col] + max(__max_path(row-1, col-1), __max_path(row-1, col))\n",
    "        \n",
    "    return __max_path\n",
    "\n",
    "max_path = gen_max_path(V)\n",
    "A = max(max_path(len(V) - 1, i) for i in range(len(V)))\n",
    "\n",
    "assert A == 1074"
   ]
  },
  {
   "cell_type": "markdown",
   "metadata": {
    "pycharm": {
     "name": "#%% md\n"
    }
   },
   "source": [
    "## [Problem 19 - Counting Sundays](https://projecteuler.net/problem=19)"
   ]
  },
  {
   "cell_type": "code",
   "execution_count": 58,
   "metadata": {
    "pycharm": {
     "name": "#%%\n"
    }
   },
   "outputs": [],
   "source": [
    "def date_range():\n",
    "    d = datetime(1901, 1, 1)\n",
    "    while d < datetime(2001, 1, 1):\n",
    "        yield d\n",
    "        d += timedelta(days = 1)\n",
    "        \n",
    "A = sum(1 for x in date_range() if x.weekday() == 6 and x.day == 1)\n",
    "\n",
    "assert A == 171"
   ]
  },
  {
   "cell_type": "markdown",
   "metadata": {
    "pycharm": {
     "name": "#%% md\n"
    }
   },
   "source": [
    "## [Problem 20 - Factorial digit sum](https://projecteuler.net/problem=20)"
   ]
  },
  {
   "cell_type": "code",
   "execution_count": 59,
   "metadata": {
    "pycharm": {
     "name": "#%%\n"
    }
   },
   "outputs": [],
   "source": [
    "N = 100\n",
    "A = sum(digits(prod(range(1, 1 + N))))\n",
    "\n",
    "assert A == 648"
   ]
  },
  {
   "cell_type": "markdown",
   "metadata": {
    "pycharm": {
     "name": "#%% md\n"
    }
   },
   "source": [
    "## [Problem 21 - Amicable numbers](https://projecteuler.net/problem=21)"
   ]
  },
  {
   "cell_type": "code",
   "execution_count": 60,
   "metadata": {
    "pycharm": {
     "name": "#%%\n"
    }
   },
   "outputs": [],
   "source": [
    "N = 10000\n",
    "sum_divisors = {i: sum(divisors(i)) - i for i in range(1, N)}\n",
    "\n",
    "A = sum(i for i, j in sum_divisors.items() if i != j and sum_divisors.get(j) == i)\n",
    "\n",
    "assert A == 31626"
   ]
  },
  {
   "cell_type": "markdown",
   "metadata": {
    "pycharm": {
     "name": "#%% md\n"
    }
   },
   "source": [
    "## [Problem 22 - Names scores](https://projecteuler.net/problem=22)"
   ]
  },
  {
   "cell_type": "code",
   "execution_count": 61,
   "metadata": {
    "pycharm": {
     "name": "#%%\n"
    }
   },
   "outputs": [],
   "source": [
    "with open('input/22.txt') as f:\n",
    "    N = f.read().replace('\"', '').split(',')\n",
    "    \n",
    "def val(s):\n",
    "    return sum(1 + ord(c) - ord('a') for c in s.lower())\n",
    "\n",
    "A = sum(n * val(s) for n, s in enumerate(sorted(N), 1))\n",
    "\n",
    "assert A == 871198282"
   ]
  },
  {
   "cell_type": "markdown",
   "metadata": {
    "pycharm": {
     "name": "#%% md\n"
    }
   },
   "source": [
    "## [Problem 23 - Non-abundant sums](https://projecteuler.net/problem=23)"
   ]
  },
  {
   "cell_type": "code",
   "execution_count": 62,
   "metadata": {
    "pycharm": {
     "name": "#%%\n"
    }
   },
   "outputs": [],
   "source": [
    "N = 28123\n",
    "abundant = [j for j in range(1, N + 1) if sum(divisors(j)) - j > j]\n",
    "A = sum(set(range(1, N + 1)) - set(x + y for x in abundant for y in abundant))\n",
    "\n",
    "assert A == 4179871"
   ]
  },
  {
   "cell_type": "markdown",
   "metadata": {
    "pycharm": {
     "name": "#%% md\n"
    }
   },
   "source": [
    "## [Problem 24 - Lexicographic permutations](https://projecteuler.net/problem=24)\n",
    "\n",
    "The permutation may be found by writing $10^6 - 1$ in factorial base:\n",
    "\n",
    "$$\n",
    "\\begin{array}{rcl}\n",
    "999999 & = & 2 \\times 362880 + 274239 \\\\\n",
    "274239 & = & 6 \\times 40320 + 32319 \\\\\n",
    "32319 & = & 6 \\times 5040 + 2079 \\\\\n",
    "2079 & = & 2 \\times 720 + 639 \\\\\n",
    "639 & = & 5 \\times 120 + 39 \\\\\n",
    "39 & = & 1 \\times 24 + 15 \\\\\n",
    "15 & = & 2 \\times 6 + 3 \\\\\n",
    "3 & = & 1 \\times 2 + 1 \\\\\n",
    "1 & = & 1 \\times 1 + 0 \\\\\n",
    "0 & = & 0 \\times 0 + 0 \\\\\n",
    "\\end{array}\n",
    "$$\n",
    "\n",
    "..and taking the $k$-th element in order for each digit in the factorial base representation of $10^6 - 1$:\n",
    "$$\n",
    "\\begin{array}{rcl}\n",
    "S = [0, 1, 2, 3, 4, 5, 6, 7, 8, 9] & \\implies & S[2] = 2 \\\\\n",
    "S = [0, 1,    3, 4, 5, 6, 7, 8, 9] & \\implies & S[6] = 7 \\\\\n",
    "S = [0, 1,    3, 4, 5, 6,    8, 9] & \\implies & S[6] = 8 \\\\\n",
    "S = [0, 1,    3, 4, 5, 6,       9] & \\implies & S[2] = 3 \\\\\n",
    "S = [0, 1,       4, 5, 6,       9] & \\implies & S[5] = 9 \\\\\n",
    "S = [0, 1,       4, 5, 6         ] & \\implies & S[1] = 1 \\\\\n",
    "S = [0,          4, 5, 6         ] & \\implies & S[2] = 5 \\\\\n",
    "S = [0,          4,    6         ] & \\implies & S[1] = 4 \\\\\n",
    "S = [0,                6         ] & \\implies & S[1] = 6 \\\\\n",
    "S = [0                           ] & \\implies & S[0] = 0 \\\\\n",
    "\\end{array}\n",
    "$$\n",
    "\n",
    "Yielding: $[2, 7, 8, 3, 9, 1, 5, 4, 6, 0]$.\n",
    "\n",
    "This may be verified comparing the permutation thus obtained with a naive approach:"
   ]
  },
  {
   "cell_type": "code",
   "execution_count": 63,
   "metadata": {
    "pycharm": {
     "name": "#%%\n"
    }
   },
   "outputs": [],
   "source": [
    "N = 1_000_000\n",
    "A = next(islice(permutations(range(10)), N-1, N))\n",
    "\n",
    "assert A == (2, 7, 8, 3, 9, 1, 5, 4, 6, 0)"
   ]
  },
  {
   "cell_type": "markdown",
   "metadata": {
    "pycharm": {
     "name": "#%% md\n"
    }
   },
   "source": [
    "## [Problem 25 - 1000-digit Fibonacci number](https://projecteuler.net/problem=25)"
   ]
  },
  {
   "cell_type": "code",
   "execution_count": 64,
   "metadata": {
    "pycharm": {
     "name": "#%%\n"
    }
   },
   "outputs": [],
   "source": [
    "N = 10**999\n",
    "\n",
    "def fibonacci():\n",
    "    prev, curr = 0, 1\n",
    "    while True:\n",
    "        yield prev\n",
    "        prev, curr = curr, prev + curr\n",
    "\n",
    "A, _ = next(dropwhile(lambda u: u[1] < N, enumerate(fibonacci())))\n",
    "\n",
    "assert A == 4782"
   ]
  },
  {
   "cell_type": "markdown",
   "metadata": {
    "pycharm": {
     "name": "#%% md\n"
    }
   },
   "source": [
    "## [Problem 26 - Reciprocal cycles](https://projecteuler.net/problem=26)"
   ]
  },
  {
   "cell_type": "code",
   "execution_count": 65,
   "metadata": {
    "pycharm": {
     "name": "#%%\n"
    }
   },
   "outputs": [],
   "source": [
    "N = 1_000\n",
    "\n",
    "def cycle_length(n):\n",
    "    s = {1}\n",
    "    v = 1\n",
    "    while True:\n",
    "        v *= 10\n",
    "        v %= n\n",
    "        if v == 0:\n",
    "            break\n",
    "        if v in s:\n",
    "            break\n",
    "        s |= {v}\n",
    "        \n",
    "    return len(s)\n",
    "\n",
    "A = max(range(1, N+1), key=cycle_length)\n",
    "\n",
    "assert A == 983"
   ]
  },
  {
   "cell_type": "markdown",
   "metadata": {
    "pycharm": {
     "name": "#%% md\n"
    }
   },
   "source": [
    "## [Problem 27 - Quadratic primes](https://projecteuler.net/problem=27)"
   ]
  },
  {
   "cell_type": "code",
   "execution_count": 66,
   "metadata": {
    "pycharm": {
     "name": "#%%\n"
    }
   },
   "outputs": [],
   "source": [
    "R = (-999, 1000)\n",
    "\n",
    "def quad(a, b):\n",
    "    return lambda n: n ** 2 + a * n + b\n",
    "\n",
    "pf, mpf, pg = set(), -1, primes()\n",
    "\n",
    "def npr(f):\n",
    "    global pf, mpf, pg\n",
    "    for n in count():\n",
    "        y = f(n)\n",
    "        while mpf < y:\n",
    "            mpf = next(pg)\n",
    "            pf.add(mpf)\n",
    "        if y not in pf:\n",
    "            return n\n",
    "\n",
    "A = prod(max(((a, b) for a in range(*R) for b in range(*R)), \n",
    "             key=lambda u: npr(quad(*u))))\n",
    "\n",
    "assert A == -59231"
   ]
  },
  {
   "cell_type": "markdown",
   "metadata": {
    "pycharm": {
     "name": "#%% md\n"
    }
   },
   "source": [
    "## [Problem 28 - Number spiral diagonals](https://projecteuler.net/problem=28)\n",
    "\n",
    "Let $S(n)$ be the sum of the diagonals for an $n \\times n$ board.\n",
    "\n",
    "If we ignore the central $1$, the $k$-th spiral from the center contains the following four numbers:\n",
    "\n",
    "$$\n",
    "    (2k+1)^2, (2k+1)^2 - 2k, (2k+1)^2 - 4k, (2k+1)^2 - 6k\n",
    "$$\n",
    "\n",
    "Because an $n \\times n$ grid contains exactly $(n-1)/2$ spirals (plus the central $1$), the sum is simply:\n",
    "\n",
    "$$\n",
    "    S(n) - 1 = \\sum_{i=1}^{h} 4(2k+1)^2 - 12k\n",
    "$$\n",
    "\n",
    "Where $h = (n-1)/2$. By trivial algebraic manipulation:\n",
    "\n",
    "$$\n",
    "    S(n) - 1 = 4 \\sum_{i=1}^{h} (2k+1)^2 - 3k \n",
    "    = 4 \\sum_{i=1}^{h} 4k^2 + k + 1 \n",
    "    = \\frac{16h(h+1)(2h+1)}{6} + 2h(h+1) + 4h\n",
    "$$\n",
    "\n",
    "Which simplifies to:\n",
    "\n",
    "$$\n",
    "    S(n) - 1 = \\frac{16h^3 + 30h^2 + 26h}{3}\n",
    "$$\n",
    "\n",
    "In our case, $h=500$, which yields the final answer:"
   ]
  },
  {
   "cell_type": "code",
   "execution_count": 67,
   "metadata": {
    "pycharm": {
     "name": "#%%\n"
    }
   },
   "outputs": [],
   "source": [
    "H = 500\n",
    "A = 1 + (16 * H**3 + 30 * H**2 + 26*H) // 3\n",
    "\n",
    "assert A == 669171001"
   ]
  },
  {
   "cell_type": "markdown",
   "metadata": {
    "pycharm": {
     "name": "#%% md\n"
    }
   },
   "source": [
    "## [Problem 29 - Distinct powers](https://projecteuler.net/problem=29)"
   ]
  },
  {
   "cell_type": "code",
   "execution_count": 68,
   "metadata": {
    "pycharm": {
     "name": "#%%\n"
    }
   },
   "outputs": [],
   "source": [
    "R = (2, 101)\n",
    "A = len(set(a ** b for a in range(*R) for b in range(*R)))\n",
    "\n",
    "assert A == 9183"
   ]
  },
  {
   "cell_type": "markdown",
   "metadata": {
    "pycharm": {
     "name": "#%% md\n"
    }
   },
   "source": [
    "## [Problem 30 - Digit fifth powers](https://projecteuler.net/problem=30)\n",
    "\n",
    "Let $f(n)$ be the sum of the fifth powers of the digits of $n$. Because $n$ has $1 + \\left \\lfloor \\log_{10}n \\right \\rfloor$ digits, it holds:\n",
    "\n",
    "$$\n",
    "f(n) \\le 9^5 + 9^5 \\log_{10}n\n",
    "$$\n",
    "\n",
    "Because $f(n)$ grows less than $n$, the set of integers equal to the sum of the fifth powers of their digits is bounded above, for example by $9^6$:\n",
    "\n",
    "$$\n",
    "9^6 \\gt 9^5 + 6 \\times 9^5 \\gt 9^5 + 9^5 \\log_{10} 9^5 \\gt f(9^6)\n",
    "$$"
   ]
  },
  {
   "cell_type": "code",
   "execution_count": 69,
   "metadata": {
    "pycharm": {
     "name": "#%%\n"
    }
   },
   "outputs": [],
   "source": [
    "A = sum(x for x in range(10, 9**6) if x == sum(i**5 for i in digits(x)))\n",
    "\n",
    "assert A == 443839"
   ]
  },
  {
   "cell_type": "markdown",
   "metadata": {
    "pycharm": {
     "name": "#%% md\n"
    }
   },
   "source": [
    "## [Problem 31 - Coin sums](https://projecteuler.net/problem=31)"
   ]
  },
  {
   "cell_type": "code",
   "execution_count": 70,
   "metadata": {
    "pycharm": {
     "name": "#%%\n"
    }
   },
   "outputs": [],
   "source": [
    "coins = (1, 2, 5, 10, 20, 50, 100, 200)\n",
    "N = 200\n",
    "\n",
    "@lru_cache(maxsize=None)\n",
    "def coin_sums(n):\n",
    "    if n < 0:\n",
    "        return set()\n",
    "    if n == 0:\n",
    "        return {tuple(0 for _ in coins)}\n",
    "    R = set()\n",
    "    for i in range(len(coins)):\n",
    "        D = coin_sums(n - coins[i])\n",
    "        for t in D:\n",
    "            R.add(tuple(\n",
    "                t[j] if j != i else t[i] + 1 for j in range(len(coins))\n",
    "            ))\n",
    "    return R\n",
    "\n",
    "A = len(coin_sums(N))\n",
    "\n",
    "assert A == 73682"
   ]
  },
  {
   "cell_type": "markdown",
   "metadata": {
    "pycharm": {
     "name": "#%% md\n"
    }
   },
   "source": [
    "## [Problem 32 - Pandigital products](https://projecteuler.net/problem=32)"
   ]
  },
  {
   "cell_type": "code",
   "execution_count": 71,
   "metadata": {
    "pycharm": {
     "name": "#%%\n"
    }
   },
   "outputs": [],
   "source": [
    "S = set()\n",
    "for i in product(*('abc' for _ in range(9))):\n",
    "    p = defaultdict(set)\n",
    "    for x, y in zip(i, range(1, 10)):\n",
    "        p[x].add(y)\n",
    "    for a, b, c in product(*(permutations(p[x]) for x in 'abc')):\n",
    "        if undigits(a) * undigits(b) == undigits(c):\n",
    "            S.add(undigits(c))\n",
    "\n",
    "A = sum(S)\n",
    "assert A == 45228"
   ]
  },
  {
   "cell_type": "markdown",
   "metadata": {
    "pycharm": {
     "name": "#%% md\n"
    }
   },
   "source": [
    "## [Problem 33 - Digit cancelling fractions](https://projecteuler.net/problem=33)"
   ]
  },
  {
   "cell_type": "code",
   "execution_count": 72,
   "metadata": {
    "pycharm": {
     "name": "#%%\n"
    }
   },
   "outputs": [],
   "source": [
    "R = (10, 100)\n",
    "\n",
    "def is_curious(x, y):\n",
    "    xd = digits(x)\n",
    "    yd = digits(y)\n",
    "\n",
    "    if x % 10 == 0 and y % 10 == 0:\n",
    "        return False\n",
    "\n",
    "    if not any(j in yd for j in xd):\n",
    "        return False\n",
    "\n",
    "    xv = undigits(d for d in xd if d not in yd)\n",
    "    yv = undigits(d for d in yd if d not in xd)\n",
    "    return x * yv == y * xv and xv != 0 and yv != 0\n",
    "\n",
    "S = set((a, b) for a in range(*R) for b in range(*R) if is_curious(a, b))\n",
    "A = prod(F(a, b) for a, b in S if a < b)\n",
    "\n",
    "assert A == F(1, 100)"
   ]
  },
  {
   "cell_type": "markdown",
   "metadata": {
    "pycharm": {
     "name": "#%% md\n"
    }
   },
   "source": [
    "## [Problem 34 - Digit factorials](https://projecteuler.net/problem=34)\n",
    "\n",
    "Let $f(n)$ be the sum of the factorials of the digits of $n$. Because $n$ has $1 + \\left \\lfloor \\log_{10}n \\right \\rfloor$ digits, it holds:\n",
    "\n",
    "$$\n",
    "f(n) \\le 9! + 9! \\log_{10}n\n",
    "$$\n",
    "\n",
    "Because $f(n)$ grows less than $n$, the set of integers equal to the sum of the facrorials of their digits is bounded above, for example by $10!$:\n",
    "\n",
    "$$\n",
    "10! = 9! + 9! \\times 9 \\gt 9! + 9! \\log_{10} 10! \\gt f(10!)\n",
    "$$"
   ]
  },
  {
   "cell_type": "code",
   "execution_count": 73,
   "metadata": {
    "pycharm": {
     "name": "#%%\n"
    }
   },
   "outputs": [],
   "source": [
    "factorial = lambda u: prod(range(1, u+1))\n",
    "A = sum(x for x in range(10, factorial(10)) if x == sum(factorial(i) for i in digits(x)))\n",
    "\n",
    "assert A == 40730"
   ]
  },
  {
   "cell_type": "markdown",
   "metadata": {
    "pycharm": {
     "name": "#%% md\n"
    }
   },
   "source": [
    "## [Problem 35 - Circular primes](https://projecteuler.net/problem=35)"
   ]
  },
  {
   "cell_type": "code",
   "execution_count": 74,
   "metadata": {
    "pycharm": {
     "name": "#%%\n"
    }
   },
   "outputs": [],
   "source": [
    "N = 1_000_000\n",
    "P = {*takewhile(lambda u: u < N, primes())}\n",
    "\n",
    "def rotations(n):\n",
    "    d = digits(n)\n",
    "    return {undigits(d[i:] + d[:i]) for i in range(len(d))}\n",
    "\n",
    "A = sum(1 for x in P if all(i in P for i in rotations(x)))\n",
    "\n",
    "assert A == 55"
   ]
  },
  {
   "cell_type": "markdown",
   "metadata": {
    "pycharm": {
     "name": "#%% md\n"
    }
   },
   "source": [
    "## [Problem 36 - Double-base palindromes](https://projecteuler.net/problem=36)"
   ]
  },
  {
   "cell_type": "code",
   "execution_count": 75,
   "metadata": {
    "pycharm": {
     "name": "#%%\n"
    }
   },
   "outputs": [],
   "source": [
    "N = 1_000_000\n",
    "p = {x for x in range(N) if str(x) == str(x)[::-1]}\n",
    "q = {x for x in p if str(bin(x))[2:] == str(bin(x))[:1:-1]}\n",
    "A = sum(q)\n",
    "\n",
    "assert A == 872187"
   ]
  },
  {
   "cell_type": "markdown",
   "metadata": {
    "pycharm": {
     "name": "#%% md\n"
    }
   },
   "source": [
    "## [Problem 37 - Truncatable primes](https://projecteuler.net/problem=37)"
   ]
  },
  {
   "cell_type": "code",
   "execution_count": 76,
   "metadata": {
    "pycharm": {
     "name": "#%%\n"
    }
   },
   "outputs": [],
   "source": [
    "pf, mpf, pg = set(), -1, primes()\n",
    "\n",
    "def is_prime(f):\n",
    "    global pf, mpf, pg\n",
    "    while f > mpf:\n",
    "        p = next(pg)\n",
    "        mpf = p\n",
    "        pf.add(p)\n",
    "    return f in pf\n",
    "\n",
    "def is_truncatable(n):\n",
    "    d = digits(n)\n",
    "    for i in range(len(d)):\n",
    "        if not is_prime(undigits(d[i:])):\n",
    "            return False\n",
    "    for i in range(1, len(d) + 1):\n",
    "        if not is_prime(undigits(d[:i])):\n",
    "            return False\n",
    "    return True\n",
    "\n",
    "def list_truncatable():\n",
    "    r = 11\n",
    "    for n in count(11):\n",
    "        if is_truncatable(n):\n",
    "            yield n\n",
    "            r -= 1\n",
    "            if not r:\n",
    "                break\n",
    "                \n",
    "A = sum(list_truncatable())\n",
    "\n",
    "assert A == 748317"
   ]
  },
  {
   "cell_type": "markdown",
   "metadata": {
    "pycharm": {
     "name": "#%% md\n"
    }
   },
   "source": [
    "## [Problem 38 - Pandigital multiples](https://projecteuler.net/problem=38)"
   ]
  },
  {
   "cell_type": "code",
   "execution_count": 77,
   "metadata": {
    "pycharm": {
     "name": "#%%\n"
    }
   },
   "outputs": [],
   "source": [
    "def is_pandigital(n):\n",
    "    return n < 10**10 and set(digits(n)) == set(range(1, 10))\n",
    "\n",
    "\n",
    "def max_pandigital():\n",
    "    m = -1\n",
    "    for n in range(10000):\n",
    "        for j in range(2, 1 + 10 // len(digits(n))):\n",
    "            R = range(1, j+1)\n",
    "            x = int(''.join((str(n * u) for u in R)))\n",
    "            if is_pandigital(x):\n",
    "                m = max(m, x)\n",
    "    return m\n",
    "            \n",
    "A = max_pandigital()\n",
    "\n",
    "assert A == 932718654"
   ]
  },
  {
   "cell_type": "markdown",
   "metadata": {
    "pycharm": {
     "name": "#%% md\n"
    }
   },
   "source": [
    "## [Problem 39 - Integer right triangles](https://projecteuler.net/problem=39)"
   ]
  },
  {
   "cell_type": "code",
   "execution_count": 78,
   "metadata": {
    "pycharm": {
     "name": "#%%\n"
    }
   },
   "outputs": [],
   "source": [
    "d = defaultdict(int)\n",
    "for i in range(1, 1001):\n",
    "    for j in range(i + 1, 1001 - i):\n",
    "        k = (i ** 2 + j ** 2) ** .5\n",
    "        if k == int(k):\n",
    "            d[i + j + int(k)] += 1\n",
    "            \n",
    "A = max(\n",
    "    ((u, v) for u, v in d.items() if u <= 1000), \n",
    "    key = lambda u: u[1]\n",
    ")[0]\n",
    "\n",
    "assert A == 840"
   ]
  },
  {
   "cell_type": "markdown",
   "metadata": {
    "pycharm": {
     "name": "#%% md\n"
    }
   },
   "source": [
    "## [Problem 40 - Champerowne's constant](https://projecteuler.net/problem=40)"
   ]
  },
  {
   "cell_type": "code",
   "execution_count": 79,
   "metadata": {
    "pycharm": {
     "name": "#%%\n"
    }
   },
   "outputs": [],
   "source": [
    "def champ():\n",
    "    for n in count(1):\n",
    "        for d in reversed(digits(n)):\n",
    "            yield d\n",
    "            \n",
    "def take_some(it, l, start=0):\n",
    "    return {\n",
    "        n + start: x \n",
    "        for n, x in enumerate(islice(it, 0, max(l)))\n",
    "        if n + start in l\n",
    "    }\n",
    "\n",
    "A = prod(take_some(champ(), {10**u for u in range(7)}, start=1).values())\n",
    "\n",
    "assert A == 210"
   ]
  },
  {
   "cell_type": "markdown",
   "metadata": {
    "pycharm": {
     "name": "#%% md\n"
    }
   },
   "source": [
    "## [Problem 41 - Pandigital prime](https://projecteuler.net/problem=41)\n",
    "\n",
    "It is sufficient to observe that nine- and eight-digit pandigital numbers can't be primes: the sum of their digits is a multiple of $3$."
   ]
  },
  {
   "cell_type": "code",
   "execution_count": 80,
   "metadata": {
    "pycharm": {
     "name": "#%%\n"
    }
   },
   "outputs": [],
   "source": [
    "P = list(takewhile(lambda u: u < 10**5, primes()))\n",
    "\n",
    "def is_prime(n):\n",
    "    return n >= 2 and all((n % p != 0) for p in takewhile(lambda u: u * u <= n, P))\n",
    "        \n",
    "A = max(filter(\n",
    "    is_prime, \n",
    "    (undigits(j) for j in permutations(range(1, 8)))\n",
    "))\n",
    "\n",
    "assert A == 7652413"
   ]
  },
  {
   "cell_type": "markdown",
   "metadata": {
    "pycharm": {
     "name": "#%% md\n"
    }
   },
   "source": [
    "## [Problem 42 - Coded triangle numbers](https://projecteuler.net/problem=42)\n",
    "\n",
    "If $n$ is a triangle, then there must exist a $k$ such that:\n",
    "\n",
    "$$\n",
    "n = \\frac{k(k+1)}{2}\n",
    "$$\n",
    "\n",
    "Hence:\n",
    "\n",
    "$$\n",
    "k^2 + k - 2n = 0 \n",
    "$$\n",
    "\n",
    "Which is true for:\n",
    "\n",
    "$$\n",
    "k = \\frac{-1 \\pm \\sqrt{1 + 8n}}{2}\n",
    "$$"
   ]
  },
  {
   "cell_type": "code",
   "execution_count": 81,
   "metadata": {
    "pycharm": {
     "name": "#%%\n"
    }
   },
   "outputs": [],
   "source": [
    "with open('input/42.txt') as f:\n",
    "    N = f.read().replace('\"', '').split(',')\n",
    "    \n",
    "def val(s):\n",
    "    return sum(1 + ord(c) - ord('a') for c in s.lower())\n",
    "\n",
    "def is_triangle(n):\n",
    "    k = ((1 + 8 * n) ** .5 - 1) / 2\n",
    "    return k == int(k)\n",
    "\n",
    "A = sum(1 for u in N if is_triangle(val(u)))\n",
    "\n",
    "assert A == 162"
   ]
  },
  {
   "cell_type": "markdown",
   "metadata": {
    "pycharm": {
     "name": "#%% md\n"
    }
   },
   "source": [
    "## [Problem 43 - Sub-string divisibility](https://projecteuler.net/problem=43)"
   ]
  },
  {
   "cell_type": "code",
   "execution_count": 82,
   "metadata": {
    "pycharm": {
     "name": "#%%\n"
    }
   },
   "outputs": [],
   "source": [
    "def is_divisible(d):\n",
    "    def num(a, b, c):\n",
    "        return 100 * d[a] + 10 * d[b] + d[c]\n",
    "    return (\n",
    "        num(1, 2, 3) % 2 == 0 and\n",
    "        num(2, 3, 4) % 3 == 0 and\n",
    "        num(3, 4, 5) % 5 == 0 and\n",
    "        num(4, 5, 6) % 7 == 0 and\n",
    "        num(5, 6, 7) % 11 == 0 and\n",
    "        num(6, 7, 8) % 13 == 0 and\n",
    "        num(7, 8, 9) % 17 == 0\n",
    "    )\n",
    "\n",
    "A = sum(\n",
    "    sum(10**e * n for e, n in enumerate(d[::-1]))\n",
    "    for d in permutations(range(10)) \n",
    "    if is_divisible(d)\n",
    ")\n",
    "\n",
    "assert A == 16695334890"
   ]
  },
  {
   "cell_type": "markdown",
   "metadata": {},
   "source": [
    "## [Problem 44 - Pentagon numbers](https://projecteuler.net/problem=44)"
   ]
  },
  {
   "cell_type": "code",
   "execution_count": 83,
   "metadata": {},
   "outputs": [],
   "source": [
    "N = {n * (3 * n - 1) // 2 for n in range(1, 10 ** 4)}\n",
    "\n",
    "\n",
    "def find_minimum_difference(S):\n",
    "    for i in S:\n",
    "        for j in S:\n",
    "            if i == j:\n",
    "                continue\n",
    "            if i + j in S and abs(i - j) in S:\n",
    "                return abs(i - j)\n",
    "\n",
    "\n",
    "A = find_minimum_difference(N)\n",
    "\n",
    "assert A == 5482660"
   ]
  },
  {
   "cell_type": "markdown",
   "metadata": {},
   "source": [
    "## [Problem 45 - Triangular, pentagonal and hexagonal](https://projecteuler.net/problem=45)"
   ]
  },
  {
   "cell_type": "code",
   "execution_count": 84,
   "metadata": {},
   "outputs": [],
   "source": [
    "def triangular():\n",
    "    for n in count(1):\n",
    "        yield n * (n+1) // 2\n",
    "        \n",
    "def pentagonal():\n",
    "    for n in count(1):\n",
    "        yield n * (3 * n - 1) // 2\n",
    "        \n",
    "def hexagonal():\n",
    "    for n in count(1):\n",
    "        yield n * (2 * n - 1)\n",
    "        \n",
    "def find_eq(low, *gen):\n",
    "    state = [(u, next(u)) for u in gen]\n",
    "    while True:\n",
    "        n = state[0][1]\n",
    "        if all(u == n for _, u in state) and n > low:\n",
    "            break\n",
    "        m, _ = min(enumerate(state), key=lambda u: u[1][1])\n",
    "        g, _ = state[m]\n",
    "        state[m] = g, next(g)\n",
    "    return n\n",
    "    \n",
    "    \n",
    "A = find_eq(40755, triangular(), pentagonal(), hexagonal())\n",
    "\n",
    "assert A == 1533776805"
   ]
  },
  {
   "cell_type": "markdown",
   "metadata": {},
   "source": [
    "## [Problem 46 - Goldbach's other conjecture](https://projecteuler.net/problem=46)"
   ]
  },
  {
   "cell_type": "code",
   "execution_count": 85,
   "metadata": {},
   "outputs": [],
   "source": [
    "pf, mpf, pg = set(), -1, primes()\n",
    "\n",
    "def is_prime(f):\n",
    "    global pf, mpf, pg\n",
    "    while f > mpf:\n",
    "        p = next(pg)\n",
    "        mpf = p\n",
    "        pf.add(p)\n",
    "    return f in pf\n",
    "\n",
    "\n",
    "def is_square(n):\n",
    "    if n < 0:\n",
    "        return False\n",
    "    return sqrt(n) == int(sqrt(n))\n",
    "\n",
    "\n",
    "def min_counterexample():\n",
    "    for i in count(9):\n",
    "        if i % 2 == 0:\n",
    "            continue\n",
    "        if is_prime(i):\n",
    "            continue\n",
    "        for p in pf:\n",
    "            if is_square((i - p) // 2):\n",
    "                break\n",
    "        else:\n",
    "            return i\n",
    "\n",
    "\n",
    "A = min_counterexample()\n",
    "\n",
    "assert A == 5777"
   ]
  },
  {
   "cell_type": "markdown",
   "metadata": {},
   "source": [
    "## [Problem 47 - Distinct primes factors](https://projecteuler.net/problem=47)"
   ]
  },
  {
   "cell_type": "code",
   "execution_count": 86,
   "metadata": {},
   "outputs": [],
   "source": [
    "P = list(takewhile(lambda u: u < 10 ** 6, primes()))\n",
    "\n",
    "def unique_factors(n):\n",
    "    pf = 0\n",
    "    for p in P:\n",
    "        if n <= 1:\n",
    "            return pf\n",
    "        if n % p == 0:\n",
    "            pf += 1\n",
    "            while n % p == 0:\n",
    "                n /= p\n",
    "    return pf\n",
    "\n",
    "\n",
    "def find_consecutive(l):\n",
    "    c = 0\n",
    "    for n in count(2):\n",
    "        if unique_factors(n) == l:\n",
    "            c += 1\n",
    "        else:\n",
    "            c = 0\n",
    "        if c == l:\n",
    "            return n - l + 1\n",
    "\n",
    "\n",
    "A = find_consecutive(4)\n",
    "\n",
    "assert A == 134043"
   ]
  },
  {
   "cell_type": "markdown",
   "metadata": {},
   "source": [
    "## [Problem 48 - Self powers](https://projecteuler.net/problem=48)"
   ]
  },
  {
   "cell_type": "code",
   "execution_count": 87,
   "metadata": {},
   "outputs": [],
   "source": [
    "N = 10 ** 10\n",
    "M = range(1, 1001)\n",
    "A = sum(pow(i, i, mod=N) for i in M) % N\n",
    "\n",
    "assert A == 9110846700"
   ]
  },
  {
   "cell_type": "markdown",
   "metadata": {},
   "source": [
    "## [Problem 49 - Prime permutations](https://projecteuler.net/problem=49)"
   ]
  },
  {
   "cell_type": "code",
   "execution_count": 88,
   "metadata": {},
   "outputs": [],
   "source": [
    "P = set(takewhile(lambda u: u < 10000, primes()))\n",
    "\n",
    "def gen_seq():\n",
    "    for i in range(1000, 10000):\n",
    "        for j in range(1, (10000 - i) // 2):\n",
    "            yield i, i + j, i + 2 * j\n",
    "\n",
    "def is_prime_perm(u):\n",
    "    return (\n",
    "        all(n in P for n in u) \n",
    "        and all(Counter(digits(u[0])) == Counter(digits(n)) for n in u)\n",
    "    )\n",
    "\n",
    "A = set(filter(is_prime_perm, gen_seq()))\n",
    "\n",
    "assert A == {(1487, 4817, 8147), (2969, 6299, 9629)}"
   ]
  },
  {
   "cell_type": "markdown",
   "metadata": {},
   "source": [
    "## [Problem 50 - Consecutive prime sum](https://projecteuler.net/problem=50)"
   ]
  },
  {
   "cell_type": "code",
   "execution_count": 89,
   "metadata": {},
   "outputs": [],
   "source": [
    "P = list(takewhile(lambda u: u < 10 ** 6, primes()))\n",
    "S = set(P)\n",
    "\n",
    "A, n = 0, 0\n",
    "for i in range(len(P)):\n",
    "    s = P[i]\n",
    "    for j in range(i+1, len(P)):\n",
    "        s += P[j]\n",
    "        if s > 10 ** 6:\n",
    "            break\n",
    "        if s in S and n < j - i:\n",
    "            A, n = s, j - i\n",
    "\n",
    "assert A == 997651"
   ]
  }
 ],
 "metadata": {
  "interpreter": {
   "hash": "aee8b7b246df8f9039afb4144a1f6fd8d2ca17a180786b69acc140d282b71a49"
  },
  "kernelspec": {
   "display_name": "Python 3",
   "language": "python",
   "name": "python3"
  },
  "language_info": {
   "codemirror_mode": {
    "name": "ipython",
    "version": 3
   },
   "file_extension": ".py",
   "mimetype": "text/x-python",
   "name": "python",
   "nbconvert_exporter": "python",
   "pygments_lexer": "ipython3",
   "version": "3.11.0"
  }
 },
 "nbformat": 4,
 "nbformat_minor": 4
}
