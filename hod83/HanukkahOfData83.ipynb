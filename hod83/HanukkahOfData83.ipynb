{
 "cells": [
  {
   "cell_type": "markdown",
   "metadata": {},
   "source": [
    "# Hanukkah Of Data 5783\n",
    "\n",
    "> Shut up and calculate!\n",
    "\n",
    "-- David Mermin"
   ]
  },
  {
   "cell_type": "markdown",
   "metadata": {},
   "source": [
    "## Imports and Definitions"
   ]
  },
  {
   "cell_type": "code",
   "execution_count": 7,
   "metadata": {},
   "outputs": [],
   "source": [
    "import pandas as pd\n",
    "from operator import or_\n",
    "from functools import reduce\n",
    "from itertools import zip_longest\n",
    "import urllib.request\n",
    "from zipfile import ZipFile"
   ]
  },
  {
   "attachments": {},
   "cell_type": "markdown",
   "metadata": {},
   "source": [
    "## Downloading Data"
   ]
  },
  {
   "cell_type": "code",
   "execution_count": 8,
   "metadata": {},
   "outputs": [],
   "source": [
    "url = 'https://hanukkah.bluebird.sh/5783/noahs-csv.zip'\n",
    "filename = \"noahs-csv.zip\"\n",
    "password = b\"5777\"\n",
    "\n",
    "with (\n",
    "    urllib.request.urlopen(url) as f,\n",
    "    open(filename, \"wb\") as o,\n",
    "):\n",
    "    o.write(f.read())\n",
    "\n",
    "with ZipFile(filename) as z:\n",
    "    z.extractall(path='./data', pwd=password)"
   ]
  },
  {
   "cell_type": "markdown",
   "metadata": {},
   "source": [
    "## [Puzzle 1](https://hanukkah.bluebird.sh/5783/1/)"
   ]
  },
  {
   "cell_type": "code",
   "execution_count": 9,
   "metadata": {},
   "outputs": [
    {
     "data": {
      "text/plain": "      customerid            name        address        citystatezip  \\\n2187        3188  Sam Guttenberg  221 Banker St  Brooklyn, NY 11222   \n\n       birthdate         phone   last_name  match  \n2187  1998-05-30  488-836-2374  Guttenberg   True  ",
      "text/html": "<div>\n<style scoped>\n    .dataframe tbody tr th:only-of-type {\n        vertical-align: middle;\n    }\n\n    .dataframe tbody tr th {\n        vertical-align: top;\n    }\n\n    .dataframe thead th {\n        text-align: right;\n    }\n</style>\n<table border=\"1\" class=\"dataframe\">\n  <thead>\n    <tr style=\"text-align: right;\">\n      <th></th>\n      <th>customerid</th>\n      <th>name</th>\n      <th>address</th>\n      <th>citystatezip</th>\n      <th>birthdate</th>\n      <th>phone</th>\n      <th>last_name</th>\n      <th>match</th>\n    </tr>\n  </thead>\n  <tbody>\n    <tr>\n      <th>2187</th>\n      <td>3188</td>\n      <td>Sam Guttenberg</td>\n      <td>221 Banker St</td>\n      <td>Brooklyn, NY 11222</td>\n      <td>1998-05-30</td>\n      <td>488-836-2374</td>\n      <td>Guttenberg</td>\n      <td>True</td>\n    </tr>\n  </tbody>\n</table>\n</div>"
     },
     "execution_count": 9,
     "metadata": {},
     "output_type": "execute_result"
    }
   ],
   "source": [
    "def is_matching(s, phone):\n",
    "    l = {\n",
    "        2: \"abc\", 3: \"def\", 4: \"ghi\",\n",
    "        5: \"jkl\", 6: \"mno\", 7: \"pqrs\",\n",
    "        8: \"tuv\", 9: \"wxyz\"\n",
    "    }\n",
    "    m = reduce(or_, ({c: k for c in v} for k, v in l.items()))\n",
    "    \n",
    "    n = (c.lower() for c in s if c.isalpha())\n",
    "    p = (int(c) for c in phone if c.isdigit())\n",
    "    return all(m.get(a, '?') == b for a, b in zip_longest(n, p))\n",
    "\n",
    "\n",
    "def last_name(name):\n",
    "    return name.split()[1]\n",
    "\n",
    "\n",
    "df = pd.read_csv('data/noahs-customers.csv')\n",
    "df['last_name'] = df.apply(lambda r: last_name(r['name']), axis=1)\n",
    "df['match'] = df.apply(lambda r: is_matching(r['last_name'], r['phone']), axis=1)\n",
    "df.query('match')"
   ]
  },
  {
   "cell_type": "markdown",
   "metadata": {},
   "source": [
    "## [Puzzle 2](https://hanukkah.bluebird.sh/5783/2/)"
   ]
  },
  {
   "cell_type": "code",
   "execution_count": 10,
   "metadata": {},
   "outputs": [
    {
     "data": {
      "text/plain": "            orderid              ordered              shipped  items  total  \\\ncustomerid                                                                    \n3704          25377  2017-10-03 13:21:53  2017-10-04 11:15:00    NaN  19.67   \n4164           8557  2017-04-17 14:39:59  2017-04-17 14:39:59    NaN  33.22   \n\n                    name           address                citystatezip  \\\ncustomerid                                                               \n3704         James Davis      2380 Park Dr            Dallas, TX 75227   \n4164        Jeremy Davis  134-10 Foch Blvd  South Ozone Park, NY 11420   \n\n             birthdate         phone initials  \ncustomerid                                     \n3704        1974-04-08  682-969-2705       JD  \n4164        1995-07-26  212-771-8924       JD  ",
      "text/html": "<div>\n<style scoped>\n    .dataframe tbody tr th:only-of-type {\n        vertical-align: middle;\n    }\n\n    .dataframe tbody tr th {\n        vertical-align: top;\n    }\n\n    .dataframe thead th {\n        text-align: right;\n    }\n</style>\n<table border=\"1\" class=\"dataframe\">\n  <thead>\n    <tr style=\"text-align: right;\">\n      <th></th>\n      <th>orderid</th>\n      <th>ordered</th>\n      <th>shipped</th>\n      <th>items</th>\n      <th>total</th>\n      <th>name</th>\n      <th>address</th>\n      <th>citystatezip</th>\n      <th>birthdate</th>\n      <th>phone</th>\n      <th>initials</th>\n    </tr>\n    <tr>\n      <th>customerid</th>\n      <th></th>\n      <th></th>\n      <th></th>\n      <th></th>\n      <th></th>\n      <th></th>\n      <th></th>\n      <th></th>\n      <th></th>\n      <th></th>\n      <th></th>\n    </tr>\n  </thead>\n  <tbody>\n    <tr>\n      <th>3704</th>\n      <td>25377</td>\n      <td>2017-10-03 13:21:53</td>\n      <td>2017-10-04 11:15:00</td>\n      <td>NaN</td>\n      <td>19.67</td>\n      <td>James Davis</td>\n      <td>2380 Park Dr</td>\n      <td>Dallas, TX 75227</td>\n      <td>1974-04-08</td>\n      <td>682-969-2705</td>\n      <td>JD</td>\n    </tr>\n    <tr>\n      <th>4164</th>\n      <td>8557</td>\n      <td>2017-04-17 14:39:59</td>\n      <td>2017-04-17 14:39:59</td>\n      <td>NaN</td>\n      <td>33.22</td>\n      <td>Jeremy Davis</td>\n      <td>134-10 Foch Blvd</td>\n      <td>South Ozone Park, NY 11420</td>\n      <td>1995-07-26</td>\n      <td>212-771-8924</td>\n      <td>JD</td>\n    </tr>\n  </tbody>\n</table>\n</div>"
     },
     "execution_count": 10,
     "metadata": {},
     "output_type": "execute_result"
    }
   ],
   "source": [
    "def initials(name):\n",
    "    return ''.join(s[0] for s in name.split())\n",
    "    \n",
    "\n",
    "c = pd.read_csv('data/noahs-customers.csv').set_index('customerid')\n",
    "o = pd.read_csv('data/noahs-orders.csv').set_index('customerid')\n",
    "\n",
    "\n",
    "j = (\n",
    "    o.join(c)\n",
    "     .groupby('customerid')\n",
    "     .max()\n",
    ")\n",
    "\n",
    "j['initials'] = j.apply(lambda r: initials(r['name']), axis=1)\n",
    "j.query('ordered < \"2018-01-01\" and initials == \"JD\"')"
   ]
  },
  {
   "cell_type": "markdown",
   "metadata": {},
   "source": [
    "## [Puzzle 3](https://hanukkah.bluebird.sh/5783/3/)"
   ]
  },
  {
   "cell_type": "markdown",
   "metadata": {},
   "source": [
    "> Aries (♈︎) (Greek: Κριός, romanized: Kriós, Latin for \"ram\") is the first astrological sign in the zodiac, spanning the first 30 degrees of celestial longitude (0°≤ λ <30°), and originates from the Aries constellation. Under the tropical zodiac, the Sun transits this sign from approximately **March 21 to April 19** each year."
   ]
  },
  {
   "cell_type": "markdown",
   "metadata": {},
   "source": [
    "> The sexagenary cycle, also known as the Stems-and-Branches or ganzhi (Chinese: 干支), is a cycle of sixty terms, each corresponding to one year, thus a total of sixty years for one cycle, historically used for recording time in China and the rest of the East Asian cultural sphere.\n",
    "\n",
    "> Each term in the sexagenary cycle consists of two Chinese characters, the first being one of the ten Heavenly Stems of the Shang-era week and the second being one of the twelve Earthly Branches representing the years of Jupiter's duodecennial orbital cycle. The first term jiǎzǐ (甲子) combines the first heavenly stem with the first earthly branch. The second term yǐchǒu (乙丑) combines the second stem with the second branch.\n",
    "\n",
    "I guess this explains why it's called the *chinese* remainder theorem.\n",
    "\n",
    "Dog years are congruent to $2$ $\\pmod {12}$."
   ]
  },
  {
   "cell_type": "code",
   "execution_count": 11,
   "metadata": {},
   "outputs": [
    {
     "data": {
      "text/plain": "      customerid          name          address                citystatezip  \\\n1273        2274  Brent Nguyen  109-19 110th St  South Ozone Park, NY 11420   \n\n      birthdate         phone  is_dog  is_aries  \n1273 1958-03-25  516-636-7397    True      True  ",
      "text/html": "<div>\n<style scoped>\n    .dataframe tbody tr th:only-of-type {\n        vertical-align: middle;\n    }\n\n    .dataframe tbody tr th {\n        vertical-align: top;\n    }\n\n    .dataframe thead th {\n        text-align: right;\n    }\n</style>\n<table border=\"1\" class=\"dataframe\">\n  <thead>\n    <tr style=\"text-align: right;\">\n      <th></th>\n      <th>customerid</th>\n      <th>name</th>\n      <th>address</th>\n      <th>citystatezip</th>\n      <th>birthdate</th>\n      <th>phone</th>\n      <th>is_dog</th>\n      <th>is_aries</th>\n    </tr>\n  </thead>\n  <tbody>\n    <tr>\n      <th>1273</th>\n      <td>2274</td>\n      <td>Brent Nguyen</td>\n      <td>109-19 110th St</td>\n      <td>South Ozone Park, NY 11420</td>\n      <td>1958-03-25</td>\n      <td>516-636-7397</td>\n      <td>True</td>\n      <td>True</td>\n    </tr>\n  </tbody>\n</table>\n</div>"
     },
     "execution_count": 11,
     "metadata": {},
     "output_type": "execute_result"
    }
   ],
   "source": [
    "def is_dog(date):\n",
    "    return date.year % 12 == 2\n",
    "\n",
    "\n",
    "def is_aries(date):\n",
    "    return (\n",
    "        (date.month == 3 and date.day >= 21) or \n",
    "        (date.month == 4 and date.day <= 19)\n",
    "    )\n",
    "\n",
    "\n",
    "df = pd.read_csv('data/noahs-customers.csv')\n",
    "\n",
    "df['birthdate'] = pd.to_datetime(df['birthdate'])    \n",
    "df['is_dog'] = df.apply(lambda r: is_dog(r['birthdate']), axis=1)\n",
    "df['is_aries'] = df.apply(lambda r: is_aries(r['birthdate']), axis=1)\n",
    "\n",
    "df.query('is_dog and is_aries and citystatezip == \"South Ozone Park, NY 11420\"')"
   ]
  },
  {
   "cell_type": "markdown",
   "metadata": {},
   "source": [
    "## [Puzzle 4](https://hanukkah.bluebird.sh/5783/4/)"
   ]
  },
  {
   "cell_type": "code",
   "execution_count": 12,
   "metadata": {},
   "outputs": [
    {
     "data": {
      "text/plain": "                     name         phone\norderid                                \n201780   Christina Booker  718-649-9036\n26173       Heather Brown  929-518-7269",
      "text/html": "<div>\n<style scoped>\n    .dataframe tbody tr th:only-of-type {\n        vertical-align: middle;\n    }\n\n    .dataframe tbody tr th {\n        vertical-align: top;\n    }\n\n    .dataframe thead th {\n        text-align: right;\n    }\n</style>\n<table border=\"1\" class=\"dataframe\">\n  <thead>\n    <tr style=\"text-align: right;\">\n      <th></th>\n      <th>name</th>\n      <th>phone</th>\n    </tr>\n    <tr>\n      <th>orderid</th>\n      <th></th>\n      <th></th>\n    </tr>\n  </thead>\n  <tbody>\n    <tr>\n      <th>201780</th>\n      <td>Christina Booker</td>\n      <td>718-649-9036</td>\n    </tr>\n    <tr>\n      <th>26173</th>\n      <td>Heather Brown</td>\n      <td>929-518-7269</td>\n    </tr>\n  </tbody>\n</table>\n</div>"
     },
     "execution_count": 12,
     "metadata": {},
     "output_type": "execute_result"
    }
   ],
   "source": [
    "p = pd.read_csv('data/noahs-products.csv')\n",
    "o = pd.read_csv('data/noahs-orders.csv').set_index('orderid')\n",
    "c = pd.read_csv('data/noahs-customers.csv').set_index('customerid')\n",
    "op = pd.read_csv('data/noahs-orders_items.csv').set_index('orderid')\n",
    "\n",
    "\n",
    "def is_dawn(date):\n",
    "    return date.hour == 4\n",
    "\n",
    "\n",
    "p['is_pastry'] = p.apply(lambda r: r['sku'].startswith('BKY'), axis=1)\n",
    "p = p.query('is_pastry').set_index('sku')\n",
    "\n",
    "j = (\n",
    "    op.join(o)\n",
    "        .join(p, on='sku', how='inner')\n",
    "        .join(c, on='customerid')\n",
    ")\n",
    "\n",
    "j['shipped'] = pd.to_datetime(j['shipped'])\n",
    "j['ordered'] = pd.to_datetime(j['ordered'])\n",
    "j['is_dawn'] = j.apply(lambda r: is_dawn(r['shipped']) and is_dawn(r['ordered']), axis=1)\n",
    "j.query('is_dawn')[['name', 'phone']].drop_duplicates()\n"
   ]
  },
  {
   "attachments": {},
   "cell_type": "markdown",
   "metadata": {},
   "source": [
    "## [Puzzle 5](https://hanukkah.bluebird.sh/5783/5/)"
   ]
  },
  {
   "cell_type": "code",
   "execution_count": 13,
   "metadata": {},
   "outputs": [
    {
     "data": {
      "text/plain": "            is_petfood        name             address  \\\ncustomerid                                               \n7675                17  Anita Koch     106-51 214th St   \n5486                 3   Sam House     220-8 111th Ave   \n3335                 1   Jose Cook  225-24 Murdock Ave   \n\n                        citystatezip   birthdate         phone  \ncustomerid                                                      \n7675        Queens Village, NY 11429  1955-11-14  315-492-7411  \n5486        Queens Village, NY 11429  1955-11-10  607-836-2966  \n3335        Queens Village, NY 11429  1950-03-27  516-745-9461  ",
      "text/html": "<div>\n<style scoped>\n    .dataframe tbody tr th:only-of-type {\n        vertical-align: middle;\n    }\n\n    .dataframe tbody tr th {\n        vertical-align: top;\n    }\n\n    .dataframe thead th {\n        text-align: right;\n    }\n</style>\n<table border=\"1\" class=\"dataframe\">\n  <thead>\n    <tr style=\"text-align: right;\">\n      <th></th>\n      <th>is_petfood</th>\n      <th>name</th>\n      <th>address</th>\n      <th>citystatezip</th>\n      <th>birthdate</th>\n      <th>phone</th>\n    </tr>\n    <tr>\n      <th>customerid</th>\n      <th></th>\n      <th></th>\n      <th></th>\n      <th></th>\n      <th></th>\n      <th></th>\n    </tr>\n  </thead>\n  <tbody>\n    <tr>\n      <th>7675</th>\n      <td>17</td>\n      <td>Anita Koch</td>\n      <td>106-51 214th St</td>\n      <td>Queens Village, NY 11429</td>\n      <td>1955-11-14</td>\n      <td>315-492-7411</td>\n    </tr>\n    <tr>\n      <th>5486</th>\n      <td>3</td>\n      <td>Sam House</td>\n      <td>220-8 111th Ave</td>\n      <td>Queens Village, NY 11429</td>\n      <td>1955-11-10</td>\n      <td>607-836-2966</td>\n    </tr>\n    <tr>\n      <th>3335</th>\n      <td>1</td>\n      <td>Jose Cook</td>\n      <td>225-24 Murdock Ave</td>\n      <td>Queens Village, NY 11429</td>\n      <td>1950-03-27</td>\n      <td>516-745-9461</td>\n    </tr>\n  </tbody>\n</table>\n</div>"
     },
     "execution_count": 13,
     "metadata": {},
     "output_type": "execute_result"
    }
   ],
   "source": [
    "p = pd.read_csv('data/noahs-products.csv').set_index('sku')\n",
    "o = pd.read_csv('data/noahs-orders.csv').set_index('orderid')\n",
    "c = pd.read_csv('data/noahs-customers.csv').set_index('customerid')\n",
    "op = pd.read_csv('data/noahs-orders_items.csv').set_index('orderid')\n",
    "\n",
    "j = (\n",
    "    op.join(o)\n",
    "        .join(p, on='sku', how='inner')\n",
    "        .join(c, on='customerid')\n",
    ")\n",
    "\n",
    "j['is_petfood'] = j.apply(lambda r: r['sku'].startswith('PET'), axis=1)\n",
    "\n",
    "agg = (\n",
    "    j[['customerid', 'is_petfood']]\n",
    "        .groupby('customerid')\n",
    "        .sum()\n",
    "        .query('is_petfood > 0')\n",
    ")\n",
    "\n",
    "agg.join(c, on='customerid') \\\n",
    "    .query('citystatezip == \"Queens Village, NY 11429\"') \\\n",
    "    .sort_values('is_petfood', ascending=False)"
   ]
  },
  {
   "attachments": {},
   "cell_type": "markdown",
   "metadata": {},
   "source": [
    "## [Puzzle 6](https://hanukkah.bluebird.sh/5783/6/)"
   ]
  },
  {
   "cell_type": "code",
   "execution_count": 14,
   "metadata": {},
   "outputs": [
    {
     "data": {
      "text/plain": "            diff  ordered  shipped  items  total               name  \\\ncustomerid                                                            \n8342          15       15       15      0     15     Emily Randolph   \n9723           3        3        3      0      3     Matthew Holmes   \n9893           3        3        3      0      3       Robert White   \n2870           3        3        3      0      3      Steven Reilly   \n2956           3        3        3      0      3  Jonathan Williams   \n...          ...      ...      ...    ...    ...                ...   \n5173           1        1        1      0      1          John Long   \n5231           1        1        1      0      1        Maria Cross   \n5264           1        1        1      0      1      Melissa Munoz   \n5268           1        1        1      0      1   Daniel Velazquez   \n12077          1        1        1      0      1     Darius Johnson   \n\n                       address         citystatezip   birthdate         phone  \ncustomerid                                                                     \n8342            1055A E 3rd St   Brooklyn, NY 11230  1988-10-30  914-868-0316  \n9723           186½ W 105th St  Manhattan, NY 10025  1950-03-02  516-986-1842  \n9893           1503 Leland Ave      Bronx, NY 10460  1959-11-26  914-548-7137  \n2870         969 Lexington Ave  Manhattan, NY 10021  1995-09-26  680-315-1072  \n2956             2116B 3rd Ave  Manhattan, NY 10029  1943-08-13  332-668-0158  \n...                        ...                  ...         ...           ...  \n5173        713C E Tremont Ave      Bronx, NY 10457  1970-08-14  680-421-2701  \n5231         20-79 Crescent St    Astoria, NY 11105  1969-09-17  680-413-4429  \n5264           241A E 204th St      Bronx, NY 10458  1983-12-05  516-377-0946  \n5268            3708 Irwin Ave      Bronx, NY 10463  1974-12-14  516-637-5297  \n12077           2247 Grand Ave      Bronx, NY 10453  1989-06-18  716-797-4450  \n\n[671 rows x 10 columns]",
      "text/html": "<div>\n<style scoped>\n    .dataframe tbody tr th:only-of-type {\n        vertical-align: middle;\n    }\n\n    .dataframe tbody tr th {\n        vertical-align: top;\n    }\n\n    .dataframe thead th {\n        text-align: right;\n    }\n</style>\n<table border=\"1\" class=\"dataframe\">\n  <thead>\n    <tr style=\"text-align: right;\">\n      <th></th>\n      <th>diff</th>\n      <th>ordered</th>\n      <th>shipped</th>\n      <th>items</th>\n      <th>total</th>\n      <th>name</th>\n      <th>address</th>\n      <th>citystatezip</th>\n      <th>birthdate</th>\n      <th>phone</th>\n    </tr>\n    <tr>\n      <th>customerid</th>\n      <th></th>\n      <th></th>\n      <th></th>\n      <th></th>\n      <th></th>\n      <th></th>\n      <th></th>\n      <th></th>\n      <th></th>\n      <th></th>\n    </tr>\n  </thead>\n  <tbody>\n    <tr>\n      <th>8342</th>\n      <td>15</td>\n      <td>15</td>\n      <td>15</td>\n      <td>0</td>\n      <td>15</td>\n      <td>Emily Randolph</td>\n      <td>1055A E 3rd St</td>\n      <td>Brooklyn, NY 11230</td>\n      <td>1988-10-30</td>\n      <td>914-868-0316</td>\n    </tr>\n    <tr>\n      <th>9723</th>\n      <td>3</td>\n      <td>3</td>\n      <td>3</td>\n      <td>0</td>\n      <td>3</td>\n      <td>Matthew Holmes</td>\n      <td>186½ W 105th St</td>\n      <td>Manhattan, NY 10025</td>\n      <td>1950-03-02</td>\n      <td>516-986-1842</td>\n    </tr>\n    <tr>\n      <th>9893</th>\n      <td>3</td>\n      <td>3</td>\n      <td>3</td>\n      <td>0</td>\n      <td>3</td>\n      <td>Robert White</td>\n      <td>1503 Leland Ave</td>\n      <td>Bronx, NY 10460</td>\n      <td>1959-11-26</td>\n      <td>914-548-7137</td>\n    </tr>\n    <tr>\n      <th>2870</th>\n      <td>3</td>\n      <td>3</td>\n      <td>3</td>\n      <td>0</td>\n      <td>3</td>\n      <td>Steven Reilly</td>\n      <td>969 Lexington Ave</td>\n      <td>Manhattan, NY 10021</td>\n      <td>1995-09-26</td>\n      <td>680-315-1072</td>\n    </tr>\n    <tr>\n      <th>2956</th>\n      <td>3</td>\n      <td>3</td>\n      <td>3</td>\n      <td>0</td>\n      <td>3</td>\n      <td>Jonathan Williams</td>\n      <td>2116B 3rd Ave</td>\n      <td>Manhattan, NY 10029</td>\n      <td>1943-08-13</td>\n      <td>332-668-0158</td>\n    </tr>\n    <tr>\n      <th>...</th>\n      <td>...</td>\n      <td>...</td>\n      <td>...</td>\n      <td>...</td>\n      <td>...</td>\n      <td>...</td>\n      <td>...</td>\n      <td>...</td>\n      <td>...</td>\n      <td>...</td>\n    </tr>\n    <tr>\n      <th>5173</th>\n      <td>1</td>\n      <td>1</td>\n      <td>1</td>\n      <td>0</td>\n      <td>1</td>\n      <td>John Long</td>\n      <td>713C E Tremont Ave</td>\n      <td>Bronx, NY 10457</td>\n      <td>1970-08-14</td>\n      <td>680-421-2701</td>\n    </tr>\n    <tr>\n      <th>5231</th>\n      <td>1</td>\n      <td>1</td>\n      <td>1</td>\n      <td>0</td>\n      <td>1</td>\n      <td>Maria Cross</td>\n      <td>20-79 Crescent St</td>\n      <td>Astoria, NY 11105</td>\n      <td>1969-09-17</td>\n      <td>680-413-4429</td>\n    </tr>\n    <tr>\n      <th>5264</th>\n      <td>1</td>\n      <td>1</td>\n      <td>1</td>\n      <td>0</td>\n      <td>1</td>\n      <td>Melissa Munoz</td>\n      <td>241A E 204th St</td>\n      <td>Bronx, NY 10458</td>\n      <td>1983-12-05</td>\n      <td>516-377-0946</td>\n    </tr>\n    <tr>\n      <th>5268</th>\n      <td>1</td>\n      <td>1</td>\n      <td>1</td>\n      <td>0</td>\n      <td>1</td>\n      <td>Daniel Velazquez</td>\n      <td>3708 Irwin Ave</td>\n      <td>Bronx, NY 10463</td>\n      <td>1974-12-14</td>\n      <td>516-637-5297</td>\n    </tr>\n    <tr>\n      <th>12077</th>\n      <td>1</td>\n      <td>1</td>\n      <td>1</td>\n      <td>0</td>\n      <td>1</td>\n      <td>Darius Johnson</td>\n      <td>2247 Grand Ave</td>\n      <td>Bronx, NY 10453</td>\n      <td>1989-06-18</td>\n      <td>716-797-4450</td>\n    </tr>\n  </tbody>\n</table>\n<p>671 rows × 10 columns</p>\n</div>"
     },
     "execution_count": 14,
     "metadata": {},
     "output_type": "execute_result"
    }
   ],
   "source": [
    "p = pd.read_csv('data/noahs-products.csv').set_index('sku')\n",
    "o = pd.read_csv('data/noahs-orders.csv').set_index('orderid')\n",
    "c = pd.read_csv('data/noahs-customers.csv').set_index('customerid')\n",
    "op = pd.read_csv('data/noahs-orders_items.csv').set_index('orderid')\n",
    "\n",
    "j = op.join(p, on='sku')\n",
    "j['diff'] = j.unit_price - j.wholesale_cost\n",
    "j = j[['diff']].groupby('orderid').sum().query('diff < 0')\n",
    "\n",
    "g = j.join(o).groupby('customerid').count()\n",
    "g.join(c).sort_values('total', ascending=False)"
   ]
  },
  {
   "attachments": {},
   "cell_type": "markdown",
   "metadata": {},
   "source": [
    "## [Puzzle 7](https://hanukkah.bluebird.sh/5783/7/)"
   ]
  },
  {
   "cell_type": "code",
   "execution_count": 15,
   "metadata": {},
   "outputs": [
    {
     "data": {
      "text/plain": "                 name         phone\n28271  Jonathan Adams  315-618-5263",
      "text/html": "<div>\n<style scoped>\n    .dataframe tbody tr th:only-of-type {\n        vertical-align: middle;\n    }\n\n    .dataframe tbody tr th {\n        vertical-align: top;\n    }\n\n    .dataframe thead th {\n        text-align: right;\n    }\n</style>\n<table border=\"1\" class=\"dataframe\">\n  <thead>\n    <tr style=\"text-align: right;\">\n      <th></th>\n      <th>name</th>\n      <th>phone</th>\n    </tr>\n  </thead>\n  <tbody>\n    <tr>\n      <th>28271</th>\n      <td>Jonathan Adams</td>\n      <td>315-618-5263</td>\n    </tr>\n  </tbody>\n</table>\n</div>"
     },
     "execution_count": 15,
     "metadata": {},
     "output_type": "execute_result"
    }
   ],
   "source": [
    "op = pd.read_csv('data/noahs-orders_items.csv').set_index('orderid')\n",
    "p = pd.read_csv('data/noahs-products.csv').set_index('sku')\n",
    "o = pd.read_csv('data/noahs-orders.csv').set_index('orderid')\n",
    "c = pd.read_csv('data/noahs-customers.csv').set_index('customerid')\n",
    "\n",
    "\n",
    "def item_type_color(str):\n",
    "    l = str.split()\n",
    "    if l[-1].startswith('('):\n",
    "        return ' '.join(l[:-1]), l[-1]\n",
    "    else:\n",
    "        return ' '.join(l), ''\n",
    "    \n",
    "\n",
    "j = op.join(p, on='sku')\n",
    "j['type'] = j.apply(lambda r: item_type_color(r['desc'])[0], axis=1)\n",
    "j['color'] = j.apply(lambda r: item_type_color(r['desc'])[1], axis=1)\n",
    "j = j.query('color != \"\"')\n",
    "\n",
    "g = j.join(o, on='orderid')\n",
    "\n",
    "g['ordered'] = g.apply(\n",
    "    lambda r: ''.join(r['ordered'].replace(':', ' ').split()[0:3]), axis=1\n",
    ")\n",
    "\n",
    "g = (\n",
    "    g.merge(g, how='inner', on=['ordered', 'type'])\n",
    "        .query('color_x != color_y')\n",
    "        .query('customerid_x == 8342')\n",
    ")\n",
    "\n",
    "g.join(c, on='customerid_y')[['name', 'phone']]"
   ]
  },
  {
   "attachments": {},
   "cell_type": "markdown",
   "metadata": {},
   "source": [
    "## [Puzzle 8](https://hanukkah.bluebird.sh/5783/8/)"
   ]
  },
  {
   "cell_type": "code",
   "execution_count": 16,
   "metadata": {},
   "outputs": [
    {
     "data": {
      "text/plain": "            sku                 name                            address  \\\ncustomerid                                                                \n4308         81      Travis Bartlett  2527B Adam Clayton Powell Jr Blvd   \n4308         81      Travis Bartlett  2527B Adam Clayton Powell Jr Blvd   \n3076         29       Justin Jimenez                     102½ E 84th St   \n5313         27         Joshua Smith                      97 W 111th St   \n1228         26  Christopher Bennett                     859 E 133rd St   \n...         ...                  ...                                ...   \n7912          1       Kevin Williams                 23-45 White Oak Ct   \n2552          1           Anna Myers                     620 1st Way NW   \n7897          1       Felicia Brewer                    3292 SW Main Dr   \n2553          1         Anne Griffin                      79½ E 19th St   \n1004          1        Steven Miller                      178½ E 7th St   \n\n                       citystatezip   birthdate         phone  \ncustomerid                                                     \n4308            Manhattan, NY 10039  1942-07-22  929-906-5980  \n4308            Manhattan, NY 10039  1942-07-22  929-906-5980  \n3076            Manhattan, NY 10028  1989-03-16  516-722-4758  \n5313            Manhattan, NY 10026  1986-06-04  914-243-3254  \n1228                Bronx, NY 10454  1944-05-03  516-686-9853  \n...                             ...         ...           ...  \n7912        East Elmhurst, NY 11370  1975-01-08  838-946-9841  \n2552                Dover, NH 03820  1958-07-13  603-696-9093  \n7897           Cedar City, UT 84721  1991-11-23  435-322-8020  \n2553            Manhattan, NY 10003  1997-08-26  332-348-6005  \n1004            Manhattan, NY 10009  1953-08-17  607-941-9563  \n\n[3742 rows x 6 columns]",
      "text/html": "<div>\n<style scoped>\n    .dataframe tbody tr th:only-of-type {\n        vertical-align: middle;\n    }\n\n    .dataframe tbody tr th {\n        vertical-align: top;\n    }\n\n    .dataframe thead th {\n        text-align: right;\n    }\n</style>\n<table border=\"1\" class=\"dataframe\">\n  <thead>\n    <tr style=\"text-align: right;\">\n      <th></th>\n      <th>sku</th>\n      <th>name</th>\n      <th>address</th>\n      <th>citystatezip</th>\n      <th>birthdate</th>\n      <th>phone</th>\n    </tr>\n    <tr>\n      <th>customerid</th>\n      <th></th>\n      <th></th>\n      <th></th>\n      <th></th>\n      <th></th>\n      <th></th>\n    </tr>\n  </thead>\n  <tbody>\n    <tr>\n      <th>4308</th>\n      <td>81</td>\n      <td>Travis Bartlett</td>\n      <td>2527B Adam Clayton Powell Jr Blvd</td>\n      <td>Manhattan, NY 10039</td>\n      <td>1942-07-22</td>\n      <td>929-906-5980</td>\n    </tr>\n    <tr>\n      <th>4308</th>\n      <td>81</td>\n      <td>Travis Bartlett</td>\n      <td>2527B Adam Clayton Powell Jr Blvd</td>\n      <td>Manhattan, NY 10039</td>\n      <td>1942-07-22</td>\n      <td>929-906-5980</td>\n    </tr>\n    <tr>\n      <th>3076</th>\n      <td>29</td>\n      <td>Justin Jimenez</td>\n      <td>102½ E 84th St</td>\n      <td>Manhattan, NY 10028</td>\n      <td>1989-03-16</td>\n      <td>516-722-4758</td>\n    </tr>\n    <tr>\n      <th>5313</th>\n      <td>27</td>\n      <td>Joshua Smith</td>\n      <td>97 W 111th St</td>\n      <td>Manhattan, NY 10026</td>\n      <td>1986-06-04</td>\n      <td>914-243-3254</td>\n    </tr>\n    <tr>\n      <th>1228</th>\n      <td>26</td>\n      <td>Christopher Bennett</td>\n      <td>859 E 133rd St</td>\n      <td>Bronx, NY 10454</td>\n      <td>1944-05-03</td>\n      <td>516-686-9853</td>\n    </tr>\n    <tr>\n      <th>...</th>\n      <td>...</td>\n      <td>...</td>\n      <td>...</td>\n      <td>...</td>\n      <td>...</td>\n      <td>...</td>\n    </tr>\n    <tr>\n      <th>7912</th>\n      <td>1</td>\n      <td>Kevin Williams</td>\n      <td>23-45 White Oak Ct</td>\n      <td>East Elmhurst, NY 11370</td>\n      <td>1975-01-08</td>\n      <td>838-946-9841</td>\n    </tr>\n    <tr>\n      <th>2552</th>\n      <td>1</td>\n      <td>Anna Myers</td>\n      <td>620 1st Way NW</td>\n      <td>Dover, NH 03820</td>\n      <td>1958-07-13</td>\n      <td>603-696-9093</td>\n    </tr>\n    <tr>\n      <th>7897</th>\n      <td>1</td>\n      <td>Felicia Brewer</td>\n      <td>3292 SW Main Dr</td>\n      <td>Cedar City, UT 84721</td>\n      <td>1991-11-23</td>\n      <td>435-322-8020</td>\n    </tr>\n    <tr>\n      <th>2553</th>\n      <td>1</td>\n      <td>Anne Griffin</td>\n      <td>79½ E 19th St</td>\n      <td>Manhattan, NY 10003</td>\n      <td>1997-08-26</td>\n      <td>332-348-6005</td>\n    </tr>\n    <tr>\n      <th>1004</th>\n      <td>1</td>\n      <td>Steven Miller</td>\n      <td>178½ E 7th St</td>\n      <td>Manhattan, NY 10009</td>\n      <td>1953-08-17</td>\n      <td>607-941-9563</td>\n    </tr>\n  </tbody>\n</table>\n<p>3742 rows × 6 columns</p>\n</div>"
     },
     "execution_count": 16,
     "metadata": {},
     "output_type": "execute_result"
    }
   ],
   "source": [
    "op = pd.read_csv('data/noahs-orders_items.csv').set_index('orderid')\n",
    "o = pd.read_csv('data/noahs-orders.csv').set_index('orderid')\n",
    "c = pd.read_csv('data/noahs-customers.csv').set_index('customerid')\n",
    "\n",
    "\n",
    "j = op.join(o)\n",
    "j['is_collectible'] = j.apply(lambda r: r['sku'].startswith('COL'), axis=1)\n",
    "\n",
    "cid = (\n",
    "    j.query('is_collectible')\n",
    "        .groupby('customerid')[['sku']]\n",
    "        .nunique()\n",
    ")\n",
    "\n",
    "cid.join(c).sort_values('sku', ascending=False)"
   ]
  }
 ],
 "metadata": {
  "kernelspec": {
   "display_name": "Python 3",
   "language": "python",
   "name": "python3"
  },
  "language_info": {
   "codemirror_mode": {
    "name": "ipython",
    "version": 3
   },
   "file_extension": ".py",
   "mimetype": "text/x-python",
   "name": "python",
   "nbconvert_exporter": "python",
   "pygments_lexer": "ipython3",
   "version": "3.11.0"
  },
  "vscode": {
   "interpreter": {
    "hash": "e7370f93d1d0cde622a1f8e1c04877d8463912d04d973331ad4851f04de6915a"
   }
  }
 },
 "nbformat": 4,
 "nbformat_minor": 4
}
