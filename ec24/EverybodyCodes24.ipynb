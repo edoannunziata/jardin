{
 "cells": [
  {
   "cell_type": "markdown",
   "id": "b257f989-83ae-407e-b1b7-6611afd3eeb2",
   "metadata": {},
   "source": [
    "# Everybody Codes 2024"
   ]
  },
  {
   "cell_type": "markdown",
   "id": "4404e957-b34b-41b1-9b5b-c8ef48df0410",
   "metadata": {},
   "source": [
    "## Imports and definitions"
   ]
  },
  {
   "cell_type": "code",
   "id": "b22fba2f-94f4-47ec-a34c-37144d5d7ccd",
   "metadata": {
    "ExecuteTime": {
     "end_time": "2024-12-08T16:22:41.504737Z",
     "start_time": "2024-12-08T16:22:41.499693Z"
    }
   },
   "source": [
    "import re\n",
    "from itertools import batched, count, cycle, repeat, combinations, accumulate\n",
    "from collections import Counter, defaultdict\n",
    "from statistics import median_low\n",
    "from math import isqrt, inf\n",
    "\n",
    "\n",
    "def ecin(day, part):\n",
    "    with open(f'input/{day}.{part}') as f:\n",
    "        return f.read().strip()"
   ],
   "outputs": [],
   "execution_count": 1
  },
  {
   "cell_type": "markdown",
   "id": "0759af95-05cc-4c23-827b-781840fe691a",
   "metadata": {},
   "source": [
    "## [Quest 1: The Battle for the Farmlands](https://everybody.codes/event/2024/quests/1)"
   ]
  },
  {
   "cell_type": "code",
   "id": "b1ecb1a3-a9a3-4b6a-bd7f-40d0dff0b437",
   "metadata": {
    "ExecuteTime": {
     "end_time": "2024-12-08T16:22:41.516334Z",
     "start_time": "2024-12-08T16:22:41.508068Z"
    }
   },
   "source": [
    "def mult_value(*args):\n",
    "    potions = {'A': 0, 'x': 0, 'B': 1, 'C': 3, 'D': 5}\n",
    "    bonus = {0: 0, 1: 0, 2: 2, 3: 6}\n",
    "    values = Counter(args)\n",
    "    nonempty = len(args) - values['x']\n",
    "    return bonus[nonempty] + sum(potions[t] * c for t, c in values.items())\n",
    "\n",
    "\n",
    "A = sum(mult_value(x) for x in ecin(1, 1))\n",
    "assert A == 1299\n",
    "\n",
    "\n",
    "A = sum(mult_value(a, b) for a, b in batched(ecin(1, 2), 2))\n",
    "assert A == 5699\n",
    "\n",
    "\n",
    "A = sum(mult_value(a, b, c) for a, b, c in batched(ecin(1, 3), 3))\n",
    "assert A == 28170"
   ],
   "outputs": [],
   "execution_count": 2
  },
  {
   "cell_type": "markdown",
   "id": "b82b584f-0c32-44b8-967b-13af5a1c7d3e",
   "metadata": {},
   "source": [
    "## [Quest 2: The Runes of Power](https://everybody.codes/event/2024/quests/2)"
   ]
  },
  {
   "cell_type": "code",
   "id": "4b2f43a9-8cca-4485-a452-168818809b04",
   "metadata": {
    "ExecuteTime": {
     "end_time": "2024-12-08T16:22:41.610117Z",
     "start_time": "2024-12-08T16:22:41.571368Z"
    }
   },
   "source": [
    "def words_regex(words, bidi=False):\n",
    "    words_ = set(words.split(':')[1].split(','))\n",
    "    if bidi:\n",
    "        words_ |= {w[::-1] for w in words_}\n",
    "    words_ = sorted(words_, reverse=True)\n",
    "    regex = '(?=(' +  '|'.join(words_) + '))'\n",
    "    return regex\n",
    "\n",
    "\n",
    "def transpose_text(text):\n",
    "    return '\\n'.join(\n",
    "        ''.join(c)\n",
    "        for c in zip(*text.split('\\n'))\n",
    "    )\n",
    "\n",
    "words, text = ecin(2, 1).split('\\n\\n')\n",
    "A = sum(1 for _ in re.finditer(words_regex(words), text))\n",
    "assert A == 31\n",
    "\n",
    "\n",
    "def n_matching_symbols(regex, text):\n",
    "    symbols = 0\n",
    "    prev = range(0, 0)\n",
    "    \n",
    "    for match in re.finditer(regex, text):\n",
    "        curr = range(match.start(), match.start() + len(match.group(1)))\n",
    "        if prev.start <= curr.start <= prev.stop <= curr.stop:\n",
    "            prev = range(prev.start, curr.stop)\n",
    "        elif prev.start <= prev.stop < curr.start <= curr.stop:\n",
    "            symbols += prev.stop - prev.start\n",
    "            prev = curr\n",
    "    \n",
    "    return symbols + (prev.stop - prev.start)\n",
    "\n",
    "words, text = ecin(2, 2).split('\\n\\n')\n",
    "A = n_matching_symbols(words_regex(words, bidi=True), text)\n",
    "assert A == 5345\n",
    "\n",
    "\n",
    "def n_matching_symbols_grid(regex, text):\n",
    "    matching = set()\n",
    "\n",
    "    for nline, line in enumerate(text.split('\\n')):\n",
    "        for match in re.finditer(regex, line + line):\n",
    "            if match.start() < len(line):\n",
    "                matching |= {\n",
    "                    (nline, t % len(line)) \n",
    "                    for t in range(match.start(), match.start() + len(match.group(1)))\n",
    "                }\n",
    "            else: break\n",
    "\n",
    "    for nline, line in enumerate(transpose_text(text).split('\\n')):\n",
    "        for match in re.finditer(regex, line):\n",
    "            matching |= {\n",
    "                (t, nline) \n",
    "                for t in range(match.start(), match.start() + len(match.group(1)))\n",
    "            }\n",
    "\n",
    "    return len(matching)\n",
    "\n",
    "\n",
    "words, text = ecin(2, 3).split('\\n\\n')\n",
    "A = n_matching_symbols_grid(words_regex(words, bidi=True), text)\n",
    "assert A == 11884"
   ],
   "outputs": [],
   "execution_count": 3
  },
  {
   "cell_type": "markdown",
   "id": "14521d7c-1309-4f7a-99b9-a2d63dfd596c",
   "metadata": {
    "jp-MarkdownHeadingCollapsed": true
   },
   "source": [
    "## [Quest 3: Mining Maestro](https://everybody.codes/event/2024/quests/3)"
   ]
  },
  {
   "cell_type": "code",
   "id": "e5439c2e-d8a7-4203-aad6-91776ee61722",
   "metadata": {
    "ExecuteTime": {
     "end_time": "2024-12-08T16:22:41.629135Z",
     "start_time": "2024-12-08T16:22:41.614039Z"
    }
   },
   "source": [
    "def read_coord(text, symbol='#'):\n",
    "    for i, row in enumerate(text.split('\\n')):\n",
    "        for j, char in enumerate(row):\n",
    "            if char == symbol:\n",
    "                yield i, j\n",
    "\n",
    "\n",
    "def orthogonally_adjacent(i, j):\n",
    "    yield from ((i+1, j), (i-1, j), (i, j+1), (i, j-1))\n",
    "\n",
    "\n",
    "def diagonally_adjacent(i, j):\n",
    "    yield from (\n",
    "        (i-1, j-1), (i-1, j), (i-1, j+1),\n",
    "        (i  , j-1),           (i  , j+1),\n",
    "        (i+1, j-1), (i+1, j), (i+1, j+1)\n",
    "    )\n",
    "\n",
    "def max_mining(coords, adjacency=orthogonally_adjacent):\n",
    "    if not (c := set(coords)): return 0\n",
    "    return len(c) + max_mining({\n",
    "        (i, j)\n",
    "        for (i, j) in c\n",
    "        if all(u in c for u in adjacency(i, j))\n",
    "    }, adjacency=adjacency)\n",
    "\n",
    "\n",
    "A = max_mining(read_coord(ecin(3, 1)))\n",
    "assert A == 116\n",
    "\n",
    "\n",
    "A = max_mining(read_coord(ecin(3, 2)))\n",
    "assert A == 2678\n",
    "\n",
    "\n",
    "text = ecin(3, 3)\n",
    "rows = text.split('\\n')\n",
    "height, width = len(rows), len(rows[0])\n",
    "A = max_mining(read_coord(text), diagonally_adjacent)\n",
    "assert A == 10698"
   ],
   "outputs": [],
   "execution_count": 4
  },
  {
   "cell_type": "markdown",
   "id": "706adbe72264fcaf",
   "metadata": {
    "jp-MarkdownHeadingCollapsed": true
   },
   "source": [
    "## [Quest 4: Royal Smith's Puzzle](https://everybody.codes/event/2024/quests/4)"
   ]
  },
  {
   "cell_type": "code",
   "id": "9c0e5944cae4a273",
   "metadata": {
    "ExecuteTime": {
     "end_time": "2024-12-08T16:22:41.635506Z",
     "start_time": "2024-12-08T16:22:41.632690Z"
    }
   },
   "source": [
    "nails = [*map(int, ecin(4, 1).split('\\n'))]\n",
    "A = sum(nails) - len(nails) * min(nails)\n",
    "assert A == 87\n",
    "\n",
    "\n",
    "nails = [*map(int, ecin(4, 2).split('\\n'))]\n",
    "A = sum(nails) - len(nails) * min(nails)\n",
    "assert A == 894606\n",
    "\n",
    "\n",
    "nails = [*map(int, ecin(4, 3).split('\\n'))]\n",
    "target = median_low(nails)\n",
    "A = sum(abs(x - target) for x in nails)\n",
    "assert A == 120168130"
   ],
   "outputs": [],
   "execution_count": 5
  },
  {
   "cell_type": "markdown",
   "id": "d45a5061eadaa6e4",
   "metadata": {},
   "source": [
    "## [Quest 5: Pseudo-Random Clap Dance](https://everybody.codes/event/2024/quests/5)"
   ]
  },
  {
   "cell_type": "code",
   "id": "a1d2ec7d8e537831",
   "metadata": {
    "ExecuteTime": {
     "end_time": "2024-12-08T16:22:44.284339Z",
     "start_time": "2024-12-08T16:22:41.639377Z"
    }
   },
   "source": [
    "def pivoted_input(text):\n",
    "    return [\n",
    "        list(t)\n",
    "        for t in zip(*[\n",
    "            [int(u) for u in x.split()]\n",
    "            for x in text.split('\\n')\n",
    "        ])\n",
    "    ]\n",
    "\n",
    "\n",
    "def first_elements(lists):\n",
    "    return int(''.join(str(l[0]) for l in lists))\n",
    "\n",
    "\n",
    "def move(lists, r):\n",
    "    clapper_column = r % len(lists)\n",
    "    clapper = lists[clapper_column].pop(0)\n",
    "    target_col = lists[(clapper_column+1) % len(lists)]\n",
    "    position = (clapper - 1) % (2 * len(target_col))\n",
    "    if position >= len(target_col):\n",
    "        position = 2 * len(target_col) - position\n",
    "    target_col.insert(position, clapper)\n",
    "\n",
    "\n",
    "def move_n(lists, n):\n",
    "    for i in range(n):\n",
    "        move(lists, i)\n",
    "\n",
    "\n",
    "lists = pivoted_input(ecin(5, 1))\n",
    "move_n(lists, 10)\n",
    "A = first_elements(lists)\n",
    "assert A == 3222\n",
    "\n",
    "\n",
    "def repeat_until_n(lists, n):\n",
    "    c = Counter()\n",
    "    for i in count(1):\n",
    "        move(lists, i-1)\n",
    "        t = first_elements(lists)\n",
    "        c[t] += 1\n",
    "        if c[t] == n: return i, t\n",
    "\n",
    "\n",
    "rnd, elements = repeat_until_n(pivoted_input(ecin(5, 2)), 2024)\n",
    "A = rnd * elements\n",
    "assert A == 12881059969561\n",
    "\n",
    "\n",
    "def max_repeat_forever(lists):\n",
    "    max_val = 0\n",
    "    seen = set()\n",
    "    for i in count(1):\n",
    "        move(lists, i-1)\n",
    "        if str(lists) in seen: break\n",
    "        seen.add(str(lists))\n",
    "        max_val = max(max_val, first_elements(lists))\n",
    "    return max_val\n",
    "\n",
    "A = max_repeat_forever(pivoted_input(ecin(5, 3)))\n",
    "assert A == 9107100310021002"
   ],
   "outputs": [],
   "execution_count": 6
  },
  {
   "cell_type": "markdown",
   "id": "ba9e010d23af4eb8",
   "metadata": {
    "jp-MarkdownHeadingCollapsed": true
   },
   "source": [
    "## [Quest 6: The Tree of Titans](https://everybody.codes/event/2024/quests/6)"
   ]
  },
  {
   "cell_type": "code",
   "id": "c2e73298005f5a27",
   "metadata": {
    "ExecuteTime": {
     "end_time": "2024-12-08T16:22:44.299841Z",
     "start_time": "2024-12-08T16:22:44.288880Z"
    }
   },
   "source": [
    "def to_adjacency_list(text):\n",
    "    res = defaultdict(list)\n",
    "    for line in text.split('\\n'):\n",
    "        k, v = line.split(':')\n",
    "        vs = v.split(',')\n",
    "        res[k] = vs\n",
    "    return res\n",
    "\n",
    "\n",
    "def path_lengths(tree):\n",
    "    Q = [('RR', [])]\n",
    "    seen = set()\n",
    "    paths_by_len = defaultdict(list)\n",
    "    while Q:\n",
    "        node, path = Q.pop()\n",
    "        seen.add(node)\n",
    "        for adj in tree[node]:\n",
    "            if adj == '@':\n",
    "                paths_by_len[len(path)].append(path + [node, adj])\n",
    "            elif adj not in seen:\n",
    "                Q.append((adj, path + [node]))\n",
    "    return paths_by_len\n",
    "\n",
    "\n",
    "def unique_len(tree):\n",
    "    pl = path_lengths(tree)\n",
    "    for paths in pl.values():\n",
    "        if len(paths) == 1:\n",
    "            return paths[0]\n",
    "       \n",
    "       \n",
    "A = ''.join(unique_len(to_adjacency_list(ecin(6, 1))))\n",
    "assert A == 'RRJQRMCNQMSP@'\n",
    "\n",
    "\n",
    "A = ''.join(s[0] for s in unique_len(to_adjacency_list(ecin(6, 2))))\n",
    "assert A == 'RBPCLWTQKZ@'\n",
    "\n",
    "\n",
    "A = ''.join(s[0] for s in unique_len(to_adjacency_list(ecin(6, 3))))\n",
    "assert A == 'RKBXWHVBZGNF@'"
   ],
   "outputs": [],
   "execution_count": 7
  },
  {
   "cell_type": "markdown",
   "id": "52d72a9b85c60468",
   "metadata": {},
   "source": [
    "## [Quest 7: Not Fast but Furious](https://everybody.codes/event/2024/quests/7)"
   ]
  },
  {
   "cell_type": "code",
   "id": "017d3770-9864-48bb-aa5e-a007b622a364",
   "metadata": {
    "ExecuteTime": {
     "end_time": "2024-12-08T16:22:46.176676Z",
     "start_time": "2024-12-08T16:22:44.303704Z"
    }
   },
   "source": [
    "def to_actions_dict(text):\n",
    "    actions = {}\n",
    "    for line in text.split('\\n'):\n",
    "        name, act = line.split(':')\n",
    "        acts = act.split(',')\n",
    "        actions[name] = acts\n",
    "    return actions\n",
    "\n",
    "def to_racetrack(text):\n",
    "    grid = [[*line] for line in text.split('\\n')]\n",
    "    height, width = len(grid), len(grid[0])\n",
    "    for line in grid:\n",
    "        if (d := width - len(line)) > 0:\n",
    "            line.extend([' '] * d)\n",
    "    x, y = 0, 1\n",
    "    seen = set()\n",
    "    while True:\n",
    "        yield grid[x][y]\n",
    "        seen.add((x, y))\n",
    "        for xx, yy in ((x, y+1), (x+1, y), (x, y-1), (x-1, y)):\n",
    "            if (\n",
    "                0 <= xx < height\n",
    "                and 0 <= yy < width\n",
    "                and (xx, yy) not in seen\n",
    "                and grid[xx][yy] != ' '\n",
    "            ):\n",
    "                x, y = xx, yy\n",
    "                break\n",
    "        else: break\n",
    "\n",
    "def total_power(actions, racetrack=repeat('=')):\n",
    "    curr = 10\n",
    "    tot = 0\n",
    "    for action, tile in zip(actions, racetrack):\n",
    "        match action, tile:\n",
    "            case  _ , '+': curr += 1\n",
    "            case  _ , '-': curr = max(0, curr-1)\n",
    "            case '+',  _ : curr += 1\n",
    "            case '-',  _ : curr = max(0, curr-1)\n",
    "            case  _ ,  _ : pass\n",
    "        tot += curr\n",
    "    return tot\n",
    "\n",
    "\n",
    "actions_dict = to_actions_dict(ecin(7, 1))\n",
    "A = ''.join(n for _, n in sorted(\n",
    "    (\n",
    "        (total_power(actions), name) \n",
    "        for name, actions in actions_dict.items()\n",
    "    ), reverse=True\n",
    "))\n",
    "assert A == 'BAHIFJEGC'\n",
    "\n",
    "\n",
    "actions, racetrack = ecin(7, 2).split('\\n\\n')\n",
    "actions_dict = to_actions_dict(actions)\n",
    "racetrack_lst = list(to_racetrack(racetrack))\n",
    "A = ''.join(n for _, n in sorted(\n",
    "    (\n",
    "        (total_power(cycle(actions), racetrack_lst * 10), name)\n",
    "        for name, actions in actions_dict.items()\n",
    "    ), reverse=True\n",
    "))\n",
    "assert A == 'KCEDFJIAB'\n",
    "\n",
    "\n",
    "def total_power_symbolic(actions, racetrack):\n",
    "    curr = Counter({'': 10})\n",
    "    tot = Counter()\n",
    "    for action, tile in zip(actions, racetrack):\n",
    "        match action, tile:\n",
    "            case  _ , '+': curr += Counter({'': 1})\n",
    "            case  _ , '-': curr -= Counter({'': 1})\n",
    "            case  _ ,  _ : curr += action\n",
    "        tot += curr\n",
    "    return tot\n",
    "\n",
    "\n",
    "def combinations_gt(symbols, symbolic_power, target):\n",
    "    for plus in combinations(symbols, 5):\n",
    "        for minus in combinations((symbols - {*plus}), 3):\n",
    "            if (\n",
    "                    symbolic_power['']\n",
    "                    + sum(symbolic_power[p] for p in plus)\n",
    "                    - sum(symbolic_power[m] for m in minus)\n",
    "            ) > target:\n",
    "                yield plus, minus\n",
    "\n",
    "\n",
    "opponent, racetrack = ecin(7, 3).split('\\n\\n')\n",
    "opponent_actions = to_actions_dict(opponent)['A']\n",
    "racetrack_lst = list(to_racetrack(racetrack))\n",
    "racetrack_loops = racetrack_lst * 2024\n",
    "symbols = 'abcdefghijk'\n",
    "\n",
    "opponent_power = total_power(cycle(opponent_actions), racetrack_loops)\n",
    "our_power = total_power_symbolic(cycle((Counter(j) for j in symbols)), racetrack_loops)\n",
    "A = sum(1 for _ in combinations_gt(set(symbols), our_power, opponent_power))\n",
    "assert A == 6103"
   ],
   "outputs": [],
   "execution_count": 8
  },
  {
   "metadata": {},
   "cell_type": "markdown",
   "source": "## [Quest 8: A Shrine for Nullpointer](https://everybody.codes/event/2024/quests/8)",
   "id": "f148bfba2a3902eb"
  },
  {
   "metadata": {
    "ExecuteTime": {
     "end_time": "2024-12-08T16:22:47.567077Z",
     "start_time": "2024-12-08T16:22:46.181570Z"
    }
   },
   "cell_type": "code",
   "source": [
    "N = int(ecin(8, 1))\n",
    "A = (isqrt(N) * 2 + 1) * ((isqrt(N) + 1) ** 2 - N)\n",
    "assert A == 9681159\n",
    "\n",
    "N, M, blocks = map(int, ecin(8, 2).split('\\n'))\n",
    "\n",
    "def missing_blocks(N, M, blocks):\n",
    "    for i in count():\n",
    "        blocks -= pow(N, i, mod=M) * (2 * i + 1)\n",
    "        if blocks < 0: break\n",
    "    return i, -blocks\n",
    "\n",
    "\n",
    "rnd, missing = missing_blocks(N, M, blocks)\n",
    "A = (2 * rnd + 1) * missing\n",
    "assert A == 107695974\n",
    "\n",
    "\n",
    "def missing_blocks_3(N, M, blocks):\n",
    "    columns = [1]\n",
    "    for i in count(1):\n",
    "        columns.append(((columns[-1] * N) % M) + M)\n",
    "        heights = list(accumulate(columns[::-1]))\n",
    "        heights += heights[-2::-1]\n",
    "        used_blocks = heights[0] + heights[-1] + sum(\n",
    "            j - (N * (2 * i + 1) * j) % M for j in heights[1:-1]\n",
    "        )\n",
    "        if used_blocks >= blocks:\n",
    "            return used_blocks - blocks\n",
    "\n",
    "\n",
    "N, M, blocks = map(int, ecin(8, 3).split('\\n'))\n",
    "A = missing_blocks_3(N, M, blocks)\n",
    "assert A == 41067"
   ],
   "id": "a181f6a419471ad2",
   "outputs": [],
   "execution_count": 9
  },
  {
   "metadata": {},
   "cell_type": "markdown",
   "source": "## [Quest 9: Sparkling Bugs](https://everybody.codes/event/2024/quests/9)",
   "id": "bbe5d9be7e640573"
  },
  {
   "metadata": {
    "ExecuteTime": {
     "end_time": "2024-12-08T16:22:47.797669Z",
     "start_time": "2024-12-08T16:22:47.572341Z"
    }
   },
   "cell_type": "code",
   "source": [
    "def count_ways(n, options):\n",
    "    D = [0] + [inf for _ in range(n)]\n",
    "    for i in range(n+1):\n",
    "        D[i] = 1 + min((D[i-j] for j in options if j <= i), default=D[i]-1)\n",
    "    return D\n",
    "\n",
    "ns = [*map(int, ecin(9, 1).split('\\n'))]\n",
    "D = count_ways(max(ns), (1, 3, 5, 10))\n",
    "A = sum(D[i] for i in ns)\n",
    "assert A == 13612\n",
    "\n",
    "\n",
    "ns = [*map(int, ecin(9, 2).split('\\n'))]\n",
    "D = count_ways(max(ns), (1, 3, 5, 10, 15, 16, 20, 24, 25, 30))\n",
    "A = sum(D[i] for i in ns)\n",
    "assert A == 5072\n",
    "\n",
    "\n",
    "def count_ways_split(n, D):\n",
    "    lo = (n + 1) // 2 - 50\n",
    "    hi = n // 2 + 50\n",
    "    return min(D[i] + D[n-i] for i in range(lo, hi+1))\n",
    "\n",
    "\n",
    "ns = [*map(int, ecin(9, 3).split('\\n'))]\n",
    "D = count_ways(max(ns), (\n",
    "    1, 3, 5, 10, 15, 16, 20, 24, 25, 30,\n",
    "    37, 38, 49, 50, 74, 75, 100, 101\n",
    "))\n",
    "A = sum(count_ways_split(n, D) for n in ns)\n",
    "assert A == 154231"
   ],
   "id": "f574c7d336ebe6fc",
   "outputs": [],
   "execution_count": 10
  }
 ],
 "metadata": {
  "kernelspec": {
   "display_name": "Python 3 (ipykernel)",
   "language": "python",
   "name": "python3"
  },
  "language_info": {
   "codemirror_mode": {
    "name": "ipython",
    "version": 3
   },
   "file_extension": ".py",
   "mimetype": "text/x-python",
   "name": "python",
   "nbconvert_exporter": "python",
   "pygments_lexer": "ipython3",
   "version": "3.12.2"
  }
 },
 "nbformat": 4,
 "nbformat_minor": 5
}
