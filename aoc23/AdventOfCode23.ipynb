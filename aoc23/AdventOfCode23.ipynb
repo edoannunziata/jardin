{
 "cells": [
  {
   "cell_type": "markdown",
   "metadata": {},
   "source": [
    "\n",
    "# Advent of Code 2023"
   ]
  },
  {
   "cell_type": "markdown",
   "metadata": {},
   "source": [
    "> The effort of using machines to mimic the human mind has always struck me as rather silly. I would rather use them to mimic something better.\n",
    "\n",
    "-- Edsger W. Dijkstra"
   ]
  },
  {
   "cell_type": "markdown",
   "metadata": {
    "tags": []
   },
   "source": [
    "## Imports and definitions"
   ]
  },
  {
   "cell_type": "code",
   "execution_count": 4,
   "metadata": {
    "ExecuteTime": {
     "end_time": "2023-12-01T09:21:20.556113023Z",
     "start_time": "2023-12-01T09:21:20.509956788Z"
    }
   },
   "outputs": [],
   "source": [
    "#type: ignore\n",
    "from functools import reduce\n",
    "from operator import mul\n",
    "from math import gcd\n",
    "import re\n",
    "\n",
    "\n",
    "def prod(u): \n",
    "    \"\"\"Older Pythons don't have this.\"\"\"\n",
    "    return reduce(mul, u)\n",
    "\n",
    "\n",
    "def lcm(*u):\n",
    "    \"\"\"Older Pythons don't have this.\"\"\"\n",
    "    return reduce(lambda a, b: a * b // gcd(a, b), u)\n",
    "\n",
    "\n",
    "def inputfunc(day, kind='lines', testing=False):\n",
    "    \"\"\"Generator to read input files.\"\"\"\n",
    "    filename = 'test.txt' if testing else f\"input/{day}.txt\"\n",
    "\n",
    "    def gen(func):\n",
    "        if kind == 'lines':\n",
    "            text = [x.strip() for x in open(filename)]\n",
    "        elif kind == 'chunks':\n",
    "            text = [\n",
    "                x.strip()\n",
    "                for x in open(filename).read().split('\\n\\n')\n",
    "                if x.strip()\n",
    "            ]\n",
    "        elif kind == 'single':\n",
    "            text = open(filename).read().strip()\n",
    "        elif kind == 'commas':\n",
    "            text = [x.strip() for x in open(filename).read().split(',')]\n",
    "        elif kind == 'raw':\n",
    "            text = open(filename).read()\n",
    "\n",
    "        def inner():\n",
    "            return func(f=text)\n",
    "        return inner\n",
    "    return gen"
   ]
  },
  {
   "cell_type": "markdown",
   "metadata": {},
   "source": [
    "## [Day 1 - Trebuchet?!](https://adventofcode.com/2023/day/1)"
   ]
  },
  {
   "cell_type": "code",
   "execution_count": 3,
   "metadata": {
    "ExecuteTime": {
     "end_time": "2023-12-01T09:18:34.498010787Z",
     "start_time": "2023-12-01T09:18:34.481347593Z"
    }
   },
   "outputs": [],
   "source": [
    "@inputfunc(1)\n",
    "def input_1(f):\n",
    "    return f\n",
    "\n",
    "\n",
    "def find_digits(s):\n",
    "    return [int(i) for i in s if i.isdigit()]\n",
    "\n",
    "\n",
    "A = sum(\n",
    "    10 * x[0] + x[-1]\n",
    "    for x in (find_digits(s) for s in input_1())\n",
    ")\n",
    "\n",
    "assert A == 55123\n",
    "\n",
    "\n",
    "d = {\n",
    "    'one': 1,\n",
    "    'two': 2,\n",
    "    'three': 3,\n",
    "    'four': 4,\n",
    "    'five': 5,\n",
    "    'six': 6,\n",
    "    'seven': 7,\n",
    "    'eight': 8,\n",
    "    'nine': 9\n",
    "}\n",
    "\n",
    "r = re.compile(f'(?=(\\\\d|{\"|\".join(d)}))')\n",
    "\n",
    "def find_digit_names(s):\n",
    "    def to_number(p):\n",
    "        if p.isdigit():\n",
    "            return int(p)\n",
    "        else:\n",
    "            return d[p]\n",
    "\n",
    "    return [to_number(p) for p in r.findall(s)]\n",
    "\n",
    "\n",
    "A = sum(\n",
    "    10 * x[0] + x[-1]\n",
    "    for x in (find_digit_names(s) for s in input_1())\n",
    ")\n",
    "\n",
    "assert A == 55260"
   ]
  }
 ],
 "metadata": {
  "interpreter": {
   "hash": "aee8b7b246df8f9039afb4144a1f6fd8d2ca17a180786b69acc140d282b71a49"
  },
  "kernelspec": {
   "display_name": "Python 3 (ipykernel)",
   "language": "python",
   "name": "python3"
  },
  "language_info": {
   "codemirror_mode": {
    "name": "ipython",
    "version": 3
   },
   "file_extension": ".py",
   "mimetype": "text/x-python",
   "name": "python",
   "nbconvert_exporter": "python",
   "pygments_lexer": "ipython3",
   "version": "3.12.0"
  },
  "toc-autonumbering": false,
  "toc-showcode": false,
  "toc-showmarkdowntxt": false,
  "toc-showtags": false
 },
 "nbformat": 4,
 "nbformat_minor": 4
}
