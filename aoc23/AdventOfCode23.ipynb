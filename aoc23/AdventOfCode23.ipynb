{
 "cells": [
  {
   "metadata": {},
   "cell_type": "markdown",
   "source": "\n# Advent of Code 2023"
  },
  {
   "metadata": {},
   "cell_type": "markdown",
   "source": "> The effort of using machines to mimic the human mind has always struck me as rather silly. I would rather use them to mimic something better.\n\n-- Edsger W. Dijkstra"
  },
  {
   "metadata": {
    "tags": []
   },
   "cell_type": "markdown",
   "source": "## Imports and definitions"
  },
  {
   "metadata": {
    "trusted": true,
    "ExecuteTime": {
     "end_time": "2023-12-06T13:55:54.441780879Z",
     "start_time": "2023-12-06T13:55:54.382916290Z"
    }
   },
   "cell_type": "code",
   "source": [
    "#type: ignore\n",
    "from functools import reduce\n",
    "from itertools import product, accumulate\n",
    "from operator import or_, matmul\n",
    "from math import inf, prod, isqrt\n",
    "from dataclasses import dataclass\n",
    "from collections import Counter, defaultdict\n",
    "import re\n",
    "\n",
    "\n",
    "def inputfunc(day, kind='lines', testing=False):\n",
    "    \"\"\"Generator to read input files.\"\"\"\n",
    "    filename = 'test.txt' if testing else f\"input/{day}.txt\"\n",
    "\n",
    "    def gen(func):\n",
    "        if kind == 'lines':\n",
    "            text = [x.strip() for x in open(filename)]\n",
    "        elif kind == 'chunks':\n",
    "            text = [\n",
    "                x.strip()\n",
    "                for x in open(filename).read().split('\\n\\n')\n",
    "                if x.strip()\n",
    "            ]\n",
    "        elif kind == 'single':\n",
    "            text = open(filename).read().strip()\n",
    "        elif kind == 'commas':\n",
    "            text = [x.strip() for x in open(filename).read().split(',')]\n",
    "        elif kind == 'raw':\n",
    "            text = open(filename).read()\n",
    "\n",
    "        def inner():\n",
    "            return func(f=text)\n",
    "        return inner\n",
    "    return gen"
   ],
   "execution_count": 1,
   "outputs": []
  },
  {
   "metadata": {},
   "cell_type": "markdown",
   "source": "## [Day 1 - Trebuchet?!](https://adventofcode.com/2023/day/1)"
  },
  {
   "metadata": {
    "trusted": true,
    "ExecuteTime": {
     "end_time": "2023-12-06T13:55:54.445124324Z",
     "start_time": "2023-12-06T13:55:54.386011485Z"
    }
   },
   "cell_type": "code",
   "source": [
    "@inputfunc(1)\n",
    "def input_1(f):\n",
    "    return f\n",
    "\n",
    "\n",
    "def find_digits(s):\n",
    "    return [int(i) for i in s if i.isdigit()]\n",
    "\n",
    "\n",
    "A = sum(\n",
    "    10 * x[0] + x[-1]\n",
    "    for x in (find_digits(s) for s in input_1())\n",
    ")\n",
    "assert A == 55123\n",
    "\n",
    "\n",
    "d = {\n",
    "    'one': 1,\n",
    "    'two': 2,\n",
    "    'three': 3,\n",
    "    'four': 4,\n",
    "    'five': 5,\n",
    "    'six': 6,\n",
    "    'seven': 7,\n",
    "    'eight': 8,\n",
    "    'nine': 9\n",
    "}\n",
    "\n",
    "regexp = re.compile(f'(?=(\\\\d|{\"|\".join(d)}))')\n",
    "\n",
    "def find_digit_names(s):\n",
    "    def to_number(p):\n",
    "        if p.isdigit():\n",
    "            return int(p)\n",
    "        else:\n",
    "            return d[p]\n",
    "\n",
    "    return [to_number(p) for p in regexp.findall(s)]\n",
    "\n",
    "\n",
    "A = sum(\n",
    "    10 * x[0] + x[-1]\n",
    "    for x in (find_digit_names(s) for s in input_1())\n",
    ")\n",
    "assert A == 55260"
   ],
   "execution_count": 2,
   "outputs": []
  },
  {
   "metadata": {},
   "cell_type": "markdown",
   "source": "## [Day 2 - Cube Conundrum](https://adventofcode.com/2023/day/2)"
  },
  {
   "metadata": {
    "trusted": true,
    "ExecuteTime": {
     "end_time": "2023-12-06T13:55:54.445354780Z",
     "start_time": "2023-12-06T13:55:54.427469092Z"
    }
   },
   "cell_type": "code",
   "source": "@dataclass\nclass Game:\n    gameid: int\n    contents: list[Counter[str, int]]\n\n        \n@inputfunc(2)\ndef input_2(f):\n    for l in f:\n        num, items = l.split(':')\n        \n        _, gameid = num.split()\n        \n        contents = [\n            Counter({\n                b: int(a)\n                for a, b in [\n                    y.split()\n                    for y in x.split(',')\n                ]\n            })\n            for x in items.split(';')\n        ]\n        \n        yield Game(int(gameid), contents)\n\n\ngames = list(input_2())\n\n\nA = sum(\n    game.gameid \n    for game in games\n    if all(\n        d < Counter({'red': 12, 'green': 13, 'blue': 14}) \n        for d in game.contents\n    )\n)\nassert A == 2476\n\n\nA = sum(\n    prod(reduce(or_, game.contents).values())\n    for game in games\n)\nassert A == 54911",
   "execution_count": 3,
   "outputs": []
  },
  {
   "metadata": {},
   "cell_type": "markdown",
   "source": "## [Day 3 - Gear Ratios](https://adventofcode.com/2023/day/3)"
  },
  {
   "metadata": {
    "trusted": true,
    "ExecuteTime": {
     "end_time": "2023-12-06T13:55:54.525085543Z",
     "start_time": "2023-12-06T13:55:54.428861577Z"
    }
   },
   "cell_type": "code",
   "source": "class Grid:\n    def __init__(self, g):\n        self._grid = g\n        self.columns = len(g[0])\n        self.rows = len(g)\n\n    def __getitem__(self, t):\n        x, y = t\n        return self._grid[y][x]\n    \n    def adjacent(self, x, y):\n        return [\n            self[i, j] \n            for i, j in {\n                (x+1, y), (x-1, y), (x, y+1), (x, y-1),\n                (x+1, y+1), (x-1, y+1), (x+1, y-1), (x-1, y-1)\n            }\n            if 0 <= i < self.columns and 0 <= j < self.rows\n        ]\n    \n\n@dataclass\nclass PartNumber:\n    value: int\n    col_start: int\n    col_end: int\n    row: int\n\n\n@inputfunc(3)\ndef input_3(f):\n    return Grid([\n        list(x) for x in f\n    ])\n    \n\ndef find_part_numbers(grid, is_symbol):\n    val, symbol_adjacent = 0, False\n\n    for j in range(grid.rows):\n        for i in range(grid.columns):\n            c = grid[i, j]\n            if c.isdigit():\n                val = 10 * val + int(grid[i, j])\n            if not c.isdigit():\n                if val and symbol_adjacent:\n                    yield PartNumber(\n                        val, i - len(str(val)), i - 1, j\n                    )\n                val, symbol_adjacent = 0, False\n            if val and any(is_symbol(s) for s in grid.adjacent(i, j)):\n                symbol_adjacent = True\n        if val and symbol_adjacent:\n            yield PartNumber(\n                val, grid.columns - len(str(val)), grid.columns - 1, j\n            )\n        val, symbol_adjacent = 0, False\n            \n            \nA = sum(\n    p.value for p in find_part_numbers(\n        input_3(), \n        lambda c: not (c.isdigit() or c == '.')\n    )\n)\nassert A == 536576\n\n\ndef find_gear_ratios(grid):\n    part_numbers = defaultdict(list)\n    for p in find_part_numbers(grid, lambda c: c == '*'):\n        part_numbers[p.row].append(p)\n    \n    for i, j in product(range(grid.columns), range(grid.rows)):\n        if grid[i, j] != '*':\n            continue\n                \n        adjacents = (\n            [\n                p for p in part_numbers[j] \n                if p.col_start == i+1 or p.col_end == i-1\n            ] + [\n                p for p in part_numbers[j-1] + part_numbers[j+1]\n                if p.col_start <= i+1 and p.col_end >= i-1\n            ]\n        )\n            \n        if len(adjacents) == 2:\n            yield adjacents\n            \n    \nA = sum(a.value * b.value for a, b in find_gear_ratios(input_3()))\nassert A == 75741499",
   "execution_count": 4,
   "outputs": []
  },
  {
   "metadata": {},
   "cell_type": "markdown",
   "source": "## [Day 4 - Scratchcards](https://adventofcode.com/2023/day/4)\n\nPart 1 is very simple. The only observation is that it's one of the many declinations of the count distinct problem: let the sets of winning numbers and of the player's numbers be $M$ and $N$ respectively, then $|M \\cap N| = |M| + |N| - |M \\cup N|$. This has a worst-case lower bound of $\\Theta(n \\log n)$ [(for proof see: Grigoriev 99)](https://www.semanticscholar.org/paper/Complexity-lower-bounds-for-randomized-computation-Grigoriev/7b0c914a951bc59bb0cee33f197e6418a3c2600b), which may be achieved in a variety of ways.\n\nThe code implements the expected linear time randomized solution of merging two hash-sets (technically, its worst-case complexity is $\\Theta(n^2)$, but that happens with probability 0).\n\nPart 2 is also very simple. Let $n$ be the number of cards, and let $m$ be the maximum number of numbers appearing in any given card.\n\nWinning cards generate more cards with higher numbers, and the hypotheses of the problem ensure that only copies of cards in the initial range are generated. This is sufficient to easily prove termination, and it suggests a naive algorithm: \n\n- initialize an array $A[1..n]$ with $A[i] = 1$ for all $1 \\le i \\le n$, where $A[i]$ represents the copies of card $i$ we have, initially one.\n- for all $1 \\le j \\le n$, compute how many winning numbers $w_i$ the $i$-th card has, and for all $j+1 \\le k \\le j+w$, let $A[k] \\leftarrow A[k] + A[j]$\n- the final answer is $\\sum A[i]$.\n\nIf we let $f(m)$ be the complexity of the subroutine that computes how many numbers a given card has, it's easy to see that the above algorithm has complexity bounded by $\\Theta(n(m + f(m)))$. But because $f(m) \\in \\Omega(m)$, this is already optimal.\n\nBonus variant. Imagine that instead of having to compute the matching numbers on the cards, we are instead given an oracle for that, in other words, $f(m) \\in \\Theta(1)$. Can we do better than $\\Theta(mn)$? We sure can, thanks to the prefix trick!\n\nLet us initialize an array $A[1..n+1]$ with $A[i] = 0$ for all $2 \\le i \\le n$, $A[1] = 1$ and $A[n+1] = -1$.\n\nThe idea is that the number of copies of card $i$ we have is represented by $\\sum_{j=0}^i A[j]$. If we wish to increase by $h$ the amount of copies of cards $r+1, r+2, \\dots, r+w$, it is sufficient to let $A[r+1] \\leftarrow A[r+1] + h$ and $A[r+w+1] \\leftarrow A[r+w+1] - h$.\n\nTherefore, for each $1 \\le j \\le n$, we let $w_j$ be the winning numbers of the $j$-th card, and $c_j$ be the number of copies of that card. We may simply set $A[j+1] \\leftarrow A[j+1] + c_j$ and $A[j+w_j+1] \\leftarrow A[r+w_j+1] - c_j$.\n\nAt each loop iteration, $c_j$ may be computed as $c_{j-1} + A[j]$ by definition.\n\nThe final answer will be:\n\n$$\n      \\sum_{i=1}^{n} \\sum_{j=1}^{i} A[i]\n    = \\sum_{i=1}^{n+1} \\left( \\sum_{j=1}^{n+1} A[j] - \\sum_{j=i+1}^{n+1} A[j] \\right)\n    = (n+1) \\left( \\sum_{i=1}^{n+1} A[i] \\right) -  \\left( \\sum_{i=1}^{n+1} \\sum_{j=i}^{n+1} A[i] \\right)\n    = \\sum_{i=1}^{n+1} (n-i+1) A[i]\n$$\n\nThe initialization and final computation are linear-time operations, and each loop iteration is constant time, which yields an algorithm of complexity $\\Theta(nf(m))$.\n\nThis could have been such a beautiful problem :-(\n"
  },
  {
   "metadata": {
    "trusted": true,
    "ExecuteTime": {
     "end_time": "2023-12-06T13:55:54.550719476Z",
     "start_time": "2023-12-06T13:55:54.526970912Z"
    }
   },
   "cell_type": "code",
   "source": "@dataclass\nclass Scratchcard:\n    cardid: int\n    winning: set[int]\n    my: set[int]\n    \n    def winning_numbers(self):\n        return len(self.winning & self.my)\n\n    def score(self):\n        s = self.winning_numbers()\n        return s and 2 ** (s-1)\n\n\n@inputfunc(4)\ndef input_4(f):\n    for l in f:\n        num, items = l.split(':')\n        \n        _, cardid = num.split()\n        \n        winning, my = (\n            {int(y) for y in x.split()}\n            for x in items.split('|')\n        ) \n        \n        yield Scratchcard(int(cardid), winning, my)\n       \n        \nA = sum(c.score() for c in input_4())\nassert A == 23941\n\n\ndef recursive_scratchcards(cards):\n    cards_array = [c.winning_numbers() for c in cards]\n    prefix_array = [1] + [0] * (len(cards_array) - 1) + [-1]\n    for n, (w, c) in enumerate(zip(cards_array, accumulate(prefix_array))):\n        prefix_array[n+1] += c\n        prefix_array[n+w+1] -= c\n    return sum(n * c for n, c in enumerate(reversed(prefix_array)))\n    \n\nA = recursive_scratchcards(input_4())\nassert A == 5571760",
   "execution_count": 5,
   "outputs": []
  },
  {
   "metadata": {},
   "cell_type": "markdown",
   "source": "## [Day 5 - If You Give A Seed A Fertilizer](https://adventofcode.com/2023/day/5)\n\nThe mapping represented by the problem is a series of piecewise linear maps $f_1, f_2, \\dots f_n$. The crucial observation is this: because a linear map sends compacts into compacts, then a piecewise linear map sends a finite union of compacts into a finite union of compacts.\n\nThe composition of two piecewise linear maps may be computed entirely symbolically, as can the image of a finite union of compacts through it. \n\nIt is easy to see that the combination of these two sub-problems solves the original problem: one may compute the union of the starting sets (seeds) $U = U_1 \\cup U_2 \\dots \\cup U_n$, the composition $F = f_n \\circ f_{n-1} \\circ \\dots \\circ f_1$ and the final answer $\\inf F(U)$. Alternatively, we may directly compute $f_n(f_{n-1}( \\dots f_1(x) \\dots ))$."
  },
  {
   "metadata": {},
   "cell_type": "markdown",
   "source": "### Lemma: Computing the intersections of two sorted sets of pairwise disjoint intervals\n\nLet $\\iota_i = [\\alpha_i, \\beta_i)$ be a $m$ pairwise disjoint intervals and $\\kappa_i = [\\phi_i, \\psi_i)$ be $n$ pairwise disjoint intervals. Further, assume that $\\alpha_1 \\le \\beta_1 \\le \\alpha_2 \\le \\beta_2 \\le \\dots \\le \\alpha_n \\le \\beta_n$ and likewise $\\phi_1 \\le \\psi_1 \\le \\phi_2 \\le \\psi_2 \\le \\dots \\le \\phi_n \\le \\psi_n$.\n\nTheir intersections may be computed in time bounded by $\\Theta(n + m)$, and they are at most $n + m$.\n\nThis may be done by performing a merge join:\n\n- Let $a \\leftarrow 1, b \\leftarrow 1$.\n- While $a \\le m \\wedge b \\le n$, compute $I = \\iota_a \\cap \\kappa_b$ and report it if $I \\neq \\emptyset$, then increment $a$ if $\\beta_a \\le \\psi_b$, increment $b$ otherwise.\n\nThis works because the while loop preserves the following invariant: all unreported intersections lie at the right of $\\min \\alpha_a, \\beta_b$.\n\nTo see that there are at most $n + m$ intersections it is sufficient to observe that intersections may only be created at boundary points."
  },
  {
   "metadata": {},
   "cell_type": "markdown",
   "source": "### Step 1: Computing the composition of two piecewise linear maps\n\nLet $f$ and $g$ be two piecewise linear maps, that is, functions in the form:\n\n$$\nf(x) = \\left\\{\n    \\begin{array}{ll}\n        x + c_1 & \\text{if } x \\lt \\alpha_1 \\\\\n        x + c_2 & \\text{if } \\alpha_1 \\le x \\lt \\alpha_2 \\\\\n        \\dots \\\\\n        x + c_{m-1} & \\text{if } \\alpha_{m-1} \\le x \\lt \\alpha_{m} \\\\\n        x + c_m & \\text{if } \\alpha_m \\le x \\\\\n    \\end{array}\n\\right.\n$$\n\n$$\ng(x) = \\left\\{\n    \\begin{array}{ll}\n        x + d_1 & \\text{if } x \\lt \\beta_1 \\\\\n        x + d_2 & \\text{if } \\beta_1 \\le x \\lt \\beta_2 \\\\\n        \\dots \\\\\n        x + d_{n-1} & \\text{if } \\beta_{n-1} \\le x \\lt \\beta_{n-1} \\\\\n        x + d_n & \\text{if } \\beta_n \\le x \\\\\n    \\end{array}\n\\right.\n$$\n\nfor arbitrary constants $\\{c_i\\}, \\{d_i\\}$, $m$ pairwise disjoint intervals $A_i = [\\alpha_i, \\alpha_{i+1})$, and $n$ pairwise disjoint intervals $B_i = [\\beta_i, \\beta_{i+1})$. For the sake of convenience, without loss of generality, we take all intervals to be closed on the left and open on the right.\n\nWe wish to compute $g \\circ f$.\n\nFirst, we sort the $B$. This takes time $\\Theta(n \\log n)$. Then, we compute and sort the images through $\\Lambda_i = f(A_i)$ of each of the intervals on which $f$ is defined. This takes time $\\Theta(m \\log m)$. The intersection of these two sorted sets may be computed using the lemma.\n\nBut if $\\Sigma_{ij} = \\Lambda_i \\cap A_j \\neq \\emptyset$ for some $i, j$, that means on the preimage $f^{-1}(\\Sigma_{ij})$ it must hold $(g \\circ f)(x) = x + c_i + d_j$.\n\nRepeated over all intersections, this does in fact determine $g \\circ f$ as a piecewise linear function."
  },
  {
   "metadata": {},
   "cell_type": "markdown",
   "source": "### Step 2: Computing the image of a finite union of intervals through a piecewise linear map\n\nWe can use the same idea as before. Let the intervals be $U_1, U_2, \\dots U_n$ with $U$ being their union, and let the piecewise linear map be $f$ with the same notation as the above paragraph.\n\nWe sort the $U_i$ and the $A_i$ and find their intersections.\n\nIf $\\Sigma_{ij} = A_i \\cap U_j \\neq \\emptyset$ for some $i, j$, then on $\\Sigma_{ij}$ it holds $f(x) = x + c_i$.\n\nThe union of all $f(\\Sigma_{ij})$ is exactly $f(U)$. Those intervals may be overlapping, but it's very easy to find their \"clean\" union: sort the intervals by their initial point, look at them in order, and replace each pair of overlapping intervals with their union by resizing the endpoints."
  },
  {
   "metadata": {},
   "cell_type": "markdown",
   "source": "### Complexity\n\nBoth for the direct computation option (use Step 2 to compute $f_n(f_{n-1}( \\dots f_1(x) \\dots ))$ directly) and for the composition option (use Step 1 to compute $F = f_n \\circ f_{n-1} \\circ \\dots \\circ f_1$, then use Step 2 to compute $F(U)$), the complexity depends on the number of intersections.\n\nIf the procedure from the lemma produces $s$ intersections, the resulting output union of intervals (if we are using the first option) or the map composition (if we are using the second option) will have $s$ intervals. Because we know that intersecting sets of intervals of sizes $m$ and $n$ produces at most $n+m$ intersections, we conclude that both variants of the algorithm have complexity $\\Theta(h \\log h)$ where $h$ is the sum of the number of intervals of all the original piecewise linear maps."
  },
  {
   "metadata": {},
   "cell_type": "markdown",
   "source": "### Bonus\nBecause all of this only uses properties of linear maps, it can be generalized further to \"actual\" linear maps, where each of the cases can be in the form $f(x) = ax + b$ with relatively little effort. And, best of all, it works on _real numbers_ with the only additional effort of bookkeeping on the interval boundaries."
  },
  {
   "metadata": {
    "trusted": true,
    "ExecuteTime": {
     "end_time": "2023-12-06T13:55:54.589648136Z",
     "start_time": "2023-12-06T13:55:54.552597640Z"
    }
   },
   "cell_type": "code",
   "source": [
    "@inputfunc(5, 'chunks')\n",
    "def input_5(f):\n",
    "    list_seeds = list(int(y) for y in f[0].split(':')[1].split())\n",
    "    list_maps = [\n",
    "        [\n",
    "            tuple(int(t) for t in y.split())\n",
    "            for y in x.split('\\n')[1:]\n",
    "        ]\n",
    "        for x in f[1:]\n",
    "    ]\n",
    "    return list_seeds, list_maps\n",
    "\n",
    "\n",
    "@dataclass\n",
    "class IntRange:\n",
    "    lo: int | float\n",
    "    hi: int | float\n",
    "\n",
    "    __bool__ = lambda s: s.lo < s.hi\n",
    "    __lt__ = lambda s, o: (s.lo, s.hi) < (o.lo, o.hi)\n",
    "    __and__ = lambda s, o: IntRange(max(s.lo, o.lo), min(s.hi, o.hi))\n",
    "\n",
    "\n",
    "@dataclass\n",
    "class LinearMap:\n",
    "    delta: int\n",
    "  \n",
    "    __call__ = lambda s, x: IntRange(x.lo + s.delta, x.hi + s.delta)\n",
    "    __invert__ = lambda s: LinearMap(-s.delta)\n",
    "    __matmul__ = lambda s, o: LinearMap(s.delta + o.delta)\n",
    "    I = lambda: LinearMap(0)\n",
    "\n",
    "\n",
    "class IntRangeUnion:\n",
    "    def __init__(self, pieces):\n",
    "        self.union = []\n",
    "        for p in sorted(pieces):\n",
    "            if not self.union:\n",
    "                self.union.append(p)\n",
    "            elif p.lo <= self.union[-1].hi:\n",
    "                self.union[-1].hi = p.hi\n",
    "            else:\n",
    "                self.union.append(p)\n",
    "    \n",
    "    @staticmethod \n",
    "    def from_list(seq):\n",
    "        return IntRangeUnion([\n",
    "            IntRange(seq[l], seq[l] + seq[l+1])\n",
    "            for l in range(0, len(seq), 2)\n",
    "        ])\n",
    "\n",
    "    def inf(self):\n",
    "        return self.union[0].lo\n",
    "\n",
    "\n",
    "class PiecewiseLinearMap:\n",
    "    I = lambda: PiecewiseLinearMap([(IntRange(-inf, +inf), LinearMap.I())])\n",
    "    \n",
    "    def __init__(self, pieces):\n",
    "        self.pieces = sorted(pieces)\n",
    "    \n",
    "    @staticmethod \n",
    "    def from_list(m):\n",
    "        l = sorted([\n",
    "            (IntRange(source, source+length), LinearMap(dest - source))\n",
    "            for dest, source, length in m\n",
    "        ])\n",
    "        \n",
    "        return PiecewiseLinearMap(l + [\n",
    "            (IntRange(-inf, l[0][0].lo), LinearMap.I()),\n",
    "            (IntRange(l[-1][0].hi, inf), LinearMap.I())\n",
    "        ])\n",
    "        \n",
    "    def __matmul__(self, other):\n",
    "        def merge():\n",
    "            l = iter(sorted(self.pieces, key=lambda u: u[1](u[0])))\n",
    "            r = iter(other.pieces)\n",
    "            (a, f), (b, g) = next(l, (None, None)), next(r, (None, None))\n",
    "            while a and b:\n",
    "                if s := (f(a) & b):\n",
    "                    yield (~f)(s), f @ g\n",
    "                if f(a).hi < b.hi:\n",
    "                    a, f = next(l, (None, None))\n",
    "                else:\n",
    "                    b, g = next(r, (None, None))\n",
    "                \n",
    "        return PiecewiseLinearMap(merge()) \n",
    "   \n",
    "    def __call__(self, x):\n",
    "        def merge():\n",
    "            l, r = iter(self.pieces), iter(x.union)\n",
    "            (a, f), b = next(l, (None, None)), next(r, None)\n",
    "            while a and b:\n",
    "                if s := a & b:\n",
    "                    yield f(s)\n",
    "                if a.hi < b.hi:\n",
    "                    a, f = next(l, (None, None))\n",
    "                else:\n",
    "                    b = next(r, None)\n",
    "          \n",
    "        return IntRangeUnion(merge()) \n",
    "         \n",
    "          \n",
    "seeds, maps = input_5()\n",
    "parsed_maps = [PiecewiseLinearMap.from_list(m) for m in maps]\n",
    "\n",
    "piecewise_map = reduce(matmul, parsed_maps, PiecewiseLinearMap.I())\n",
    "map_composition = reduce(lambda u, v: lambda x: v(u(x)), parsed_maps, lambda u: u)\n",
    "\n",
    "\n",
    "part_1_input = IntRangeUnion(IntRange(a, a+1) for a in seeds)\n",
    "A = piecewise_map(part_1_input).inf()\n",
    "B = map_composition(part_1_input).inf()\n",
    "assert A == B == 510109797\n",
    "\n",
    "\n",
    "part_2_input = IntRangeUnion.from_list(seeds)\n",
    "A = piecewise_map(part_2_input).inf()\n",
    "B = map_composition(part_2_input).inf()\n",
    "assert A == B == 9622622"
   ],
   "execution_count": 6,
   "outputs": []
  },
  {
   "cell_type": "markdown",
   "source": [
    "\n",
    "## [Day 6 - Wait For It](https://adventofcode.com/2023/day/6)\n",
    "\n",
    "Solvable entirely with pen and paper!\n",
    "\n",
    "If the available time is $t$, the initial press of the button has length $x$ and the record is $d$, the integer values of $x$ that beat the record are those that satisfy\n",
    "\n",
    "$$\n",
    "x(t-x) > d\n",
    "$$\n",
    "\n",
    "The quadratic equation has solutions:\n",
    "\n",
    "$$\n",
    "x_{1,2} = \\frac{t \\pm \\sqrt{t^2 - 4d}}{2}\n",
    "$$\n",
    "\n",
    "The interval $(x_1, x_2)$ contains exactly $\\left \\lfloor x_1 \\right \\rfloor - \\left \\lfloor x_2 \\right \\rfloor$ integers... unless either $x_1$ or $x_2$ are integers, in which case it contains one less."
   ],
   "metadata": {
    "collapsed": false
   }
  },
  {
   "cell_type": "code",
   "execution_count": 7,
   "outputs": [],
   "source": [
    "@inputfunc(6)\n",
    "def input_6(f):\n",
    "    return f[0].split()[1:], f[1].split()[1:]\n",
    "\n",
    "\n",
    "def integer_solutions(t, d):\n",
    "    fld = isqrt(t**2 - 4*d)\n",
    "    cld = isqrt(t**2 - 4*d - 1) + 1 \n",
    "    x1 = (t + fld) // 2\n",
    "    x2 = (t - cld) // 2\n",
    "   \n",
    "    if fld != cld:\n",
    "        return x1 - x2\n",
    "    \n",
    "    return x1 - x2 + 2 + ((t + fld) % 2) + ((t - cld) % 2)\n",
    "\n",
    "\n",
    "time, distance = input_6()\n",
    "\n",
    "\n",
    "A = prod(integer_solutions(int(t), int(r)) for t, r in zip(time, distance))\n",
    "assert A == 2756160\n",
    "\n",
    "\n",
    "A = integer_solutions(int(''.join(time)), int(''.join(distance)))\n",
    "assert A == 34788142"
   ],
   "metadata": {
    "collapsed": false,
    "ExecuteTime": {
     "end_time": "2023-12-06T13:55:54.608636709Z",
     "start_time": "2023-12-06T13:55:54.590034752Z"
    }
   }
  }
 ],
 "metadata": {
  "interpreter": {
   "hash": "aee8b7b246df8f9039afb4144a1f6fd8d2ca17a180786b69acc140d282b71a49"
  },
  "kernelspec": {
   "name": "python3",
   "display_name": "Python 3",
   "language": "python"
  },
  "language_info": {
   "name": "python",
   "version": "3.10.4",
   "mimetype": "text/x-python",
   "codemirror_mode": {
    "name": "ipython",
    "version": 3
   },
   "pygments_lexer": "ipython3",
   "nbconvert_exporter": "python",
   "file_extension": ".py"
  },
  "toc-autonumbering": false,
  "toc-showcode": false,
  "toc-showmarkdowntxt": false,
  "toc-showtags": false
 },
 "nbformat": 4,
 "nbformat_minor": 4
}
